{
 "cells": [
  {
   "cell_type": "markdown",
   "metadata": {
    "nbgrader": {
     "grade": false,
     "grade_id": "cell-ea6adcdba6a15fba",
     "locked": true,
     "schema_version": 1,
     "solution": false
    }
   },
   "source": [
    "### Required Codio Assignment 3.2: Sorting and Aggregating\n",
    "\n",
    "**Expected Time**: 60 Minutes\n",
    "\n",
    "**Total Points**: 10\n",
    "\n",
    "This activity focuses on sorting the results of a `groupby` operation. The dataset is again the `gapminder` data from plotly.  Your tasks involve aggregating and sorting as well as plotting summary results using `matplotlib`, `seaborn`, and `plotly`.\n",
    "\n",
    "#### Index:\n",
    "\n",
    "- [Problem 1](#Problem-1:-Lowest-to-Highest-Average-Life-Expectancy)\n",
    "- [Problem 2](#Problem-2:-Sorting-GDP)\n",
    "- [Problem 3](#Problem-3:-Sorting-Results-of-Multiple-Aggregates)\n",
    "- [Problem 4](#Problem-4:-Sorting-Custom-Outputs)\n",
    "- [Problem 5](#Problem-5:-Applying-the-\\`column_range\\`-function)"
   ]
  },
  {
   "cell_type": "code",
   "execution_count": 1,
   "metadata": {
    "nbgrader": {
     "grade": false,
     "grade_id": "cell-3d34886fad60d0be",
     "locked": true,
     "schema_version": 1,
     "solution": false
    }
   },
   "outputs": [],
   "source": [
    "import plotly.express as px\n",
    "import pandas as pd\n",
    "import numpy as np\n",
    "import seaborn as sns\n",
    "import matplotlib.pyplot as plt"
   ]
  },
  {
   "cell_type": "code",
   "execution_count": 2,
   "metadata": {
    "nbgrader": {
     "grade": false,
     "grade_id": "cell-76f0f79f7da57214",
     "locked": true,
     "schema_version": 1,
     "solution": false
    }
   },
   "outputs": [],
   "source": [
    "gapminder = px.data.gapminder()"
   ]
  },
  {
   "cell_type": "code",
   "execution_count": 4,
   "metadata": {
    "nbgrader": {
     "grade": false,
     "grade_id": "cell-d6b7f3d8a857ca14",
     "locked": true,
     "schema_version": 1,
     "solution": false
    }
   },
   "outputs": [
    {
     "data": {
      "text/html": [
       "<div>\n",
       "<style scoped>\n",
       "    .dataframe tbody tr th:only-of-type {\n",
       "        vertical-align: middle;\n",
       "    }\n",
       "\n",
       "    .dataframe tbody tr th {\n",
       "        vertical-align: top;\n",
       "    }\n",
       "\n",
       "    .dataframe thead th {\n",
       "        text-align: right;\n",
       "    }\n",
       "</style>\n",
       "<table border=\"1\" class=\"dataframe\">\n",
       "  <thead>\n",
       "    <tr style=\"text-align: right;\">\n",
       "      <th></th>\n",
       "      <th>country</th>\n",
       "      <th>continent</th>\n",
       "      <th>year</th>\n",
       "      <th>lifeExp</th>\n",
       "      <th>pop</th>\n",
       "      <th>gdpPercap</th>\n",
       "      <th>iso_alpha</th>\n",
       "      <th>iso_num</th>\n",
       "    </tr>\n",
       "  </thead>\n",
       "  <tbody>\n",
       "    <tr>\n",
       "      <th>0</th>\n",
       "      <td>Afghanistan</td>\n",
       "      <td>Asia</td>\n",
       "      <td>1952</td>\n",
       "      <td>28.801</td>\n",
       "      <td>8425333</td>\n",
       "      <td>779.445314</td>\n",
       "      <td>AFG</td>\n",
       "      <td>4</td>\n",
       "    </tr>\n",
       "    <tr>\n",
       "      <th>1</th>\n",
       "      <td>Afghanistan</td>\n",
       "      <td>Asia</td>\n",
       "      <td>1957</td>\n",
       "      <td>30.332</td>\n",
       "      <td>9240934</td>\n",
       "      <td>820.853030</td>\n",
       "      <td>AFG</td>\n",
       "      <td>4</td>\n",
       "    </tr>\n",
       "  </tbody>\n",
       "</table>\n",
       "</div>"
      ],
      "text/plain": [
       "       country continent  year  lifeExp      pop   gdpPercap iso_alpha  \\\n",
       "0  Afghanistan      Asia  1952   28.801  8425333  779.445314       AFG   \n",
       "1  Afghanistan      Asia  1957   30.332  9240934  820.853030       AFG   \n",
       "\n",
       "   iso_num  \n",
       "0        4  \n",
       "1        4  "
      ]
     },
     "execution_count": 4,
     "metadata": {},
     "output_type": "execute_result"
    }
   ],
   "source": [
    "gapminder.head(2)"
   ]
  },
  {
   "cell_type": "code",
   "execution_count": 5,
   "metadata": {
    "nbgrader": {
     "grade": false,
     "grade_id": "cell-954d081a14a46272",
     "locked": true,
     "schema_version": 1,
     "solution": false
    }
   },
   "outputs": [
    {
     "name": "stdout",
     "output_type": "stream",
     "text": [
      "<class 'pandas.core.frame.DataFrame'>\n",
      "RangeIndex: 1704 entries, 0 to 1703\n",
      "Data columns (total 8 columns):\n",
      " #   Column     Non-Null Count  Dtype  \n",
      "---  ------     --------------  -----  \n",
      " 0   country    1704 non-null   object \n",
      " 1   continent  1704 non-null   object \n",
      " 2   year       1704 non-null   int64  \n",
      " 3   lifeExp    1704 non-null   float64\n",
      " 4   pop        1704 non-null   int64  \n",
      " 5   gdpPercap  1704 non-null   float64\n",
      " 6   iso_alpha  1704 non-null   object \n",
      " 7   iso_num    1704 non-null   int64  \n",
      "dtypes: float64(2), int64(3), object(3)\n",
      "memory usage: 106.6+ KB\n"
     ]
    }
   ],
   "source": [
    "gapminder.info()"
   ]
  },
  {
   "cell_type": "markdown",
   "metadata": {
    "nbgrader": {
     "grade": false,
     "grade_id": "cell-9ae73b51a1f95520",
     "locked": true,
     "schema_version": 1,
     "solution": false
    }
   },
   "source": [
    "[Back to top](#Index:) \n",
    "\n",
    "### Problem 1: Highest to Lowest Average Life Expectancy\n",
    "\n",
    "**2 Points**\n",
    "\n",
    "\n",
    "Use the `groupby` method on the `gapminder` DataFrame to group the values in the `continent` column. Use a double square bracket notation to apply this operation on the `lifeExp` column. Next, use the pandas function `median()` to compute the median value. Finally, use the `sort_values()` function to sort your results by `lifeExp`. Inside the `sort_values()` function, set the `ascending` argument equal to `False`.\n",
    "\n",
    "Assign your results as a DataFrame to `ans1` below.  "
   ]
  },
  {
   "cell_type": "code",
   "execution_count": 6,
   "metadata": {
    "nbgrader": {
     "grade": false,
     "grade_id": "cell-9174b84554ea287c",
     "locked": false,
     "schema_version": 1,
     "solution": true
    }
   },
   "outputs": [
    {
     "name": "stdout",
     "output_type": "stream",
     "text": [
      "             lifeExp\n",
      "continent           \n",
      "Oceania    74.326208\n",
      "Europe     71.903686\n",
      "Americas   64.658737\n",
      "Asia       60.064903\n",
      "Africa     48.865330\n",
      "<class 'pandas.core.frame.DataFrame'>\n"
     ]
    }
   ],
   "source": [
    "### GRADED\n",
    "\n",
    "ans1 = None\n",
    "\n",
    "### BEGIN SOLUTION\n",
    "ans1 = gapminder.groupby('continent')[['lifeExp']].mean().sort_values(by = 'lifeExp', ascending = False) #group the values in the continent column. Use a double square bracket notation to apply this operation on the lifeExp column.\n",
    "### END SOLUTION\n",
    "\n",
    "# Answer check\n",
    "print(ans1)\n",
    "print(type(ans1))"
   ]
  },
  {
   "cell_type": "code",
   "execution_count": 11,
   "metadata": {},
   "outputs": [
    {
     "name": "stdout",
     "output_type": "stream",
     "text": [
      "           lifeExp\n",
      "continent         \n",
      "Oceania    73.6650\n",
      "Europe     72.2410\n",
      "Americas   67.0480\n",
      "Asia       61.7915\n",
      "Africa     47.7920\n",
      "<class 'pandas.core.frame.DataFrame'>\n"
     ]
    }
   ],
   "source": [
    "### GRADED\n",
    "\n",
    "ans1 = None\n",
    "\n",
    "### BEGIN SOLUTION\n",
    "ans1 = gapminder.groupby('continent')[['lifeExp']].median().sort_values(by = 'lifeExp', ascending = False) #group the values in the continent column. Use a double square bracket notation to apply this operation on the lifeExp column.\n",
    "### END SOLUTION\n",
    "\n",
    "# Answer check\n",
    "print(ans1)\n",
    "print(type(ans1))"
   ]
  },
  {
   "cell_type": "markdown",
   "metadata": {
    "nbgrader": {
     "grade": false,
     "grade_id": "cell-1bea53fc0d43687b",
     "locked": true,
     "schema_version": 1,
     "solution": false
    }
   },
   "source": [
    "[Back to top](#Index:) \n",
    "\n",
    "### Problem 2: Sorting GDP\n",
    "\n",
    "**2 Points**\n",
    "\n",
    "Which country has the highest `gdpPercap`?  Use `groupby` to answer this question and assign your answer as a one-word string representing the name of the country to `ans2` below."
   ]
  },
  {
   "cell_type": "code",
   "execution_count": 13,
   "metadata": {
    "nbgrader": {
     "grade": false,
     "grade_id": "cell-53f700d04cb1c94e",
     "locked": false,
     "schema_version": 1,
     "solution": true
    }
   },
   "outputs": [
    {
     "name": "stdout",
     "output_type": "stream",
     "text": [
      "Kuwait\n",
      "<class 'str'>\n"
     ]
    }
   ],
   "source": [
    "### GRADED\n",
    "\n",
    "ans2 = None\n",
    "\n",
    "### BEGIN SOLUTION\n",
    "ans2 = 'Kuwait' \n",
    "gapminder.groupby('country')[['gdpPercap']].mean().sort_values(by = 'gdpPercap', ascending = False)\n",
    "### END SOLUTION\n",
    "\n",
    "# Answer check\n",
    "print(ans2)\n",
    "print(type(ans2))"
   ]
  },
  {
   "cell_type": "markdown",
   "metadata": {
    "nbgrader": {
     "grade": false,
     "grade_id": "cell-3ebc023b2b54189b",
     "locked": true,
     "schema_version": 1,
     "solution": false
    }
   },
   "source": [
    "[Back to top](#Index:) \n",
    "\n",
    "### Problem 3: Sorting Results of Multiple Aggregates\n",
    "\n",
    "**2 Points**\n",
    "\n",
    "Use the `groupby` method on the `gapminder` DataFrame to group the values in the `continent` column. Next, use the pandas function `agg()` with argument equal to `['mean', 'median', 'std']` to compute the mean, the median, and the standard deviation. Use a double square bracket notation to apply this operation on the `lifeExp` column.  Save this DataFrame to `ans3a` below.  \n",
    "\n",
    "\n",
    "\n",
    "\n",
    "To sort the resulting values by medians from greatest to least, first flatten and rename the columns using the code:\n",
    "\n",
    "```python\n",
    "ans3a.columns = [\" \".join(c) for c in ans3a.columns.to_flat_index()]\n",
    "```\n",
    "\n",
    "\n",
    "Finally, use the `sort_values` function on `ans3a` to sort the results by `lifeExp median`. Inside the `sort_values` function, set the argument to `ascending` equal to `False`. Assign your result to `ans3b`."
   ]
  },
  {
   "cell_type": "code",
   "execution_count": 14,
   "metadata": {
    "nbgrader": {
     "grade": false,
     "grade_id": "cell-52e240bec4e8a6a0",
     "locked": false,
     "schema_version": 1,
     "solution": true
    }
   },
   "outputs": [
    {
     "ename": "TypeError",
     "evalue": "Could not convert AlgeriaAlgeriaAlgeriaAlgeriaAlgeriaAlgeriaAlgeriaAlgeriaAlgeriaAlgeriaAlgeriaAlgeriaAngolaAngolaAngolaAngolaAngolaAngolaAngolaAngolaAngolaAngolaAngolaAngolaBeninBeninBeninBeninBeninBeninBeninBeninBeninBeninBeninBeninBotswanaBotswanaBotswanaBotswanaBotswanaBotswanaBotswanaBotswanaBotswanaBotswanaBotswanaBotswanaBurkina FasoBurkina FasoBurkina FasoBurkina FasoBurkina FasoBurkina FasoBurkina FasoBurkina FasoBurkina FasoBurkina FasoBurkina FasoBurkina FasoBurundiBurundiBurundiBurundiBurundiBurundiBurundiBurundiBurundiBurundiBurundiBurundiCameroonCameroonCameroonCameroonCameroonCameroonCameroonCameroonCameroonCameroonCameroonCameroonCentral African RepublicCentral African RepublicCentral African RepublicCentral African RepublicCentral African RepublicCentral African RepublicCentral African RepublicCentral African RepublicCentral African RepublicCentral African RepublicCentral African RepublicCentral African RepublicChadChadChadChadChadChadChadChadChadChadChadChadComorosComorosComorosComorosComorosComorosComorosComorosComorosComorosComorosComorosCongo, Dem. Rep.Congo, Dem. Rep.Congo, Dem. Rep.Congo, Dem. Rep.Congo, Dem. Rep.Congo, Dem. Rep.Congo, Dem. Rep.Congo, Dem. Rep.Congo, Dem. Rep.Congo, Dem. Rep.Congo, Dem. Rep.Congo, Dem. Rep.Congo, Rep.Congo, Rep.Congo, Rep.Congo, Rep.Congo, Rep.Congo, Rep.Congo, Rep.Congo, Rep.Congo, Rep.Congo, Rep.Congo, Rep.Congo, Rep.Cote d'IvoireCote d'IvoireCote d'IvoireCote d'IvoireCote d'IvoireCote d'IvoireCote d'IvoireCote d'IvoireCote d'IvoireCote d'IvoireCote d'IvoireCote d'IvoireDjiboutiDjiboutiDjiboutiDjiboutiDjiboutiDjiboutiDjiboutiDjiboutiDjiboutiDjiboutiDjiboutiDjiboutiEgyptEgyptEgyptEgyptEgyptEgyptEgyptEgyptEgyptEgyptEgyptEgyptEquatorial GuineaEquatorial GuineaEquatorial GuineaEquatorial GuineaEquatorial GuineaEquatorial GuineaEquatorial GuineaEquatorial GuineaEquatorial GuineaEquatorial GuineaEquatorial GuineaEquatorial GuineaEritreaEritreaEritreaEritreaEritreaEritreaEritreaEritreaEritreaEritreaEritreaEritreaEthiopiaEthiopiaEthiopiaEthiopiaEthiopiaEthiopiaEthiopiaEthiopiaEthiopiaEthiopiaEthiopiaEthiopiaGabonGabonGabonGabonGabonGabonGabonGabonGabonGabonGabonGabonGambiaGambiaGambiaGambiaGambiaGambiaGambiaGambiaGambiaGambiaGambiaGambiaGhanaGhanaGhanaGhanaGhanaGhanaGhanaGhanaGhanaGhanaGhanaGhanaGuineaGuineaGuineaGuineaGuineaGuineaGuineaGuineaGuineaGuineaGuineaGuineaGuinea-BissauGuinea-BissauGuinea-BissauGuinea-BissauGuinea-BissauGuinea-BissauGuinea-BissauGuinea-BissauGuinea-BissauGuinea-BissauGuinea-BissauGuinea-BissauKenyaKenyaKenyaKenyaKenyaKenyaKenyaKenyaKenyaKenyaKenyaKenyaLesothoLesothoLesothoLesothoLesothoLesothoLesothoLesothoLesothoLesothoLesothoLesothoLiberiaLiberiaLiberiaLiberiaLiberiaLiberiaLiberiaLiberiaLiberiaLiberiaLiberiaLiberiaLibyaLibyaLibyaLibyaLibyaLibyaLibyaLibyaLibyaLibyaLibyaLibyaMadagascarMadagascarMadagascarMadagascarMadagascarMadagascarMadagascarMadagascarMadagascarMadagascarMadagascarMadagascarMalawiMalawiMalawiMalawiMalawiMalawiMalawiMalawiMalawiMalawiMalawiMalawiMaliMaliMaliMaliMaliMaliMaliMaliMaliMaliMaliMaliMauritaniaMauritaniaMauritaniaMauritaniaMauritaniaMauritaniaMauritaniaMauritaniaMauritaniaMauritaniaMauritaniaMauritaniaMauritiusMauritiusMauritiusMauritiusMauritiusMauritiusMauritiusMauritiusMauritiusMauritiusMauritiusMauritiusMoroccoMoroccoMoroccoMoroccoMoroccoMoroccoMoroccoMoroccoMoroccoMoroccoMoroccoMoroccoMozambiqueMozambiqueMozambiqueMozambiqueMozambiqueMozambiqueMozambiqueMozambiqueMozambiqueMozambiqueMozambiqueMozambiqueNamibiaNamibiaNamibiaNamibiaNamibiaNamibiaNamibiaNamibiaNamibiaNamibiaNamibiaNamibiaNigerNigerNigerNigerNigerNigerNigerNigerNigerNigerNigerNigerNigeriaNigeriaNigeriaNigeriaNigeriaNigeriaNigeriaNigeriaNigeriaNigeriaNigeriaNigeriaReunionReunionReunionReunionReunionReunionReunionReunionReunionReunionReunionReunionRwandaRwandaRwandaRwandaRwandaRwandaRwandaRwandaRwandaRwandaRwandaRwandaSao Tome and PrincipeSao Tome and PrincipeSao Tome and PrincipeSao Tome and PrincipeSao Tome and PrincipeSao Tome and PrincipeSao Tome and PrincipeSao Tome and PrincipeSao Tome and PrincipeSao Tome and PrincipeSao Tome and PrincipeSao Tome and PrincipeSenegalSenegalSenegalSenegalSenegalSenegalSenegalSenegalSenegalSenegalSenegalSenegalSierra LeoneSierra LeoneSierra LeoneSierra LeoneSierra LeoneSierra LeoneSierra LeoneSierra LeoneSierra LeoneSierra LeoneSierra LeoneSierra LeoneSomaliaSomaliaSomaliaSomaliaSomaliaSomaliaSomaliaSomaliaSomaliaSomaliaSomaliaSomaliaSouth AfricaSouth AfricaSouth AfricaSouth AfricaSouth AfricaSouth AfricaSouth AfricaSouth AfricaSouth AfricaSouth AfricaSouth AfricaSouth AfricaSudanSudanSudanSudanSudanSudanSudanSudanSudanSudanSudanSudanSwazilandSwazilandSwazilandSwazilandSwazilandSwazilandSwazilandSwazilandSwazilandSwazilandSwazilandSwazilandTanzaniaTanzaniaTanzaniaTanzaniaTanzaniaTanzaniaTanzaniaTanzaniaTanzaniaTanzaniaTanzaniaTanzaniaTogoTogoTogoTogoTogoTogoTogoTogoTogoTogoTogoTogoTunisiaTunisiaTunisiaTunisiaTunisiaTunisiaTunisiaTunisiaTunisiaTunisiaTunisiaTunisiaUgandaUgandaUgandaUgandaUgandaUgandaUgandaUgandaUgandaUgandaUgandaUgandaZambiaZambiaZambiaZambiaZambiaZambiaZambiaZambiaZambiaZambiaZambiaZambiaZimbabweZimbabweZimbabweZimbabweZimbabweZimbabweZimbabweZimbabweZimbabweZimbabweZimbabweZimbabwe to numeric",
     "output_type": "error",
     "traceback": [
      "\u001b[1;31m---------------------------------------------------------------------------\u001b[0m",
      "\u001b[1;31mNotImplementedError\u001b[0m                       Traceback (most recent call last)",
      "File \u001b[1;32mc:\\Users\\Administrator\\anaconda3\\Lib\\site-packages\\pandas\\core\\groupby\\groupby.py:1490\u001b[0m, in \u001b[0;36mGroupBy._cython_agg_general.<locals>.array_func\u001b[1;34m(values)\u001b[0m\n\u001b[0;32m   1489\u001b[0m \u001b[39mtry\u001b[39;00m:\n\u001b[1;32m-> 1490\u001b[0m     result \u001b[39m=\u001b[39m \u001b[39mself\u001b[39m\u001b[39m.\u001b[39mgrouper\u001b[39m.\u001b[39m_cython_operation(\n\u001b[0;32m   1491\u001b[0m         \u001b[39m\"\u001b[39m\u001b[39maggregate\u001b[39m\u001b[39m\"\u001b[39m,\n\u001b[0;32m   1492\u001b[0m         values,\n\u001b[0;32m   1493\u001b[0m         how,\n\u001b[0;32m   1494\u001b[0m         axis\u001b[39m=\u001b[39mdata\u001b[39m.\u001b[39mndim \u001b[39m-\u001b[39m \u001b[39m1\u001b[39m,\n\u001b[0;32m   1495\u001b[0m         min_count\u001b[39m=\u001b[39mmin_count,\n\u001b[0;32m   1496\u001b[0m         \u001b[39m*\u001b[39m\u001b[39m*\u001b[39mkwargs,\n\u001b[0;32m   1497\u001b[0m     )\n\u001b[0;32m   1498\u001b[0m \u001b[39mexcept\u001b[39;00m \u001b[39mNotImplementedError\u001b[39;00m:\n\u001b[0;32m   1499\u001b[0m     \u001b[39m# generally if we have numeric_only=False\u001b[39;00m\n\u001b[0;32m   1500\u001b[0m     \u001b[39m# and non-applicable functions\u001b[39;00m\n\u001b[0;32m   1501\u001b[0m     \u001b[39m# try to python agg\u001b[39;00m\n\u001b[0;32m   1502\u001b[0m     \u001b[39m# TODO: shouldn't min_count matter?\u001b[39;00m\n",
      "File \u001b[1;32mc:\\Users\\Administrator\\anaconda3\\Lib\\site-packages\\pandas\\core\\groupby\\ops.py:959\u001b[0m, in \u001b[0;36mBaseGrouper._cython_operation\u001b[1;34m(self, kind, values, how, axis, min_count, **kwargs)\u001b[0m\n\u001b[0;32m    958\u001b[0m ngroups \u001b[39m=\u001b[39m \u001b[39mself\u001b[39m\u001b[39m.\u001b[39mngroups\n\u001b[1;32m--> 959\u001b[0m \u001b[39mreturn\u001b[39;00m cy_op\u001b[39m.\u001b[39mcython_operation(\n\u001b[0;32m    960\u001b[0m     values\u001b[39m=\u001b[39mvalues,\n\u001b[0;32m    961\u001b[0m     axis\u001b[39m=\u001b[39maxis,\n\u001b[0;32m    962\u001b[0m     min_count\u001b[39m=\u001b[39mmin_count,\n\u001b[0;32m    963\u001b[0m     comp_ids\u001b[39m=\u001b[39mids,\n\u001b[0;32m    964\u001b[0m     ngroups\u001b[39m=\u001b[39mngroups,\n\u001b[0;32m    965\u001b[0m     \u001b[39m*\u001b[39m\u001b[39m*\u001b[39mkwargs,\n\u001b[0;32m    966\u001b[0m )\n",
      "File \u001b[1;32mc:\\Users\\Administrator\\anaconda3\\Lib\\site-packages\\pandas\\core\\groupby\\ops.py:657\u001b[0m, in \u001b[0;36mWrappedCythonOp.cython_operation\u001b[1;34m(self, values, axis, min_count, comp_ids, ngroups, **kwargs)\u001b[0m\n\u001b[0;32m    649\u001b[0m     \u001b[39mreturn\u001b[39;00m \u001b[39mself\u001b[39m\u001b[39m.\u001b[39m_ea_wrap_cython_operation(\n\u001b[0;32m    650\u001b[0m         values,\n\u001b[0;32m    651\u001b[0m         min_count\u001b[39m=\u001b[39mmin_count,\n\u001b[1;32m   (...)\u001b[0m\n\u001b[0;32m    654\u001b[0m         \u001b[39m*\u001b[39m\u001b[39m*\u001b[39mkwargs,\n\u001b[0;32m    655\u001b[0m     )\n\u001b[1;32m--> 657\u001b[0m \u001b[39mreturn\u001b[39;00m \u001b[39mself\u001b[39m\u001b[39m.\u001b[39m_cython_op_ndim_compat(\n\u001b[0;32m    658\u001b[0m     values,\n\u001b[0;32m    659\u001b[0m     min_count\u001b[39m=\u001b[39mmin_count,\n\u001b[0;32m    660\u001b[0m     ngroups\u001b[39m=\u001b[39mngroups,\n\u001b[0;32m    661\u001b[0m     comp_ids\u001b[39m=\u001b[39mcomp_ids,\n\u001b[0;32m    662\u001b[0m     mask\u001b[39m=\u001b[39m\u001b[39mNone\u001b[39;00m,\n\u001b[0;32m    663\u001b[0m     \u001b[39m*\u001b[39m\u001b[39m*\u001b[39mkwargs,\n\u001b[0;32m    664\u001b[0m )\n",
      "File \u001b[1;32mc:\\Users\\Administrator\\anaconda3\\Lib\\site-packages\\pandas\\core\\groupby\\ops.py:482\u001b[0m, in \u001b[0;36mWrappedCythonOp._cython_op_ndim_compat\u001b[1;34m(self, values, min_count, ngroups, comp_ids, mask, result_mask, **kwargs)\u001b[0m\n\u001b[0;32m    481\u001b[0m     result_mask \u001b[39m=\u001b[39m result_mask[\u001b[39mNone\u001b[39;00m, :]\n\u001b[1;32m--> 482\u001b[0m res \u001b[39m=\u001b[39m \u001b[39mself\u001b[39m\u001b[39m.\u001b[39m_call_cython_op(\n\u001b[0;32m    483\u001b[0m     values2d,\n\u001b[0;32m    484\u001b[0m     min_count\u001b[39m=\u001b[39mmin_count,\n\u001b[0;32m    485\u001b[0m     ngroups\u001b[39m=\u001b[39mngroups,\n\u001b[0;32m    486\u001b[0m     comp_ids\u001b[39m=\u001b[39mcomp_ids,\n\u001b[0;32m    487\u001b[0m     mask\u001b[39m=\u001b[39mmask,\n\u001b[0;32m    488\u001b[0m     result_mask\u001b[39m=\u001b[39mresult_mask,\n\u001b[0;32m    489\u001b[0m     \u001b[39m*\u001b[39m\u001b[39m*\u001b[39mkwargs,\n\u001b[0;32m    490\u001b[0m )\n\u001b[0;32m    491\u001b[0m \u001b[39mif\u001b[39;00m res\u001b[39m.\u001b[39mshape[\u001b[39m0\u001b[39m] \u001b[39m==\u001b[39m \u001b[39m1\u001b[39m:\n",
      "File \u001b[1;32mc:\\Users\\Administrator\\anaconda3\\Lib\\site-packages\\pandas\\core\\groupby\\ops.py:541\u001b[0m, in \u001b[0;36mWrappedCythonOp._call_cython_op\u001b[1;34m(self, values, min_count, ngroups, comp_ids, mask, result_mask, **kwargs)\u001b[0m\n\u001b[0;32m    540\u001b[0m out_shape \u001b[39m=\u001b[39m \u001b[39mself\u001b[39m\u001b[39m.\u001b[39m_get_output_shape(ngroups, values)\n\u001b[1;32m--> 541\u001b[0m func \u001b[39m=\u001b[39m \u001b[39mself\u001b[39m\u001b[39m.\u001b[39m_get_cython_function(\u001b[39mself\u001b[39m\u001b[39m.\u001b[39mkind, \u001b[39mself\u001b[39m\u001b[39m.\u001b[39mhow, values\u001b[39m.\u001b[39mdtype, is_numeric)\n\u001b[0;32m    542\u001b[0m values \u001b[39m=\u001b[39m \u001b[39mself\u001b[39m\u001b[39m.\u001b[39m_get_cython_vals(values)\n",
      "File \u001b[1;32mc:\\Users\\Administrator\\anaconda3\\Lib\\site-packages\\pandas\\core\\groupby\\ops.py:173\u001b[0m, in \u001b[0;36mWrappedCythonOp._get_cython_function\u001b[1;34m(cls, kind, how, dtype, is_numeric)\u001b[0m\n\u001b[0;32m    171\u001b[0m \u001b[39mif\u001b[39;00m \u001b[39m\"\u001b[39m\u001b[39mobject\u001b[39m\u001b[39m\"\u001b[39m \u001b[39mnot\u001b[39;00m \u001b[39min\u001b[39;00m f\u001b[39m.\u001b[39m__signatures__:\n\u001b[0;32m    172\u001b[0m     \u001b[39m# raise NotImplementedError here rather than TypeError later\u001b[39;00m\n\u001b[1;32m--> 173\u001b[0m     \u001b[39mraise\u001b[39;00m \u001b[39mNotImplementedError\u001b[39;00m(\n\u001b[0;32m    174\u001b[0m         \u001b[39mf\u001b[39m\u001b[39m\"\u001b[39m\u001b[39mfunction is not implemented for this dtype: \u001b[39m\u001b[39m\"\u001b[39m\n\u001b[0;32m    175\u001b[0m         \u001b[39mf\u001b[39m\u001b[39m\"\u001b[39m\u001b[39m[how->\u001b[39m\u001b[39m{\u001b[39;00mhow\u001b[39m}\u001b[39;00m\u001b[39m,dtype->\u001b[39m\u001b[39m{\u001b[39;00mdtype_str\u001b[39m}\u001b[39;00m\u001b[39m]\u001b[39m\u001b[39m\"\u001b[39m\n\u001b[0;32m    176\u001b[0m     )\n\u001b[0;32m    177\u001b[0m \u001b[39mreturn\u001b[39;00m f\n",
      "\u001b[1;31mNotImplementedError\u001b[0m: function is not implemented for this dtype: [how->mean,dtype->object]",
      "\nDuring handling of the above exception, another exception occurred:\n",
      "\u001b[1;31mValueError\u001b[0m                                Traceback (most recent call last)",
      "File \u001b[1;32mc:\\Users\\Administrator\\anaconda3\\Lib\\site-packages\\pandas\\core\\nanops.py:1692\u001b[0m, in \u001b[0;36m_ensure_numeric\u001b[1;34m(x)\u001b[0m\n\u001b[0;32m   1691\u001b[0m \u001b[39mtry\u001b[39;00m:\n\u001b[1;32m-> 1692\u001b[0m     x \u001b[39m=\u001b[39m \u001b[39mfloat\u001b[39m(x)\n\u001b[0;32m   1693\u001b[0m \u001b[39mexcept\u001b[39;00m (\u001b[39mTypeError\u001b[39;00m, \u001b[39mValueError\u001b[39;00m):\n\u001b[0;32m   1694\u001b[0m     \u001b[39m# e.g. \"1+1j\" or \"foo\"\u001b[39;00m\n",
      "\u001b[1;31mValueError\u001b[0m: could not convert string to float: \"AlgeriaAlgeriaAlgeriaAlgeriaAlgeriaAlgeriaAlgeriaAlgeriaAlgeriaAlgeriaAlgeriaAlgeriaAngolaAngolaAngolaAngolaAngolaAngolaAngolaAngolaAngolaAngolaAngolaAngolaBeninBeninBeninBeninBeninBeninBeninBeninBeninBeninBeninBeninBotswanaBotswanaBotswanaBotswanaBotswanaBotswanaBotswanaBotswanaBotswanaBotswanaBotswanaBotswanaBurkina FasoBurkina FasoBurkina FasoBurkina FasoBurkina FasoBurkina FasoBurkina FasoBurkina FasoBurkina FasoBurkina FasoBurkina FasoBurkina FasoBurundiBurundiBurundiBurundiBurundiBurundiBurundiBurundiBurundiBurundiBurundiBurundiCameroonCameroonCameroonCameroonCameroonCameroonCameroonCameroonCameroonCameroonCameroonCameroonCentral African RepublicCentral African RepublicCentral African RepublicCentral African RepublicCentral African RepublicCentral African RepublicCentral African RepublicCentral African RepublicCentral African RepublicCentral African RepublicCentral African RepublicCentral African RepublicChadChadChadChadChadChadChadChadChadChadChadChadComorosComorosComorosComorosComorosComorosComorosComorosComorosComorosComorosComorosCongo, Dem. Rep.Congo, Dem. Rep.Congo, Dem. Rep.Congo, Dem. Rep.Congo, Dem. Rep.Congo, Dem. Rep.Congo, Dem. Rep.Congo, Dem. Rep.Congo, Dem. Rep.Congo, Dem. Rep.Congo, Dem. Rep.Congo, Dem. Rep.Congo, Rep.Congo, Rep.Congo, Rep.Congo, Rep.Congo, Rep.Congo, Rep.Congo, Rep.Congo, Rep.Congo, Rep.Congo, Rep.Congo, Rep.Congo, Rep.Cote d'IvoireCote d'IvoireCote d'IvoireCote d'IvoireCote d'IvoireCote d'IvoireCote d'IvoireCote d'IvoireCote d'IvoireCote d'IvoireCote d'IvoireCote d'IvoireDjiboutiDjiboutiDjiboutiDjiboutiDjiboutiDjiboutiDjiboutiDjiboutiDjiboutiDjiboutiDjiboutiDjiboutiEgyptEgyptEgyptEgyptEgyptEgyptEgyptEgyptEgyptEgyptEgyptEgyptEquatorial GuineaEquatorial GuineaEquatorial GuineaEquatorial GuineaEquatorial GuineaEquatorial GuineaEquatorial GuineaEquatorial GuineaEquatorial GuineaEquatorial GuineaEquatorial GuineaEquatorial GuineaEritreaEritreaEritreaEritreaEritreaEritreaEritreaEritreaEritreaEritreaEritreaEritreaEthiopiaEthiopiaEthiopiaEthiopiaEthiopiaEthiopiaEthiopiaEthiopiaEthiopiaEthiopiaEthiopiaEthiopiaGabonGabonGabonGabonGabonGabonGabonGabonGabonGabonGabonGabonGambiaGambiaGambiaGambiaGambiaGambiaGambiaGambiaGambiaGambiaGambiaGambiaGhanaGhanaGhanaGhanaGhanaGhanaGhanaGhanaGhanaGhanaGhanaGhanaGuineaGuineaGuineaGuineaGuineaGuineaGuineaGuineaGuineaGuineaGuineaGuineaGuinea-BissauGuinea-BissauGuinea-BissauGuinea-BissauGuinea-BissauGuinea-BissauGuinea-BissauGuinea-BissauGuinea-BissauGuinea-BissauGuinea-BissauGuinea-BissauKenyaKenyaKenyaKenyaKenyaKenyaKenyaKenyaKenyaKenyaKenyaKenyaLesothoLesothoLesothoLesothoLesothoLesothoLesothoLesothoLesothoLesothoLesothoLesothoLiberiaLiberiaLiberiaLiberiaLiberiaLiberiaLiberiaLiberiaLiberiaLiberiaLiberiaLiberiaLibyaLibyaLibyaLibyaLibyaLibyaLibyaLibyaLibyaLibyaLibyaLibyaMadagascarMadagascarMadagascarMadagascarMadagascarMadagascarMadagascarMadagascarMadagascarMadagascarMadagascarMadagascarMalawiMalawiMalawiMalawiMalawiMalawiMalawiMalawiMalawiMalawiMalawiMalawiMaliMaliMaliMaliMaliMaliMaliMaliMaliMaliMaliMaliMauritaniaMauritaniaMauritaniaMauritaniaMauritaniaMauritaniaMauritaniaMauritaniaMauritaniaMauritaniaMauritaniaMauritaniaMauritiusMauritiusMauritiusMauritiusMauritiusMauritiusMauritiusMauritiusMauritiusMauritiusMauritiusMauritiusMoroccoMoroccoMoroccoMoroccoMoroccoMoroccoMoroccoMoroccoMoroccoMoroccoMoroccoMoroccoMozambiqueMozambiqueMozambiqueMozambiqueMozambiqueMozambiqueMozambiqueMozambiqueMozambiqueMozambiqueMozambiqueMozambiqueNamibiaNamibiaNamibiaNamibiaNamibiaNamibiaNamibiaNamibiaNamibiaNamibiaNamibiaNamibiaNigerNigerNigerNigerNigerNigerNigerNigerNigerNigerNigerNigerNigeriaNigeriaNigeriaNigeriaNigeriaNigeriaNigeriaNigeriaNigeriaNigeriaNigeriaNigeriaReunionReunionReunionReunionReunionReunionReunionReunionReunionReunionReunionReunionRwandaRwandaRwandaRwandaRwandaRwandaRwandaRwandaRwandaRwandaRwandaRwandaSao Tome and PrincipeSao Tome and PrincipeSao Tome and PrincipeSao Tome and PrincipeSao Tome and PrincipeSao Tome and PrincipeSao Tome and PrincipeSao Tome and PrincipeSao Tome and PrincipeSao Tome and PrincipeSao Tome and PrincipeSao Tome and PrincipeSenegalSenegalSenegalSenegalSenegalSenegalSenegalSenegalSenegalSenegalSenegalSenegalSierra LeoneSierra LeoneSierra LeoneSierra LeoneSierra LeoneSierra LeoneSierra LeoneSierra LeoneSierra LeoneSierra LeoneSierra LeoneSierra LeoneSomaliaSomaliaSomaliaSomaliaSomaliaSomaliaSomaliaSomaliaSomaliaSomaliaSomaliaSomaliaSouth AfricaSouth AfricaSouth AfricaSouth AfricaSouth AfricaSouth AfricaSouth AfricaSouth AfricaSouth AfricaSouth AfricaSouth AfricaSouth AfricaSudanSudanSudanSudanSudanSudanSudanSudanSudanSudanSudanSudanSwazilandSwazilandSwazilandSwazilandSwazilandSwazilandSwazilandSwazilandSwazilandSwazilandSwazilandSwazilandTanzaniaTanzaniaTanzaniaTanzaniaTanzaniaTanzaniaTanzaniaTanzaniaTanzaniaTanzaniaTanzaniaTanzaniaTogoTogoTogoTogoTogoTogoTogoTogoTogoTogoTogoTogoTunisiaTunisiaTunisiaTunisiaTunisiaTunisiaTunisiaTunisiaTunisiaTunisiaTunisiaTunisiaUgandaUgandaUgandaUgandaUgandaUgandaUgandaUgandaUgandaUgandaUgandaUgandaZambiaZambiaZambiaZambiaZambiaZambiaZambiaZambiaZambiaZambiaZambiaZambiaZimbabweZimbabweZimbabweZimbabweZimbabweZimbabweZimbabweZimbabweZimbabweZimbabweZimbabweZimbabwe\"",
      "\nDuring handling of the above exception, another exception occurred:\n",
      "\u001b[1;31mValueError\u001b[0m                                Traceback (most recent call last)",
      "File \u001b[1;32mc:\\Users\\Administrator\\anaconda3\\Lib\\site-packages\\pandas\\core\\nanops.py:1696\u001b[0m, in \u001b[0;36m_ensure_numeric\u001b[1;34m(x)\u001b[0m\n\u001b[0;32m   1695\u001b[0m \u001b[39mtry\u001b[39;00m:\n\u001b[1;32m-> 1696\u001b[0m     x \u001b[39m=\u001b[39m \u001b[39mcomplex\u001b[39m(x)\n\u001b[0;32m   1697\u001b[0m \u001b[39mexcept\u001b[39;00m \u001b[39mValueError\u001b[39;00m \u001b[39mas\u001b[39;00m err:\n\u001b[0;32m   1698\u001b[0m     \u001b[39m# e.g. \"foo\"\u001b[39;00m\n",
      "\u001b[1;31mValueError\u001b[0m: complex() arg is a malformed string",
      "\nThe above exception was the direct cause of the following exception:\n",
      "\u001b[1;31mTypeError\u001b[0m                                 Traceback (most recent call last)",
      "\u001b[1;32mc:\\Users\\Carmen\\Documents\\PreMaster\\ARTIFICIAL INTELLIGENCE\\UCBerkeley ML AI\\Modules\\Module 3 Data Analysis\\Notebooks\\codio_assignment3_2.ipynb Cell 12\u001b[0m line \u001b[0;36m7\n\u001b[0;32m      <a href='vscode-notebook-cell:/c%3A/Users/Carmen/Documents/PreMaster/ARTIFICIAL%20INTELLIGENCE/UCBerkeley%20ML%20AI/Modules/Module%203%20Data%20Analysis/Notebooks/codio_assignment3_2.ipynb#X13sZmlsZQ%3D%3D?line=3'>4</a>\u001b[0m ans3b \u001b[39m=\u001b[39m \u001b[39mNone\u001b[39;00m\n\u001b[0;32m      <a href='vscode-notebook-cell:/c%3A/Users/Carmen/Documents/PreMaster/ARTIFICIAL%20INTELLIGENCE/UCBerkeley%20ML%20AI/Modules/Module%203%20Data%20Analysis/Notebooks/codio_assignment3_2.ipynb#X13sZmlsZQ%3D%3D?line=5'>6</a>\u001b[0m \u001b[39m### BEGIN SOLUTION\u001b[39;00m\n\u001b[1;32m----> <a href='vscode-notebook-cell:/c%3A/Users/Carmen/Documents/PreMaster/ARTIFICIAL%20INTELLIGENCE/UCBerkeley%20ML%20AI/Modules/Module%203%20Data%20Analysis/Notebooks/codio_assignment3_2.ipynb#X13sZmlsZQ%3D%3D?line=6'>7</a>\u001b[0m ans3a \u001b[39m=\u001b[39m gapminder\u001b[39m.\u001b[39mgroupby(\u001b[39m'\u001b[39m\u001b[39mcontinent\u001b[39m\u001b[39m'\u001b[39m)\u001b[39m.\u001b[39magg([\u001b[39m'\u001b[39m\u001b[39mmean\u001b[39m\u001b[39m'\u001b[39m, \u001b[39m'\u001b[39m\u001b[39mstd\u001b[39m\u001b[39m'\u001b[39m, \u001b[39m'\u001b[39m\u001b[39mmedian\u001b[39m\u001b[39m'\u001b[39m])[[\u001b[39m'\u001b[39m\u001b[39mlifeExp\u001b[39m\u001b[39m'\u001b[39m]]\n\u001b[0;32m      <a href='vscode-notebook-cell:/c%3A/Users/Carmen/Documents/PreMaster/ARTIFICIAL%20INTELLIGENCE/UCBerkeley%20ML%20AI/Modules/Module%203%20Data%20Analysis/Notebooks/codio_assignment3_2.ipynb#X13sZmlsZQ%3D%3D?line=7'>8</a>\u001b[0m \u001b[39m#Use the groupby method on the gapminder DataFrame to group the values in the continent column. Next, use the pandas function agg() with argument equal to ['mean', 'median', 'std'] to compute the mean, the median, and the standard deviation. Use a double square bracket notation to apply this operation on the lifeExp column. Save this DataFrame to ans3a below.\u001b[39;00m\n\u001b[0;32m      <a href='vscode-notebook-cell:/c%3A/Users/Carmen/Documents/PreMaster/ARTIFICIAL%20INTELLIGENCE/UCBerkeley%20ML%20AI/Modules/Module%203%20Data%20Analysis/Notebooks/codio_assignment3_2.ipynb#X13sZmlsZQ%3D%3D?line=8'>9</a>\u001b[0m ans3a\u001b[39m.\u001b[39mcolumns \u001b[39m=\u001b[39m [\u001b[39m\"\u001b[39m\u001b[39m \u001b[39m\u001b[39m\"\u001b[39m\u001b[39m.\u001b[39mjoin(c) \u001b[39mfor\u001b[39;00m c \u001b[39min\u001b[39;00m ans3a\u001b[39m.\u001b[39mcolumns\u001b[39m.\u001b[39mto_flat_index()]\n",
      "File \u001b[1;32mc:\\Users\\Administrator\\anaconda3\\Lib\\site-packages\\pandas\\core\\groupby\\generic.py:1269\u001b[0m, in \u001b[0;36mDataFrameGroupBy.aggregate\u001b[1;34m(self, func, engine, engine_kwargs, *args, **kwargs)\u001b[0m\n\u001b[0;32m   1266\u001b[0m func \u001b[39m=\u001b[39m maybe_mangle_lambdas(func)\n\u001b[0;32m   1268\u001b[0m op \u001b[39m=\u001b[39m GroupByApply(\u001b[39mself\u001b[39m, func, args, kwargs)\n\u001b[1;32m-> 1269\u001b[0m result \u001b[39m=\u001b[39m op\u001b[39m.\u001b[39magg()\n\u001b[0;32m   1270\u001b[0m \u001b[39mif\u001b[39;00m \u001b[39mnot\u001b[39;00m is_dict_like(func) \u001b[39mand\u001b[39;00m result \u001b[39mis\u001b[39;00m \u001b[39mnot\u001b[39;00m \u001b[39mNone\u001b[39;00m:\n\u001b[0;32m   1271\u001b[0m     \u001b[39mreturn\u001b[39;00m result\n",
      "File \u001b[1;32mc:\\Users\\Administrator\\anaconda3\\Lib\\site-packages\\pandas\\core\\apply.py:166\u001b[0m, in \u001b[0;36mApply.agg\u001b[1;34m(self)\u001b[0m\n\u001b[0;32m    163\u001b[0m     \u001b[39mreturn\u001b[39;00m \u001b[39mself\u001b[39m\u001b[39m.\u001b[39magg_dict_like()\n\u001b[0;32m    164\u001b[0m \u001b[39melif\u001b[39;00m is_list_like(arg):\n\u001b[0;32m    165\u001b[0m     \u001b[39m# we require a list, but not a 'str'\u001b[39;00m\n\u001b[1;32m--> 166\u001b[0m     \u001b[39mreturn\u001b[39;00m \u001b[39mself\u001b[39m\u001b[39m.\u001b[39magg_list_like()\n\u001b[0;32m    168\u001b[0m \u001b[39mif\u001b[39;00m \u001b[39mcallable\u001b[39m(arg):\n\u001b[0;32m    169\u001b[0m     f \u001b[39m=\u001b[39m com\u001b[39m.\u001b[39mget_cython_func(arg)\n",
      "File \u001b[1;32mc:\\Users\\Administrator\\anaconda3\\Lib\\site-packages\\pandas\\core\\apply.py:355\u001b[0m, in \u001b[0;36mApply.agg_list_like\u001b[1;34m(self)\u001b[0m\n\u001b[0;32m    351\u001b[0m     new_res \u001b[39m=\u001b[39m colg\u001b[39m.\u001b[39maggregate(\n\u001b[0;32m    352\u001b[0m         arg, \u001b[39mself\u001b[39m\u001b[39m.\u001b[39maxis, \u001b[39m*\u001b[39m\u001b[39mself\u001b[39m\u001b[39m.\u001b[39margs, \u001b[39m*\u001b[39m\u001b[39m*\u001b[39m\u001b[39mself\u001b[39m\u001b[39m.\u001b[39mkwargs\n\u001b[0;32m    353\u001b[0m     )\n\u001b[0;32m    354\u001b[0m \u001b[39melse\u001b[39;00m:\n\u001b[1;32m--> 355\u001b[0m     new_res \u001b[39m=\u001b[39m colg\u001b[39m.\u001b[39maggregate(arg, \u001b[39m*\u001b[39m\u001b[39mself\u001b[39m\u001b[39m.\u001b[39margs, \u001b[39m*\u001b[39m\u001b[39m*\u001b[39m\u001b[39mself\u001b[39m\u001b[39m.\u001b[39mkwargs)\n\u001b[0;32m    356\u001b[0m results\u001b[39m.\u001b[39mappend(new_res)\n\u001b[0;32m    357\u001b[0m indices\u001b[39m.\u001b[39mappend(index)\n",
      "File \u001b[1;32mc:\\Users\\Administrator\\anaconda3\\Lib\\site-packages\\pandas\\core\\groupby\\generic.py:238\u001b[0m, in \u001b[0;36mSeriesGroupBy.aggregate\u001b[1;34m(self, func, engine, engine_kwargs, *args, **kwargs)\u001b[0m\n\u001b[0;32m    234\u001b[0m \u001b[39melif\u001b[39;00m \u001b[39misinstance\u001b[39m(func, abc\u001b[39m.\u001b[39mIterable):\n\u001b[0;32m    235\u001b[0m     \u001b[39m# Catch instances of lists / tuples\u001b[39;00m\n\u001b[0;32m    236\u001b[0m     \u001b[39m# but not the class list / tuple itself.\u001b[39;00m\n\u001b[0;32m    237\u001b[0m     func \u001b[39m=\u001b[39m maybe_mangle_lambdas(func)\n\u001b[1;32m--> 238\u001b[0m     ret \u001b[39m=\u001b[39m \u001b[39mself\u001b[39m\u001b[39m.\u001b[39m_aggregate_multiple_funcs(func, \u001b[39m*\u001b[39margs, \u001b[39m*\u001b[39m\u001b[39m*\u001b[39mkwargs)\n\u001b[0;32m    239\u001b[0m     \u001b[39mif\u001b[39;00m relabeling:\n\u001b[0;32m    240\u001b[0m         \u001b[39m# columns is not narrowed by mypy from relabeling flag\u001b[39;00m\n\u001b[0;32m    241\u001b[0m         \u001b[39massert\u001b[39;00m columns \u001b[39mis\u001b[39;00m \u001b[39mnot\u001b[39;00m \u001b[39mNone\u001b[39;00m  \u001b[39m# for mypy\u001b[39;00m\n",
      "File \u001b[1;32mc:\\Users\\Administrator\\anaconda3\\Lib\\site-packages\\pandas\\core\\groupby\\generic.py:316\u001b[0m, in \u001b[0;36mSeriesGroupBy._aggregate_multiple_funcs\u001b[1;34m(self, arg, *args, **kwargs)\u001b[0m\n\u001b[0;32m    314\u001b[0m     \u001b[39mfor\u001b[39;00m idx, (name, func) \u001b[39min\u001b[39;00m \u001b[39menumerate\u001b[39m(arg):\n\u001b[0;32m    315\u001b[0m         key \u001b[39m=\u001b[39m base\u001b[39m.\u001b[39mOutputKey(label\u001b[39m=\u001b[39mname, position\u001b[39m=\u001b[39midx)\n\u001b[1;32m--> 316\u001b[0m         results[key] \u001b[39m=\u001b[39m \u001b[39mself\u001b[39m\u001b[39m.\u001b[39maggregate(func, \u001b[39m*\u001b[39margs, \u001b[39m*\u001b[39m\u001b[39m*\u001b[39mkwargs)\n\u001b[0;32m    318\u001b[0m \u001b[39mif\u001b[39;00m \u001b[39many\u001b[39m(\u001b[39misinstance\u001b[39m(x, DataFrame) \u001b[39mfor\u001b[39;00m x \u001b[39min\u001b[39;00m results\u001b[39m.\u001b[39mvalues()):\n\u001b[0;32m    319\u001b[0m     \u001b[39mfrom\u001b[39;00m \u001b[39mpandas\u001b[39;00m \u001b[39mimport\u001b[39;00m concat\n",
      "File \u001b[1;32mc:\\Users\\Administrator\\anaconda3\\Lib\\site-packages\\pandas\\core\\groupby\\generic.py:232\u001b[0m, in \u001b[0;36mSeriesGroupBy.aggregate\u001b[1;34m(self, func, engine, engine_kwargs, *args, **kwargs)\u001b[0m\n\u001b[0;32m    229\u001b[0m     kwargs \u001b[39m=\u001b[39m {}\n\u001b[0;32m    231\u001b[0m \u001b[39mif\u001b[39;00m \u001b[39misinstance\u001b[39m(func, \u001b[39mstr\u001b[39m):\n\u001b[1;32m--> 232\u001b[0m     \u001b[39mreturn\u001b[39;00m \u001b[39mgetattr\u001b[39m(\u001b[39mself\u001b[39m, func)(\u001b[39m*\u001b[39margs, \u001b[39m*\u001b[39m\u001b[39m*\u001b[39mkwargs)\n\u001b[0;32m    234\u001b[0m \u001b[39melif\u001b[39;00m \u001b[39misinstance\u001b[39m(func, abc\u001b[39m.\u001b[39mIterable):\n\u001b[0;32m    235\u001b[0m     \u001b[39m# Catch instances of lists / tuples\u001b[39;00m\n\u001b[0;32m    236\u001b[0m     \u001b[39m# but not the class list / tuple itself.\u001b[39;00m\n\u001b[0;32m    237\u001b[0m     func \u001b[39m=\u001b[39m maybe_mangle_lambdas(func)\n",
      "File \u001b[1;32mc:\\Users\\Administrator\\anaconda3\\Lib\\site-packages\\pandas\\core\\groupby\\groupby.py:1855\u001b[0m, in \u001b[0;36mGroupBy.mean\u001b[1;34m(self, numeric_only, engine, engine_kwargs)\u001b[0m\n\u001b[0;32m   1853\u001b[0m     \u001b[39mreturn\u001b[39;00m \u001b[39mself\u001b[39m\u001b[39m.\u001b[39m_numba_agg_general(sliding_mean, engine_kwargs)\n\u001b[0;32m   1854\u001b[0m \u001b[39melse\u001b[39;00m:\n\u001b[1;32m-> 1855\u001b[0m     result \u001b[39m=\u001b[39m \u001b[39mself\u001b[39m\u001b[39m.\u001b[39m_cython_agg_general(\n\u001b[0;32m   1856\u001b[0m         \u001b[39m\"\u001b[39m\u001b[39mmean\u001b[39m\u001b[39m\"\u001b[39m,\n\u001b[0;32m   1857\u001b[0m         alt\u001b[39m=\u001b[39m\u001b[39mlambda\u001b[39;00m x: Series(x)\u001b[39m.\u001b[39mmean(numeric_only\u001b[39m=\u001b[39mnumeric_only),\n\u001b[0;32m   1858\u001b[0m         numeric_only\u001b[39m=\u001b[39mnumeric_only,\n\u001b[0;32m   1859\u001b[0m     )\n\u001b[0;32m   1860\u001b[0m     \u001b[39mreturn\u001b[39;00m result\u001b[39m.\u001b[39m__finalize__(\u001b[39mself\u001b[39m\u001b[39m.\u001b[39mobj, method\u001b[39m=\u001b[39m\u001b[39m\"\u001b[39m\u001b[39mgroupby\u001b[39m\u001b[39m\"\u001b[39m)\n",
      "File \u001b[1;32mc:\\Users\\Administrator\\anaconda3\\Lib\\site-packages\\pandas\\core\\groupby\\groupby.py:1507\u001b[0m, in \u001b[0;36mGroupBy._cython_agg_general\u001b[1;34m(self, how, alt, numeric_only, min_count, **kwargs)\u001b[0m\n\u001b[0;32m   1503\u001b[0m         result \u001b[39m=\u001b[39m \u001b[39mself\u001b[39m\u001b[39m.\u001b[39m_agg_py_fallback(values, ndim\u001b[39m=\u001b[39mdata\u001b[39m.\u001b[39mndim, alt\u001b[39m=\u001b[39malt)\n\u001b[0;32m   1505\u001b[0m     \u001b[39mreturn\u001b[39;00m result\n\u001b[1;32m-> 1507\u001b[0m new_mgr \u001b[39m=\u001b[39m data\u001b[39m.\u001b[39mgrouped_reduce(array_func)\n\u001b[0;32m   1508\u001b[0m res \u001b[39m=\u001b[39m \u001b[39mself\u001b[39m\u001b[39m.\u001b[39m_wrap_agged_manager(new_mgr)\n\u001b[0;32m   1509\u001b[0m out \u001b[39m=\u001b[39m \u001b[39mself\u001b[39m\u001b[39m.\u001b[39m_wrap_aggregated_output(res)\n",
      "File \u001b[1;32mc:\\Users\\Administrator\\anaconda3\\Lib\\site-packages\\pandas\\core\\internals\\base.py:197\u001b[0m, in \u001b[0;36mSingleDataManager.grouped_reduce\u001b[1;34m(self, func)\u001b[0m\n\u001b[0;32m    195\u001b[0m \u001b[39mdef\u001b[39;00m \u001b[39mgrouped_reduce\u001b[39m(\u001b[39mself\u001b[39m, func):\n\u001b[0;32m    196\u001b[0m     arr \u001b[39m=\u001b[39m \u001b[39mself\u001b[39m\u001b[39m.\u001b[39marray\n\u001b[1;32m--> 197\u001b[0m     res \u001b[39m=\u001b[39m func(arr)\n\u001b[0;32m    198\u001b[0m     index \u001b[39m=\u001b[39m default_index(\u001b[39mlen\u001b[39m(res))\n\u001b[0;32m    200\u001b[0m     mgr \u001b[39m=\u001b[39m \u001b[39mtype\u001b[39m(\u001b[39mself\u001b[39m)\u001b[39m.\u001b[39mfrom_array(res, index)\n",
      "File \u001b[1;32mc:\\Users\\Administrator\\anaconda3\\Lib\\site-packages\\pandas\\core\\groupby\\groupby.py:1503\u001b[0m, in \u001b[0;36mGroupBy._cython_agg_general.<locals>.array_func\u001b[1;34m(values)\u001b[0m\n\u001b[0;32m   1490\u001b[0m     result \u001b[39m=\u001b[39m \u001b[39mself\u001b[39m\u001b[39m.\u001b[39mgrouper\u001b[39m.\u001b[39m_cython_operation(\n\u001b[0;32m   1491\u001b[0m         \u001b[39m\"\u001b[39m\u001b[39maggregate\u001b[39m\u001b[39m\"\u001b[39m,\n\u001b[0;32m   1492\u001b[0m         values,\n\u001b[1;32m   (...)\u001b[0m\n\u001b[0;32m   1496\u001b[0m         \u001b[39m*\u001b[39m\u001b[39m*\u001b[39mkwargs,\n\u001b[0;32m   1497\u001b[0m     )\n\u001b[0;32m   1498\u001b[0m \u001b[39mexcept\u001b[39;00m \u001b[39mNotImplementedError\u001b[39;00m:\n\u001b[0;32m   1499\u001b[0m     \u001b[39m# generally if we have numeric_only=False\u001b[39;00m\n\u001b[0;32m   1500\u001b[0m     \u001b[39m# and non-applicable functions\u001b[39;00m\n\u001b[0;32m   1501\u001b[0m     \u001b[39m# try to python agg\u001b[39;00m\n\u001b[0;32m   1502\u001b[0m     \u001b[39m# TODO: shouldn't min_count matter?\u001b[39;00m\n\u001b[1;32m-> 1503\u001b[0m     result \u001b[39m=\u001b[39m \u001b[39mself\u001b[39m\u001b[39m.\u001b[39m_agg_py_fallback(values, ndim\u001b[39m=\u001b[39mdata\u001b[39m.\u001b[39mndim, alt\u001b[39m=\u001b[39malt)\n\u001b[0;32m   1505\u001b[0m \u001b[39mreturn\u001b[39;00m result\n",
      "File \u001b[1;32mc:\\Users\\Administrator\\anaconda3\\Lib\\site-packages\\pandas\\core\\groupby\\groupby.py:1457\u001b[0m, in \u001b[0;36mGroupBy._agg_py_fallback\u001b[1;34m(self, values, ndim, alt)\u001b[0m\n\u001b[0;32m   1452\u001b[0m     ser \u001b[39m=\u001b[39m df\u001b[39m.\u001b[39miloc[:, \u001b[39m0\u001b[39m]\n\u001b[0;32m   1454\u001b[0m \u001b[39m# We do not get here with UDFs, so we know that our dtype\u001b[39;00m\n\u001b[0;32m   1455\u001b[0m \u001b[39m#  should always be preserved by the implemented aggregations\u001b[39;00m\n\u001b[0;32m   1456\u001b[0m \u001b[39m# TODO: Is this exactly right; see WrappedCythonOp get_result_dtype?\u001b[39;00m\n\u001b[1;32m-> 1457\u001b[0m res_values \u001b[39m=\u001b[39m \u001b[39mself\u001b[39m\u001b[39m.\u001b[39mgrouper\u001b[39m.\u001b[39magg_series(ser, alt, preserve_dtype\u001b[39m=\u001b[39m\u001b[39mTrue\u001b[39;00m)\n\u001b[0;32m   1459\u001b[0m \u001b[39mif\u001b[39;00m \u001b[39misinstance\u001b[39m(values, Categorical):\n\u001b[0;32m   1460\u001b[0m     \u001b[39m# Because we only get here with known dtype-preserving\u001b[39;00m\n\u001b[0;32m   1461\u001b[0m     \u001b[39m#  reductions, we cast back to Categorical.\u001b[39;00m\n\u001b[0;32m   1462\u001b[0m     \u001b[39m# TODO: if we ever get \"rank\" working, exclude it here.\u001b[39;00m\n\u001b[0;32m   1463\u001b[0m     res_values \u001b[39m=\u001b[39m \u001b[39mtype\u001b[39m(values)\u001b[39m.\u001b[39m_from_sequence(res_values, dtype\u001b[39m=\u001b[39mvalues\u001b[39m.\u001b[39mdtype)\n",
      "File \u001b[1;32mc:\\Users\\Administrator\\anaconda3\\Lib\\site-packages\\pandas\\core\\groupby\\ops.py:994\u001b[0m, in \u001b[0;36mBaseGrouper.agg_series\u001b[1;34m(self, obj, func, preserve_dtype)\u001b[0m\n\u001b[0;32m    987\u001b[0m \u001b[39mif\u001b[39;00m \u001b[39mlen\u001b[39m(obj) \u001b[39m>\u001b[39m \u001b[39m0\u001b[39m \u001b[39mand\u001b[39;00m \u001b[39mnot\u001b[39;00m \u001b[39misinstance\u001b[39m(obj\u001b[39m.\u001b[39m_values, np\u001b[39m.\u001b[39mndarray):\n\u001b[0;32m    988\u001b[0m     \u001b[39m# we can preserve a little bit more aggressively with EA dtype\u001b[39;00m\n\u001b[0;32m    989\u001b[0m     \u001b[39m#  because maybe_cast_pointwise_result will do a try/except\u001b[39;00m\n\u001b[0;32m    990\u001b[0m     \u001b[39m#  with _from_sequence.  NB we are assuming here that _from_sequence\u001b[39;00m\n\u001b[0;32m    991\u001b[0m     \u001b[39m#  is sufficiently strict that it casts appropriately.\u001b[39;00m\n\u001b[0;32m    992\u001b[0m     preserve_dtype \u001b[39m=\u001b[39m \u001b[39mTrue\u001b[39;00m\n\u001b[1;32m--> 994\u001b[0m result \u001b[39m=\u001b[39m \u001b[39mself\u001b[39m\u001b[39m.\u001b[39m_aggregate_series_pure_python(obj, func)\n\u001b[0;32m    996\u001b[0m npvalues \u001b[39m=\u001b[39m lib\u001b[39m.\u001b[39mmaybe_convert_objects(result, try_float\u001b[39m=\u001b[39m\u001b[39mFalse\u001b[39;00m)\n\u001b[0;32m    997\u001b[0m \u001b[39mif\u001b[39;00m preserve_dtype:\n",
      "File \u001b[1;32mc:\\Users\\Administrator\\anaconda3\\Lib\\site-packages\\pandas\\core\\groupby\\ops.py:1015\u001b[0m, in \u001b[0;36mBaseGrouper._aggregate_series_pure_python\u001b[1;34m(self, obj, func)\u001b[0m\n\u001b[0;32m   1012\u001b[0m splitter \u001b[39m=\u001b[39m \u001b[39mself\u001b[39m\u001b[39m.\u001b[39m_get_splitter(obj, axis\u001b[39m=\u001b[39m\u001b[39m0\u001b[39m)\n\u001b[0;32m   1014\u001b[0m \u001b[39mfor\u001b[39;00m i, group \u001b[39min\u001b[39;00m \u001b[39menumerate\u001b[39m(splitter):\n\u001b[1;32m-> 1015\u001b[0m     res \u001b[39m=\u001b[39m func(group)\n\u001b[0;32m   1016\u001b[0m     res \u001b[39m=\u001b[39m libreduction\u001b[39m.\u001b[39mextract_result(res)\n\u001b[0;32m   1018\u001b[0m     \u001b[39mif\u001b[39;00m \u001b[39mnot\u001b[39;00m initialized:\n\u001b[0;32m   1019\u001b[0m         \u001b[39m# We only do this validation on the first iteration\u001b[39;00m\n",
      "File \u001b[1;32mc:\\Users\\Administrator\\anaconda3\\Lib\\site-packages\\pandas\\core\\groupby\\groupby.py:1857\u001b[0m, in \u001b[0;36mGroupBy.mean.<locals>.<lambda>\u001b[1;34m(x)\u001b[0m\n\u001b[0;32m   1853\u001b[0m     \u001b[39mreturn\u001b[39;00m \u001b[39mself\u001b[39m\u001b[39m.\u001b[39m_numba_agg_general(sliding_mean, engine_kwargs)\n\u001b[0;32m   1854\u001b[0m \u001b[39melse\u001b[39;00m:\n\u001b[0;32m   1855\u001b[0m     result \u001b[39m=\u001b[39m \u001b[39mself\u001b[39m\u001b[39m.\u001b[39m_cython_agg_general(\n\u001b[0;32m   1856\u001b[0m         \u001b[39m\"\u001b[39m\u001b[39mmean\u001b[39m\u001b[39m\"\u001b[39m,\n\u001b[1;32m-> 1857\u001b[0m         alt\u001b[39m=\u001b[39m\u001b[39mlambda\u001b[39;00m x: Series(x)\u001b[39m.\u001b[39mmean(numeric_only\u001b[39m=\u001b[39mnumeric_only),\n\u001b[0;32m   1858\u001b[0m         numeric_only\u001b[39m=\u001b[39mnumeric_only,\n\u001b[0;32m   1859\u001b[0m     )\n\u001b[0;32m   1860\u001b[0m     \u001b[39mreturn\u001b[39;00m result\u001b[39m.\u001b[39m__finalize__(\u001b[39mself\u001b[39m\u001b[39m.\u001b[39mobj, method\u001b[39m=\u001b[39m\u001b[39m\"\u001b[39m\u001b[39mgroupby\u001b[39m\u001b[39m\"\u001b[39m)\n",
      "File \u001b[1;32mc:\\Users\\Administrator\\anaconda3\\Lib\\site-packages\\pandas\\core\\generic.py:11556\u001b[0m, in \u001b[0;36mNDFrame._add_numeric_operations.<locals>.mean\u001b[1;34m(self, axis, skipna, numeric_only, **kwargs)\u001b[0m\n\u001b[0;32m  11539\u001b[0m \u001b[39m@doc\u001b[39m(\n\u001b[0;32m  11540\u001b[0m     _num_doc,\n\u001b[0;32m  11541\u001b[0m     desc\u001b[39m=\u001b[39m\u001b[39m\"\u001b[39m\u001b[39mReturn the mean of the values over the requested axis.\u001b[39m\u001b[39m\"\u001b[39m,\n\u001b[1;32m   (...)\u001b[0m\n\u001b[0;32m  11554\u001b[0m     \u001b[39m*\u001b[39m\u001b[39m*\u001b[39mkwargs,\n\u001b[0;32m  11555\u001b[0m ):\n\u001b[1;32m> 11556\u001b[0m     \u001b[39mreturn\u001b[39;00m NDFrame\u001b[39m.\u001b[39mmean(\u001b[39mself\u001b[39m, axis, skipna, numeric_only, \u001b[39m*\u001b[39m\u001b[39m*\u001b[39mkwargs)\n",
      "File \u001b[1;32mc:\\Users\\Administrator\\anaconda3\\Lib\\site-packages\\pandas\\core\\generic.py:11201\u001b[0m, in \u001b[0;36mNDFrame.mean\u001b[1;34m(self, axis, skipna, numeric_only, **kwargs)\u001b[0m\n\u001b[0;32m  11194\u001b[0m \u001b[39mdef\u001b[39;00m \u001b[39mmean\u001b[39m(\n\u001b[0;32m  11195\u001b[0m     \u001b[39mself\u001b[39m,\n\u001b[0;32m  11196\u001b[0m     axis: Axis \u001b[39m|\u001b[39m \u001b[39mNone\u001b[39;00m \u001b[39m=\u001b[39m \u001b[39m0\u001b[39m,\n\u001b[1;32m   (...)\u001b[0m\n\u001b[0;32m  11199\u001b[0m     \u001b[39m*\u001b[39m\u001b[39m*\u001b[39mkwargs,\n\u001b[0;32m  11200\u001b[0m ) \u001b[39m-\u001b[39m\u001b[39m>\u001b[39m Series \u001b[39m|\u001b[39m \u001b[39mfloat\u001b[39m:\n\u001b[1;32m> 11201\u001b[0m     \u001b[39mreturn\u001b[39;00m \u001b[39mself\u001b[39m\u001b[39m.\u001b[39m_stat_function(\n\u001b[0;32m  11202\u001b[0m         \u001b[39m\"\u001b[39m\u001b[39mmean\u001b[39m\u001b[39m\"\u001b[39m, nanops\u001b[39m.\u001b[39mnanmean, axis, skipna, numeric_only, \u001b[39m*\u001b[39m\u001b[39m*\u001b[39mkwargs\n\u001b[0;32m  11203\u001b[0m     )\n",
      "File \u001b[1;32mc:\\Users\\Administrator\\anaconda3\\Lib\\site-packages\\pandas\\core\\generic.py:11158\u001b[0m, in \u001b[0;36mNDFrame._stat_function\u001b[1;34m(self, name, func, axis, skipna, numeric_only, **kwargs)\u001b[0m\n\u001b[0;32m  11154\u001b[0m     nv\u001b[39m.\u001b[39mvalidate_stat_func((), kwargs, fname\u001b[39m=\u001b[39mname)\n\u001b[0;32m  11156\u001b[0m validate_bool_kwarg(skipna, \u001b[39m\"\u001b[39m\u001b[39mskipna\u001b[39m\u001b[39m\"\u001b[39m, none_allowed\u001b[39m=\u001b[39m\u001b[39mFalse\u001b[39;00m)\n\u001b[1;32m> 11158\u001b[0m \u001b[39mreturn\u001b[39;00m \u001b[39mself\u001b[39m\u001b[39m.\u001b[39m_reduce(\n\u001b[0;32m  11159\u001b[0m     func, name\u001b[39m=\u001b[39mname, axis\u001b[39m=\u001b[39maxis, skipna\u001b[39m=\u001b[39mskipna, numeric_only\u001b[39m=\u001b[39mnumeric_only\n\u001b[0;32m  11160\u001b[0m )\n",
      "File \u001b[1;32mc:\\Users\\Administrator\\anaconda3\\Lib\\site-packages\\pandas\\core\\series.py:4670\u001b[0m, in \u001b[0;36mSeries._reduce\u001b[1;34m(self, op, name, axis, skipna, numeric_only, filter_type, **kwds)\u001b[0m\n\u001b[0;32m   4665\u001b[0m     \u001b[39mraise\u001b[39;00m \u001b[39mTypeError\u001b[39;00m(\n\u001b[0;32m   4666\u001b[0m         \u001b[39mf\u001b[39m\u001b[39m\"\u001b[39m\u001b[39mSeries.\u001b[39m\u001b[39m{\u001b[39;00mname\u001b[39m}\u001b[39;00m\u001b[39m does not allow \u001b[39m\u001b[39m{\u001b[39;00mkwd_name\u001b[39m}\u001b[39;00m\u001b[39m=\u001b[39m\u001b[39m{\u001b[39;00mnumeric_only\u001b[39m}\u001b[39;00m\u001b[39m \u001b[39m\u001b[39m\"\u001b[39m\n\u001b[0;32m   4667\u001b[0m         \u001b[39m\"\u001b[39m\u001b[39mwith non-numeric dtypes.\u001b[39m\u001b[39m\"\u001b[39m\n\u001b[0;32m   4668\u001b[0m     )\n\u001b[0;32m   4669\u001b[0m \u001b[39mwith\u001b[39;00m np\u001b[39m.\u001b[39merrstate(\u001b[39mall\u001b[39m\u001b[39m=\u001b[39m\u001b[39m\"\u001b[39m\u001b[39mignore\u001b[39m\u001b[39m\"\u001b[39m):\n\u001b[1;32m-> 4670\u001b[0m     \u001b[39mreturn\u001b[39;00m op(delegate, skipna\u001b[39m=\u001b[39mskipna, \u001b[39m*\u001b[39m\u001b[39m*\u001b[39mkwds)\n",
      "File \u001b[1;32mc:\\Users\\Administrator\\anaconda3\\Lib\\site-packages\\pandas\\core\\nanops.py:96\u001b[0m, in \u001b[0;36mdisallow.__call__.<locals>._f\u001b[1;34m(*args, **kwargs)\u001b[0m\n\u001b[0;32m     94\u001b[0m \u001b[39mtry\u001b[39;00m:\n\u001b[0;32m     95\u001b[0m     \u001b[39mwith\u001b[39;00m np\u001b[39m.\u001b[39merrstate(invalid\u001b[39m=\u001b[39m\u001b[39m\"\u001b[39m\u001b[39mignore\u001b[39m\u001b[39m\"\u001b[39m):\n\u001b[1;32m---> 96\u001b[0m         \u001b[39mreturn\u001b[39;00m f(\u001b[39m*\u001b[39margs, \u001b[39m*\u001b[39m\u001b[39m*\u001b[39mkwargs)\n\u001b[0;32m     97\u001b[0m \u001b[39mexcept\u001b[39;00m \u001b[39mValueError\u001b[39;00m \u001b[39mas\u001b[39;00m e:\n\u001b[0;32m     98\u001b[0m     \u001b[39m# we want to transform an object array\u001b[39;00m\n\u001b[0;32m     99\u001b[0m     \u001b[39m# ValueError message to the more typical TypeError\u001b[39;00m\n\u001b[0;32m    100\u001b[0m     \u001b[39m# e.g. this is normally a disallowed function on\u001b[39;00m\n\u001b[0;32m    101\u001b[0m     \u001b[39m# object arrays that contain strings\u001b[39;00m\n\u001b[0;32m    102\u001b[0m     \u001b[39mif\u001b[39;00m is_object_dtype(args[\u001b[39m0\u001b[39m]):\n",
      "File \u001b[1;32mc:\\Users\\Administrator\\anaconda3\\Lib\\site-packages\\pandas\\core\\nanops.py:158\u001b[0m, in \u001b[0;36mbottleneck_switch.__call__.<locals>.f\u001b[1;34m(values, axis, skipna, **kwds)\u001b[0m\n\u001b[0;32m    156\u001b[0m         result \u001b[39m=\u001b[39m alt(values, axis\u001b[39m=\u001b[39maxis, skipna\u001b[39m=\u001b[39mskipna, \u001b[39m*\u001b[39m\u001b[39m*\u001b[39mkwds)\n\u001b[0;32m    157\u001b[0m \u001b[39melse\u001b[39;00m:\n\u001b[1;32m--> 158\u001b[0m     result \u001b[39m=\u001b[39m alt(values, axis\u001b[39m=\u001b[39maxis, skipna\u001b[39m=\u001b[39mskipna, \u001b[39m*\u001b[39m\u001b[39m*\u001b[39mkwds)\n\u001b[0;32m    160\u001b[0m \u001b[39mreturn\u001b[39;00m result\n",
      "File \u001b[1;32mc:\\Users\\Administrator\\anaconda3\\Lib\\site-packages\\pandas\\core\\nanops.py:421\u001b[0m, in \u001b[0;36m_datetimelike_compat.<locals>.new_func\u001b[1;34m(values, axis, skipna, mask, **kwargs)\u001b[0m\n\u001b[0;32m    418\u001b[0m \u001b[39mif\u001b[39;00m datetimelike \u001b[39mand\u001b[39;00m mask \u001b[39mis\u001b[39;00m \u001b[39mNone\u001b[39;00m:\n\u001b[0;32m    419\u001b[0m     mask \u001b[39m=\u001b[39m isna(values)\n\u001b[1;32m--> 421\u001b[0m result \u001b[39m=\u001b[39m func(values, axis\u001b[39m=\u001b[39maxis, skipna\u001b[39m=\u001b[39mskipna, mask\u001b[39m=\u001b[39mmask, \u001b[39m*\u001b[39m\u001b[39m*\u001b[39mkwargs)\n\u001b[0;32m    423\u001b[0m \u001b[39mif\u001b[39;00m datetimelike:\n\u001b[0;32m    424\u001b[0m     result \u001b[39m=\u001b[39m _wrap_results(result, orig_values\u001b[39m.\u001b[39mdtype, fill_value\u001b[39m=\u001b[39miNaT)\n",
      "File \u001b[1;32mc:\\Users\\Administrator\\anaconda3\\Lib\\site-packages\\pandas\\core\\nanops.py:727\u001b[0m, in \u001b[0;36mnanmean\u001b[1;34m(values, axis, skipna, mask)\u001b[0m\n\u001b[0;32m    724\u001b[0m     dtype_count \u001b[39m=\u001b[39m dtype\n\u001b[0;32m    726\u001b[0m count \u001b[39m=\u001b[39m _get_counts(values\u001b[39m.\u001b[39mshape, mask, axis, dtype\u001b[39m=\u001b[39mdtype_count)\n\u001b[1;32m--> 727\u001b[0m the_sum \u001b[39m=\u001b[39m _ensure_numeric(values\u001b[39m.\u001b[39msum(axis, dtype\u001b[39m=\u001b[39mdtype_sum))\n\u001b[0;32m    729\u001b[0m \u001b[39mif\u001b[39;00m axis \u001b[39mis\u001b[39;00m \u001b[39mnot\u001b[39;00m \u001b[39mNone\u001b[39;00m \u001b[39mand\u001b[39;00m \u001b[39mgetattr\u001b[39m(the_sum, \u001b[39m\"\u001b[39m\u001b[39mndim\u001b[39m\u001b[39m\"\u001b[39m, \u001b[39mFalse\u001b[39;00m):\n\u001b[0;32m    730\u001b[0m     count \u001b[39m=\u001b[39m cast(np\u001b[39m.\u001b[39mndarray, count)\n",
      "File \u001b[1;32mc:\\Users\\Administrator\\anaconda3\\Lib\\site-packages\\pandas\\core\\nanops.py:1699\u001b[0m, in \u001b[0;36m_ensure_numeric\u001b[1;34m(x)\u001b[0m\n\u001b[0;32m   1696\u001b[0m             x \u001b[39m=\u001b[39m \u001b[39mcomplex\u001b[39m(x)\n\u001b[0;32m   1697\u001b[0m         \u001b[39mexcept\u001b[39;00m \u001b[39mValueError\u001b[39;00m \u001b[39mas\u001b[39;00m err:\n\u001b[0;32m   1698\u001b[0m             \u001b[39m# e.g. \"foo\"\u001b[39;00m\n\u001b[1;32m-> 1699\u001b[0m             \u001b[39mraise\u001b[39;00m \u001b[39mTypeError\u001b[39;00m(\u001b[39mf\u001b[39m\u001b[39m\"\u001b[39m\u001b[39mCould not convert \u001b[39m\u001b[39m{\u001b[39;00mx\u001b[39m}\u001b[39;00m\u001b[39m to numeric\u001b[39m\u001b[39m\"\u001b[39m) \u001b[39mfrom\u001b[39;00m \u001b[39merr\u001b[39;00m\n\u001b[0;32m   1700\u001b[0m \u001b[39mreturn\u001b[39;00m x\n",
      "\u001b[1;31mTypeError\u001b[0m: Could not convert AlgeriaAlgeriaAlgeriaAlgeriaAlgeriaAlgeriaAlgeriaAlgeriaAlgeriaAlgeriaAlgeriaAlgeriaAngolaAngolaAngolaAngolaAngolaAngolaAngolaAngolaAngolaAngolaAngolaAngolaBeninBeninBeninBeninBeninBeninBeninBeninBeninBeninBeninBeninBotswanaBotswanaBotswanaBotswanaBotswanaBotswanaBotswanaBotswanaBotswanaBotswanaBotswanaBotswanaBurkina FasoBurkina FasoBurkina FasoBurkina FasoBurkina FasoBurkina FasoBurkina FasoBurkina FasoBurkina FasoBurkina FasoBurkina FasoBurkina FasoBurundiBurundiBurundiBurundiBurundiBurundiBurundiBurundiBurundiBurundiBurundiBurundiCameroonCameroonCameroonCameroonCameroonCameroonCameroonCameroonCameroonCameroonCameroonCameroonCentral African RepublicCentral African RepublicCentral African RepublicCentral African RepublicCentral African RepublicCentral African RepublicCentral African RepublicCentral African RepublicCentral African RepublicCentral African RepublicCentral African RepublicCentral African RepublicChadChadChadChadChadChadChadChadChadChadChadChadComorosComorosComorosComorosComorosComorosComorosComorosComorosComorosComorosComorosCongo, Dem. Rep.Congo, Dem. Rep.Congo, Dem. Rep.Congo, Dem. Rep.Congo, Dem. Rep.Congo, Dem. Rep.Congo, Dem. Rep.Congo, Dem. Rep.Congo, Dem. Rep.Congo, Dem. Rep.Congo, Dem. Rep.Congo, Dem. Rep.Congo, Rep.Congo, Rep.Congo, Rep.Congo, Rep.Congo, Rep.Congo, Rep.Congo, Rep.Congo, Rep.Congo, Rep.Congo, Rep.Congo, Rep.Congo, Rep.Cote d'IvoireCote d'IvoireCote d'IvoireCote d'IvoireCote d'IvoireCote d'IvoireCote d'IvoireCote d'IvoireCote d'IvoireCote d'IvoireCote d'IvoireCote d'IvoireDjiboutiDjiboutiDjiboutiDjiboutiDjiboutiDjiboutiDjiboutiDjiboutiDjiboutiDjiboutiDjiboutiDjiboutiEgyptEgyptEgyptEgyptEgyptEgyptEgyptEgyptEgyptEgyptEgyptEgyptEquatorial GuineaEquatorial GuineaEquatorial GuineaEquatorial GuineaEquatorial GuineaEquatorial GuineaEquatorial GuineaEquatorial GuineaEquatorial GuineaEquatorial GuineaEquatorial GuineaEquatorial GuineaEritreaEritreaEritreaEritreaEritreaEritreaEritreaEritreaEritreaEritreaEritreaEritreaEthiopiaEthiopiaEthiopiaEthiopiaEthiopiaEthiopiaEthiopiaEthiopiaEthiopiaEthiopiaEthiopiaEthiopiaGabonGabonGabonGabonGabonGabonGabonGabonGabonGabonGabonGabonGambiaGambiaGambiaGambiaGambiaGambiaGambiaGambiaGambiaGambiaGambiaGambiaGhanaGhanaGhanaGhanaGhanaGhanaGhanaGhanaGhanaGhanaGhanaGhanaGuineaGuineaGuineaGuineaGuineaGuineaGuineaGuineaGuineaGuineaGuineaGuineaGuinea-BissauGuinea-BissauGuinea-BissauGuinea-BissauGuinea-BissauGuinea-BissauGuinea-BissauGuinea-BissauGuinea-BissauGuinea-BissauGuinea-BissauGuinea-BissauKenyaKenyaKenyaKenyaKenyaKenyaKenyaKenyaKenyaKenyaKenyaKenyaLesothoLesothoLesothoLesothoLesothoLesothoLesothoLesothoLesothoLesothoLesothoLesothoLiberiaLiberiaLiberiaLiberiaLiberiaLiberiaLiberiaLiberiaLiberiaLiberiaLiberiaLiberiaLibyaLibyaLibyaLibyaLibyaLibyaLibyaLibyaLibyaLibyaLibyaLibyaMadagascarMadagascarMadagascarMadagascarMadagascarMadagascarMadagascarMadagascarMadagascarMadagascarMadagascarMadagascarMalawiMalawiMalawiMalawiMalawiMalawiMalawiMalawiMalawiMalawiMalawiMalawiMaliMaliMaliMaliMaliMaliMaliMaliMaliMaliMaliMaliMauritaniaMauritaniaMauritaniaMauritaniaMauritaniaMauritaniaMauritaniaMauritaniaMauritaniaMauritaniaMauritaniaMauritaniaMauritiusMauritiusMauritiusMauritiusMauritiusMauritiusMauritiusMauritiusMauritiusMauritiusMauritiusMauritiusMoroccoMoroccoMoroccoMoroccoMoroccoMoroccoMoroccoMoroccoMoroccoMoroccoMoroccoMoroccoMozambiqueMozambiqueMozambiqueMozambiqueMozambiqueMozambiqueMozambiqueMozambiqueMozambiqueMozambiqueMozambiqueMozambiqueNamibiaNamibiaNamibiaNamibiaNamibiaNamibiaNamibiaNamibiaNamibiaNamibiaNamibiaNamibiaNigerNigerNigerNigerNigerNigerNigerNigerNigerNigerNigerNigerNigeriaNigeriaNigeriaNigeriaNigeriaNigeriaNigeriaNigeriaNigeriaNigeriaNigeriaNigeriaReunionReunionReunionReunionReunionReunionReunionReunionReunionReunionReunionReunionRwandaRwandaRwandaRwandaRwandaRwandaRwandaRwandaRwandaRwandaRwandaRwandaSao Tome and PrincipeSao Tome and PrincipeSao Tome and PrincipeSao Tome and PrincipeSao Tome and PrincipeSao Tome and PrincipeSao Tome and PrincipeSao Tome and PrincipeSao Tome and PrincipeSao Tome and PrincipeSao Tome and PrincipeSao Tome and PrincipeSenegalSenegalSenegalSenegalSenegalSenegalSenegalSenegalSenegalSenegalSenegalSenegalSierra LeoneSierra LeoneSierra LeoneSierra LeoneSierra LeoneSierra LeoneSierra LeoneSierra LeoneSierra LeoneSierra LeoneSierra LeoneSierra LeoneSomaliaSomaliaSomaliaSomaliaSomaliaSomaliaSomaliaSomaliaSomaliaSomaliaSomaliaSomaliaSouth AfricaSouth AfricaSouth AfricaSouth AfricaSouth AfricaSouth AfricaSouth AfricaSouth AfricaSouth AfricaSouth AfricaSouth AfricaSouth AfricaSudanSudanSudanSudanSudanSudanSudanSudanSudanSudanSudanSudanSwazilandSwazilandSwazilandSwazilandSwazilandSwazilandSwazilandSwazilandSwazilandSwazilandSwazilandSwazilandTanzaniaTanzaniaTanzaniaTanzaniaTanzaniaTanzaniaTanzaniaTanzaniaTanzaniaTanzaniaTanzaniaTanzaniaTogoTogoTogoTogoTogoTogoTogoTogoTogoTogoTogoTogoTunisiaTunisiaTunisiaTunisiaTunisiaTunisiaTunisiaTunisiaTunisiaTunisiaTunisiaTunisiaUgandaUgandaUgandaUgandaUgandaUgandaUgandaUgandaUgandaUgandaUgandaUgandaZambiaZambiaZambiaZambiaZambiaZambiaZambiaZambiaZambiaZambiaZambiaZambiaZimbabweZimbabweZimbabweZimbabweZimbabweZimbabweZimbabweZimbabweZimbabweZimbabweZimbabweZimbabwe to numeric"
     ]
    }
   ],
   "source": [
    "### GRADED\n",
    "\n",
    "ans3a = None\n",
    "ans3b = None\n",
    "\n",
    "### BEGIN SOLUTION\n",
    "ans3a = gapminder.groupby('continent').agg(['mean', 'std', 'median'])[['lifeExp']]\n",
    "#Use the groupby method on the gapminder DataFrame to group the values in the continent column. Next, use the pandas function agg() with argument equal to ['mean', 'median', 'std'] to compute the mean, the median, and the standard deviation. Use a double square bracket notation to apply this operation on the lifeExp column. Save this DataFrame to ans3a below.\n",
    "ans3a.columns = [\" \".join(c) for c in ans3a.columns.to_flat_index()]\n",
    "#To sort the resulting values by medians from greatest to least, first flatten and rename the columns using the code:\n",
    "ans3b = ans3a.sort_values(by = 'lifeExp median',ascending=False)\n",
    "#use the sort_values function on ans3a to sort the results by lifeExp median. Inside the sort_values function set the argument ascending equal to False. Assign your result to ans3b.\n",
    "\n",
    "### END SOLUTION\n",
    "\n",
    "# Answer check\n",
    "print(ans3a)\n",
    "print(ans3b)"
   ]
  },
  {
   "cell_type": "markdown",
   "metadata": {
    "nbgrader": {
     "grade": false,
     "grade_id": "cell-96f7c21c0351e655",
     "locked": true,
     "schema_version": 1,
     "solution": false
    }
   },
   "source": [
    "[Back to top](#Index:) \n",
    "\n",
    "### Problem 4: Sorting Custom Outputs\n",
    "\n",
    "**2 Points**\n",
    "\n",
    "Complete the definition of the function `column_range` according to the instructions below:\n",
    "\n",
    "- The `column_range` function should take `col` as input argument.\n",
    "- The `column_range` function should return the difference between the maximum and the minimum value of `col.\n"
   ]
  },
  {
   "cell_type": "code",
   "execution_count": 15,
   "metadata": {
    "nbgrader": {
     "grade": false,
     "grade_id": "cell-ef54140f4c5e26da",
     "locked": false,
     "schema_version": 1,
     "solution": true
    }
   },
   "outputs": [
    {
     "data": {
      "text/plain": [
       "59.00399999999999"
      ]
     },
     "execution_count": 15,
     "metadata": {},
     "output_type": "execute_result"
    }
   ],
   "source": [
    "### GRADED\n",
    "\n",
    "def column_range():\n",
    "    '''\n",
    "    This function takes in a pandas series and returns\n",
    "    the range of the series (max - min) as a float.\n",
    "    '''\n",
    "    pass\n",
    "\n",
    "### BEGIN SOLUTION\n",
    "def column_range(col):\n",
    "    return col.max() - col.min()\n",
    "### END SOLUTION\n",
    "\n",
    "# Answer check\n",
    "column_range(gapminder['lifeExp'])"
   ]
  },
  {
   "cell_type": "markdown",
   "metadata": {
    "nbgrader": {
     "grade": false,
     "grade_id": "cell-d477c09a95ab23ab",
     "locked": true,
     "schema_version": 1,
     "solution": false
    }
   },
   "source": [
    "[Back to top](#Index:) \n",
    "\n",
    "### Problem 5: Applying the `column_range` function\n",
    "\n",
    "**2 Points**\n",
    "\n",
    "\n",
    "\n",
    "Use the `groupby` method on the `gapminder` DataFrame to group the values in the `continent` column.  Use a double square bracket notation to apply this operation on the `gdpPercap` column. Next, use the `apply()` function with argument equal to `column_range`. Finally, use the `sort_values()` function to sort the values by `gdpPercap`. Inside the `sort_values()` function, set the argument to `ascending` equal to `False`. Save this DataFrame to `ans5`. below.  "
   ]
  },
  {
   "cell_type": "code",
   "execution_count": 16,
   "metadata": {
    "nbgrader": {
     "grade": false,
     "grade_id": "cell-c44321bb8f95b1c6",
     "locked": false,
     "schema_version": 1,
     "solution": true
    }
   },
   "outputs": [
    {
     "data": {
      "text/html": [
       "<div>\n",
       "<style scoped>\n",
       "    .dataframe tbody tr th:only-of-type {\n",
       "        vertical-align: middle;\n",
       "    }\n",
       "\n",
       "    .dataframe tbody tr th {\n",
       "        vertical-align: top;\n",
       "    }\n",
       "\n",
       "    .dataframe thead th {\n",
       "        text-align: right;\n",
       "    }\n",
       "</style>\n",
       "<table border=\"1\" class=\"dataframe\">\n",
       "  <thead>\n",
       "    <tr style=\"text-align: right;\">\n",
       "      <th></th>\n",
       "      <th>gdpPercap</th>\n",
       "    </tr>\n",
       "    <tr>\n",
       "      <th>continent</th>\n",
       "      <th></th>\n",
       "    </tr>\n",
       "  </thead>\n",
       "  <tbody>\n",
       "    <tr>\n",
       "      <th>Asia</th>\n",
       "      <td>113192.132900</td>\n",
       "    </tr>\n",
       "    <tr>\n",
       "      <th>Europe</th>\n",
       "      <td>48383.656975</td>\n",
       "    </tr>\n",
       "    <tr>\n",
       "      <th>Americas</th>\n",
       "      <td>41750.015936</td>\n",
       "    </tr>\n",
       "    <tr>\n",
       "      <th>Oceania</th>\n",
       "      <td>24395.771800</td>\n",
       "    </tr>\n",
       "    <tr>\n",
       "      <th>Africa</th>\n",
       "      <td>21710.045883</td>\n",
       "    </tr>\n",
       "  </tbody>\n",
       "</table>\n",
       "</div>"
      ],
      "text/plain": [
       "               gdpPercap\n",
       "continent               \n",
       "Asia       113192.132900\n",
       "Europe      48383.656975\n",
       "Americas    41750.015936\n",
       "Oceania     24395.771800\n",
       "Africa      21710.045883"
      ]
     },
     "execution_count": 16,
     "metadata": {},
     "output_type": "execute_result"
    }
   ],
   "source": [
    "### GRADED\n",
    "\n",
    "ans5 = None\n",
    "\n",
    "### BEGIN SOLUTION\n",
    "ans5 = gapminder.groupby('continent')[['gdpPercap']].apply(column_range).sort_values(by = 'gdpPercap', ascending = False)\n",
    "### END SOLUTION\n",
    "\n",
    "# Answer check\n",
    "ans5"
   ]
  }
 ],
 "metadata": {
  "celltoolbar": "Create Assignment",
  "kernelspec": {
   "display_name": "Python 3 (ipykernel)",
   "language": "python",
   "name": "python3"
  },
  "language_info": {
   "codemirror_mode": {
    "name": "ipython",
    "version": 3
   },
   "file_extension": ".py",
   "mimetype": "text/x-python",
   "name": "python",
   "nbconvert_exporter": "python",
   "pygments_lexer": "ipython3",
   "version": "3.11.5"
  }
 },
 "nbformat": 4,
 "nbformat_minor": 4
}
