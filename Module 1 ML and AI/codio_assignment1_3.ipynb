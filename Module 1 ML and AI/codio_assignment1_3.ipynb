{
 "cells": [
  {
   "cell_type": "markdown",
   "id": "f639309d",
   "metadata": {
    "nbgrader": {
     "grade": false,
     "grade_id": "cell-e1db32c15778e963",
     "locked": true,
     "schema_version": 1,
     "solution": false
    }
   },
   "source": [
    "## Required Codio Assignment 1.3: Selecting Data in Multiple Ways\n",
    "\n",
    "**Expected Time: 45 Minutes**\n",
    "\n",
    "**Total Points: 20 Points**\n",
    "\n",
    "In this assignment, you will practice selecting data using `loc[]`, `iloc[]`, and `split`.\n",
    "\n",
    "## Index:\n",
    "\n",
    "- [Part 1](#Part-one)\n",
    "- [Part 2](#Part-two)\n",
    "- [Part 3](#Part-three)"
   ]
  },
  {
   "cell_type": "code",
   "execution_count": 1,
   "id": "8fb9fea8",
   "metadata": {},
   "outputs": [],
   "source": [
    "import pandas as pd"
   ]
  },
  {
   "cell_type": "markdown",
   "id": "bf9afa9a",
   "metadata": {
    "nbgrader": {
     "grade": false,
     "grade_id": "cell-c5192e6fb172717e",
     "locked": true,
     "schema_version": 1,
     "solution": false
    }
   },
   "source": [
    "[Back to top](#Index:) \n",
    "\n",
    "## Part one\n",
    "\n",
    "### Using `loc[]` to select data\n",
    "\n",
    "**2 Points each**\n",
    "\n",
    "In this part of the assignment, return the required information from the `data` DataFrame using the `loc[]` method."
   ]
  },
  {
   "cell_type": "code",
   "execution_count": 2,
   "id": "dd9f7601",
   "metadata": {},
   "outputs": [
    {
     "data": {
      "text/html": [
       "<div>\n",
       "<style scoped>\n",
       "    .dataframe tbody tr th:only-of-type {\n",
       "        vertical-align: middle;\n",
       "    }\n",
       "\n",
       "    .dataframe tbody tr th {\n",
       "        vertical-align: top;\n",
       "    }\n",
       "\n",
       "    .dataframe thead th {\n",
       "        text-align: right;\n",
       "    }\n",
       "</style>\n",
       "<table border=\"1\" class=\"dataframe\">\n",
       "  <thead>\n",
       "    <tr style=\"text-align: right;\">\n",
       "      <th></th>\n",
       "      <th>Unnamed: 0</th>\n",
       "      <th>Name</th>\n",
       "      <th>Team</th>\n",
       "      <th>Position</th>\n",
       "      <th>Height</th>\n",
       "      <th>College</th>\n",
       "      <th>Number</th>\n",
       "      <th>Age</th>\n",
       "      <th>Weight</th>\n",
       "      <th>Salary</th>\n",
       "    </tr>\n",
       "  </thead>\n",
       "  <tbody>\n",
       "    <tr>\n",
       "      <th>0</th>\n",
       "      <td>0</td>\n",
       "      <td>Avery Bradley</td>\n",
       "      <td>Boston Celtics</td>\n",
       "      <td>PG</td>\n",
       "      <td>6-2</td>\n",
       "      <td>Texas</td>\n",
       "      <td>0.0</td>\n",
       "      <td>25.0</td>\n",
       "      <td>180.0</td>\n",
       "      <td>7730337.0</td>\n",
       "    </tr>\n",
       "    <tr>\n",
       "      <th>1</th>\n",
       "      <td>1</td>\n",
       "      <td>Jae Crowder</td>\n",
       "      <td>Boston Celtics</td>\n",
       "      <td>SF</td>\n",
       "      <td>6-6</td>\n",
       "      <td>Marquette</td>\n",
       "      <td>99.0</td>\n",
       "      <td>25.0</td>\n",
       "      <td>235.0</td>\n",
       "      <td>6796117.0</td>\n",
       "    </tr>\n",
       "    <tr>\n",
       "      <th>2</th>\n",
       "      <td>2</td>\n",
       "      <td>John Holland</td>\n",
       "      <td>Boston Celtics</td>\n",
       "      <td>SG</td>\n",
       "      <td>6-5</td>\n",
       "      <td>Boston University</td>\n",
       "      <td>30.0</td>\n",
       "      <td>27.0</td>\n",
       "      <td>205.0</td>\n",
       "      <td>0.0</td>\n",
       "    </tr>\n",
       "    <tr>\n",
       "      <th>3</th>\n",
       "      <td>3</td>\n",
       "      <td>R.J. Hunter</td>\n",
       "      <td>Boston Celtics</td>\n",
       "      <td>SG</td>\n",
       "      <td>6-5</td>\n",
       "      <td>Georgia State</td>\n",
       "      <td>28.0</td>\n",
       "      <td>22.0</td>\n",
       "      <td>185.0</td>\n",
       "      <td>1148640.0</td>\n",
       "    </tr>\n",
       "    <tr>\n",
       "      <th>4</th>\n",
       "      <td>4</td>\n",
       "      <td>Jonas Jerebko</td>\n",
       "      <td>Boston Celtics</td>\n",
       "      <td>PF</td>\n",
       "      <td>6-10</td>\n",
       "      <td>NaN</td>\n",
       "      <td>8.0</td>\n",
       "      <td>29.0</td>\n",
       "      <td>231.0</td>\n",
       "      <td>5000000.0</td>\n",
       "    </tr>\n",
       "  </tbody>\n",
       "</table>\n",
       "</div>"
      ],
      "text/plain": [
       "   Unnamed: 0           Name            Team Position Height  \\\n",
       "0           0  Avery Bradley  Boston Celtics       PG    6-2   \n",
       "1           1    Jae Crowder  Boston Celtics       SF    6-6   \n",
       "2           2   John Holland  Boston Celtics       SG    6-5   \n",
       "3           3    R.J. Hunter  Boston Celtics       SG    6-5   \n",
       "4           4  Jonas Jerebko  Boston Celtics       PF   6-10   \n",
       "\n",
       "             College  Number   Age  Weight     Salary  \n",
       "0              Texas     0.0  25.0   180.0  7730337.0  \n",
       "1          Marquette    99.0  25.0   235.0  6796117.0  \n",
       "2  Boston University    30.0  27.0   205.0        0.0  \n",
       "3      Georgia State    28.0  22.0   185.0  1148640.0  \n",
       "4                NaN     8.0  29.0   231.0  5000000.0  "
      ]
     },
     "execution_count": 2,
     "metadata": {},
     "output_type": "execute_result"
    }
   ],
   "source": [
    "#create the DataFrame utilizing Pandas \n",
    "data = pd.read_csv('data/nba.csv')\n",
    "data = data.iloc[:-1 , :]\n",
    "data.head(5)"
   ]
  },
  {
   "cell_type": "markdown",
   "id": "33f7f16a",
   "metadata": {
    "nbgrader": {
     "grade": false,
     "grade_id": "cell-664c4fbe2139b828",
     "locked": true,
     "schema_version": 1,
     "solution": false
    }
   },
   "source": [
    "Use the `loc[]` method to retrieve the first row of the `data` DataFrame and assign the result to the `locinfo` variable."
   ]
  },
  {
   "cell_type": "code",
   "execution_count": 3,
   "id": "57ca7512",
   "metadata": {
    "nbgrader": {
     "grade": false,
     "grade_id": "cell-b045abc8cbfc7df8",
     "locked": false,
     "schema_version": 1,
     "solution": true
    }
   },
   "outputs": [
    {
     "name": "stdout",
     "output_type": "stream",
     "text": [
      "Unnamed: 0                 0\n",
      "Name           Avery Bradley\n",
      "Team          Boston Celtics\n",
      "Position                  PG\n",
      "Height                   6-2\n",
      "College                Texas\n",
      "Number                   0.0\n",
      "Age                     25.0\n",
      "Weight                 180.0\n",
      "Salary             7730337.0\n",
      "Name: 0, dtype: object\n"
     ]
    }
   ],
   "source": [
    "### GRADED\n",
    "\n",
    "\n",
    "locinfo = None\n",
    "\n",
    "### BEGIN SOLUTION\n",
    "locinfo = data.loc[0]\n",
    "### END SOLUTION\n",
    "\n",
    "# ANSWER CHECK\n",
    "print(locinfo)"
   ]
  },
  {
   "cell_type": "markdown",
   "id": "c75b7fd6",
   "metadata": {
    "nbgrader": {
     "grade": false,
     "grade_id": "cell-5d5143963d896b5a",
     "locked": true,
     "schema_version": 1,
     "solution": false
    }
   },
   "source": [
    "Use the `loc[]` method on the `data` DataFrame to retrieve the information about LeBron James' `Name` and `Team`. Assign the result to the `teamdata` variable."
   ]
  },
  {
   "cell_type": "code",
   "execution_count": 4,
   "id": "e1174d77",
   "metadata": {
    "nbgrader": {
     "grade": false,
     "grade_id": "cell-2ce96b09f45395ce",
     "locked": false,
     "schema_version": 1,
     "solution": true
    }
   },
   "outputs": [
    {
     "name": "stdout",
     "output_type": "stream",
     "text": [
      "             Name                 Team\n",
      "169  LeBron James  Cleveland Cavaliers\n"
     ]
    }
   ],
   "source": [
    "### GRADED\n",
    "\n",
    "\n",
    "teamdata = None\n",
    "\n",
    "### BEGIN SOLUTION\n",
    "teamdata = data.loc[data.Name == 'LeBron James', 'Name':'Team']\n",
    "### END SOLUTION\n",
    "\n",
    "# ANSWER CHECK\n",
    "print(teamdata)"
   ]
  },
  {
   "cell_type": "markdown",
   "id": "f09afc68",
   "metadata": {
    "nbgrader": {
     "grade": false,
     "grade_id": "cell-3dbaee614a4b6329",
     "locked": true,
     "schema_version": 1,
     "solution": false
    }
   },
   "source": [
    "[Back to top](#Index:) \n",
    "\n",
    "## Part two\n",
    "\n",
    "### Using `iloc[]` to select data\n",
    "\n",
    "In this part of the assignment, return the required information from the `data` DataFrame using the `iloc[]` method.\n",
    "\n",
    "**2 Points each**\n",
    "\n",
    "Use the `iloc[]` method to retrieve the first row of the `data` DataFrame and assign the result to the `fr` variable."
   ]
  },
  {
   "cell_type": "code",
   "execution_count": 5,
   "id": "793ad2ec",
   "metadata": {
    "nbgrader": {
     "grade": false,
     "grade_id": "cell-ac4f90f3ca044a80",
     "locked": false,
     "schema_version": 1,
     "solution": true
    }
   },
   "outputs": [
    {
     "name": "stdout",
     "output_type": "stream",
     "text": [
      "Unnamed: 0                 0\n",
      "Name           Avery Bradley\n",
      "Team          Boston Celtics\n",
      "Position                  PG\n",
      "Height                   6-2\n",
      "College                Texas\n",
      "Number                   0.0\n",
      "Age                     25.0\n",
      "Weight                 180.0\n",
      "Salary             7730337.0\n",
      "Name: 0, dtype: object\n"
     ]
    }
   ],
   "source": [
    "### GRADED\n",
    "\n",
    "fr = None\n",
    "\n",
    "### BEGIN SOLUTION\n",
    "\n",
    "fr = data.iloc[0]\n",
    "\n",
    "### END SOLUTION\n",
    "\n",
    "# ANSWER CHECK\n",
    "print(fr)"
   ]
  },
  {
   "cell_type": "markdown",
   "id": "db88446c",
   "metadata": {
    "nbgrader": {
     "grade": false,
     "grade_id": "cell-b1cec82b9752a1c4",
     "locked": true,
     "schema_version": 1,
     "solution": false
    }
   },
   "source": [
    "Use the `iloc[]` method to retrieve the second row of the `data` DataFrame and assign the result to the `sr` variable."
   ]
  },
  {
   "cell_type": "code",
   "execution_count": 6,
   "id": "ae0604a2",
   "metadata": {
    "nbgrader": {
     "grade": false,
     "grade_id": "cell-c96cb0193a5accb4",
     "locked": false,
     "schema_version": 1,
     "solution": true
    }
   },
   "outputs": [
    {
     "name": "stdout",
     "output_type": "stream",
     "text": [
      "Unnamed: 0                 1\n",
      "Name             Jae Crowder\n",
      "Team          Boston Celtics\n",
      "Position                  SF\n",
      "Height                   6-6\n",
      "College            Marquette\n",
      "Number                  99.0\n",
      "Age                     25.0\n",
      "Weight                 235.0\n",
      "Salary             6796117.0\n",
      "Name: 1, dtype: object\n"
     ]
    }
   ],
   "source": [
    "### GRADED\n",
    "\n",
    "\n",
    "sr = None\n",
    "\n",
    "### BEGIN SOLUTION\n",
    "\n",
    "sr =  data.iloc[1]\n",
    "\n",
    "### END SOLUTION\n",
    "\n",
    "# ANSWER CHECK\n",
    "print(sr)"
   ]
  },
  {
   "attachments": {},
   "cell_type": "markdown",
   "id": "364e08b8",
   "metadata": {
    "nbgrader": {
     "grade": false,
     "grade_id": "cell-385c13cb449cce41",
     "locked": true,
     "schema_version": 1,
     "solution": false
    }
   },
   "source": [
    "Use the `iloc[]` method to retrieve the last row of the `data` DataFrame and assign the result to the `lr` variable."
   ]
  },
  {
   "cell_type": "code",
   "execution_count": 7,
   "id": "1e2edd0a",
   "metadata": {
    "nbgrader": {
     "grade": false,
     "grade_id": "cell-1843d8fe5e08d07a",
     "locked": false,
     "schema_version": 1,
     "solution": true
    }
   },
   "outputs": [
    {
     "name": "stdout",
     "output_type": "stream",
     "text": [
      "Unnamed: 0             455\n",
      "Name          Tibor Pleiss\n",
      "Team             Utah Jazz\n",
      "Position                 C\n",
      "Height                 7-3\n",
      "College                NaN\n",
      "Number                21.0\n",
      "Age                   26.0\n",
      "Weight               256.0\n",
      "Salary           2900000.0\n",
      "Name: 455, dtype: object\n"
     ]
    }
   ],
   "source": [
    "### GRADED\n",
    "\n",
    "\n",
    "lr = None\n",
    "\n",
    "### BEGIN SOLUTION\n",
    "\n",
    "lr =  data.iloc[-1] \n",
    "\n",
    "### END SOLUTION\n",
    "\n",
    "# ANSWER CHECK\n",
    "print(lr)"
   ]
  },
  {
   "cell_type": "markdown",
   "id": "54014e9d",
   "metadata": {
    "nbgrader": {
     "grade": false,
     "grade_id": "cell-e6db93d4de10bae9",
     "locked": true,
     "schema_version": 1,
     "solution": false
    }
   },
   "source": [
    "Use the `iloc[]` method to retrieve the first column of the `data` DataFrame and assign the result to the `fc` variable."
   ]
  },
  {
   "cell_type": "code",
   "execution_count": 8,
   "id": "aad02cdd",
   "metadata": {
    "nbgrader": {
     "grade": false,
     "grade_id": "cell-b2ddae2ebcad6705",
     "locked": false,
     "schema_version": 1,
     "solution": true
    }
   },
   "outputs": [
    {
     "name": "stdout",
     "output_type": "stream",
     "text": [
      "0        0\n",
      "1        1\n",
      "2        2\n",
      "3        3\n",
      "4        4\n",
      "      ... \n",
      "451    451\n",
      "452    452\n",
      "453    453\n",
      "454    454\n",
      "455    455\n",
      "Name: Unnamed: 0, Length: 456, dtype: int64\n"
     ]
    }
   ],
   "source": [
    "###GRADED\n",
    "\n",
    " \n",
    "fc = None\n",
    "\n",
    "### BEGIN SOLUTION\n",
    "\n",
    "fc =  data.iloc[:,0] \n",
    "\n",
    "### END SOLUTION\n",
    "\n",
    "# ANSWER CHECK\n",
    "print(fc)"
   ]
  },
  {
   "cell_type": "markdown",
   "id": "819ad24c",
   "metadata": {
    "nbgrader": {
     "grade": false,
     "grade_id": "cell-e2331903ace630ce",
     "locked": true,
     "schema_version": 1,
     "solution": false
    }
   },
   "source": [
    "Use the `iloc[]` method to retrieve the second column of the `data` DataFrame and assign the result to the `sc` variable."
   ]
  },
  {
   "cell_type": "code",
   "execution_count": 9,
   "id": "8b7bc773",
   "metadata": {
    "nbgrader": {
     "grade": false,
     "grade_id": "cell-35925d6c39ff9c32",
     "locked": false,
     "schema_version": 1,
     "solution": true
    }
   },
   "outputs": [
    {
     "name": "stdout",
     "output_type": "stream",
     "text": [
      "0      Avery Bradley\n",
      "1        Jae Crowder\n",
      "2       John Holland\n",
      "3        R.J. Hunter\n",
      "4      Jonas Jerebko\n",
      "           ...      \n",
      "451    Chris Johnson\n",
      "452       Trey Lyles\n",
      "453     Shelvin Mack\n",
      "454        Raul Neto\n",
      "455     Tibor Pleiss\n",
      "Name: Name, Length: 456, dtype: object\n"
     ]
    }
   ],
   "source": [
    "### GRADED\n",
    "\n",
    "\n",
    "sc = None\n",
    "\n",
    "### BEGIN SOLUTION\n",
    "\n",
    "sc =  data.iloc[:,1]\n",
    "\n",
    "### END SOLUTION\n",
    "\n",
    "# ANSWER CHECK\n",
    "print(sc)"
   ]
  },
  {
   "cell_type": "markdown",
   "id": "053722a0",
   "metadata": {
    "nbgrader": {
     "grade": false,
     "grade_id": "cell-d5719eea9a0f018c",
     "locked": true,
     "schema_version": 1,
     "solution": false
    }
   },
   "source": [
    "Use the `iloc[]` method to retrieve the last column of the `data` DataFrame and assign the result to the `lc` variable."
   ]
  },
  {
   "cell_type": "code",
   "execution_count": 10,
   "id": "b76b2329",
   "metadata": {
    "nbgrader": {
     "grade": false,
     "grade_id": "cell-04a5a0d17f2b4901",
     "locked": false,
     "schema_version": 1,
     "solution": true
    }
   },
   "outputs": [
    {
     "name": "stdout",
     "output_type": "stream",
     "text": [
      "0      7730337.0\n",
      "1      6796117.0\n",
      "2            0.0\n",
      "3      1148640.0\n",
      "4      5000000.0\n",
      "         ...    \n",
      "451     981348.0\n",
      "452    2239800.0\n",
      "453    2433333.0\n",
      "454     900000.0\n",
      "455    2900000.0\n",
      "Name: Salary, Length: 456, dtype: float64\n"
     ]
    }
   ],
   "source": [
    "### GRADED\n",
    "\n",
    "\n",
    "lc = None\n",
    "\n",
    "### BEGIN SOLUTION\n",
    "\n",
    "lc =  data.iloc[:,-1] \n",
    "\n",
    "### END SOLUTION\n",
    "\n",
    "# ANSWER CHECK\n",
    "print(lc)"
   ]
  },
  {
   "cell_type": "code",
   "execution_count": 11,
   "id": "7ba1f625",
   "metadata": {
    "nbgrader": {
     "grade": true,
     "grade_id": "cell-86adba4835e0586a",
     "locked": true,
     "points": 2,
     "schema_version": 1,
     "solution": false
    }
   },
   "outputs": [
    {
     "data": {
      "text/plain": [
       "0      True\n",
       "1      True\n",
       "2      True\n",
       "3      True\n",
       "4      True\n",
       "       ... \n",
       "451    True\n",
       "452    True\n",
       "453    True\n",
       "454    True\n",
       "455    True\n",
       "Name: Salary, Length: 456, dtype: bool"
      ]
     },
     "execution_count": 11,
     "metadata": {},
     "output_type": "execute_result"
    }
   ],
   "source": [
    "### BEGIN HIDDEN TESTS\n",
    "lc1 =  data.iloc[:,-1]\n",
    "assert type(lc) == type(lc1)\n",
    "lc == lc1\n",
    "\n",
    "### END HIDDEN TESTS"
   ]
  },
  {
   "cell_type": "markdown",
   "id": "ea9730df",
   "metadata": {
    "nbgrader": {
     "grade": false,
     "grade_id": "cell-a2d49a9f9bf6d7df",
     "locked": true,
     "schema_version": 1,
     "solution": false
    }
   },
   "source": [
    "[Back to top](#Index:) \n",
    "\n",
    "## Part three\n",
    "\n",
    "### Using `split()` to select data\n",
    "\n",
    "In this part of the assignment, return the required information from the `data` DataFrame using the `split()` function.\n",
    "\n",
    "**2 Points each**\n",
    "\n",
    "In this exercise, use the `split()` function to return the first name of the first player in the `data` DataFrame. Assign the result to the variable `firstname`.\n",
    "\n"
   ]
  },
  {
   "cell_type": "code",
   "execution_count": 12,
   "id": "8c719422",
   "metadata": {
    "nbgrader": {
     "grade": false,
     "grade_id": "cell-268b6113422e9d31",
     "locked": false,
     "schema_version": 1,
     "solution": true
    }
   },
   "outputs": [
    {
     "name": "stdout",
     "output_type": "stream",
     "text": [
      "The first name is Avery\n"
     ]
    }
   ],
   "source": [
    "### GRADED\n",
    "\n",
    "\n",
    "\n",
    "firstname = None\n",
    "\n",
    "### BEGIN SOLUTION\n",
    "\n",
    "firstname = data['Name'].str.split().str[0].iloc[0]\n",
    "\n",
    "### END SOLUTION\n",
    "\n",
    "# ANSWER CHECK\n",
    "print('The first name is ' + firstname)"
   ]
  },
  {
   "cell_type": "markdown",
   "id": "25f1e984",
   "metadata": {
    "nbgrader": {
     "grade": false,
     "grade_id": "cell-6516a178a826acff",
     "locked": true,
     "schema_version": 1,
     "solution": false
    }
   },
   "source": [
    "In this exercise, use the `split()` function to return the last name of the first player in the `data` DataFrame. Assign the result to the variable `lastname`."
   ]
  },
  {
   "cell_type": "code",
   "execution_count": 13,
   "id": "c6bca3d5",
   "metadata": {
    "nbgrader": {
     "grade": false,
     "grade_id": "cell-66242b355c8d6e79",
     "locked": false,
     "schema_version": 1,
     "solution": true
    }
   },
   "outputs": [
    {
     "name": "stdout",
     "output_type": "stream",
     "text": [
      "The last name is Bradley\n"
     ]
    }
   ],
   "source": [
    "###GRADED\n",
    "\n",
    "# Please print the last full name of the first series in the data frame.\n",
    "\n",
    "lastname = None\n",
    "\n",
    "### BEGIN SOLUTION\n",
    "lastname =  data['Name'].str.split().str[1].iloc[0]\n",
    "### END SOLUTION\n",
    "\n",
    "# ANSWER CHECK\n",
    "print('The last name is ' + lastname)"
   ]
  },
  {
   "cell_type": "code",
   "execution_count": null,
   "id": "433a7cbf",
   "metadata": {},
   "outputs": [],
   "source": []
  }
 ],
 "metadata": {
  "celltoolbar": "Create Assignment",
  "kernelspec": {
   "display_name": "Python 3 (ipykernel)",
   "language": "python",
   "name": "python3"
  },
  "language_info": {
   "codemirror_mode": {
    "name": "ipython",
    "version": 3
   },
   "file_extension": ".py",
   "mimetype": "text/x-python",
   "name": "python",
   "nbconvert_exporter": "python",
   "pygments_lexer": "ipython3",
   "version": "3.11.5"
  }
 },
 "nbformat": 4,
 "nbformat_minor": 5
}
