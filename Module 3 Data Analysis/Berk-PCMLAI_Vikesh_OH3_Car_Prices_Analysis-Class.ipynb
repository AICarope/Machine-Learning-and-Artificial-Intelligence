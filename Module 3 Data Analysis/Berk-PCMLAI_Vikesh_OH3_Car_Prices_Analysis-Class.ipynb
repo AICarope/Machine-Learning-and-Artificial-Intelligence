{
 "cells": [
  {
   "cell_type": "markdown",
   "metadata": {},
   "source": [
    "<div class=\"alert alert-block alert-success\">\n",
    "    \n",
    " \n",
    "# Berkeley- PCMLAI: OH 3- Introduction to Data Analysis\n",
    "    \n",
    " 👨‍🏫 **Vikesh K**      \n",
    " #️⃣ **OH-3**  \n",
    " 💼**[Car Price Analysis](https://docs.google.com/document/d/1zfLcBHbXo9OOoFh91uA46tjk_exWjw9LDcYlyV4YCi4/edit#heading=h.o29fbd83peof)**\n",
    "    \n",
    "     \n",
    "\n",
    "</div>"
   ]
  },
  {
   "cell_type": "markdown",
   "metadata": {
    "id": "TnxtXkiAfma2"
   },
   "source": [
    " 💡  <span style='font-family:Georgia'>\n",
    "    <font color= darkred> ***All progress takes place outside the comfort zone- Michael Bobak***\n",
    "    </font> 💡   "
   ]
  },
  {
   "cell_type": "code",
   "execution_count": 2,
   "metadata": {
    "id": "mE1obTatObSC"
   },
   "outputs": [],
   "source": [
    "import pandas as pd\n",
    "import numpy as np\n",
    "\n",
    "import matplotlib.pyplot as plt\n",
    "import seaborn as sns"
   ]
  },
  {
   "cell_type": "markdown",
   "metadata": {},
   "source": [
    "## Loading data \n",
    "\n",
    "**Please run the below code to ensure that you are able to load the data**"
   ]
  },
  {
   "cell_type": "code",
   "execution_count": 18,
   "metadata": {
    "id": "RQI69g6ROkju"
   },
   "outputs": [],
   "source": [
    "url = 'https://raw.githubusercontent.com/vkoul/data/main/misc/vehicles_us.csv'\n",
    "\n",
    "df = pd.read_csv(url, parse_dates = [\"date_posted\"])"
   ]
  },
  {
   "cell_type": "code",
   "execution_count": 55,
   "metadata": {},
   "outputs": [],
   "source": [
    "orig_df = df.copy()"
   ]
  },
  {
   "cell_type": "code",
   "execution_count": 19,
   "metadata": {
    "colab": {
     "base_uri": "https://localhost:8080/",
     "height": 206
    },
    "id": "XqKZ7-1eOowK",
    "outputId": "55b02411-9259-4ef4-f4d0-9398dd33ba5a"
   },
   "outputs": [
    {
     "data": {
      "text/html": [
       "<div>\n",
       "<style scoped>\n",
       "    .dataframe tbody tr th:only-of-type {\n",
       "        vertical-align: middle;\n",
       "    }\n",
       "\n",
       "    .dataframe tbody tr th {\n",
       "        vertical-align: top;\n",
       "    }\n",
       "\n",
       "    .dataframe thead th {\n",
       "        text-align: right;\n",
       "    }\n",
       "</style>\n",
       "<table border=\"1\" class=\"dataframe\">\n",
       "  <thead>\n",
       "    <tr style=\"text-align: right;\">\n",
       "      <th></th>\n",
       "      <th>price</th>\n",
       "      <th>model_year</th>\n",
       "      <th>model</th>\n",
       "      <th>condition</th>\n",
       "      <th>cylinders</th>\n",
       "      <th>fuel</th>\n",
       "      <th>odometer</th>\n",
       "      <th>transmission</th>\n",
       "      <th>type</th>\n",
       "      <th>paint_color</th>\n",
       "      <th>is_4wd</th>\n",
       "      <th>date_posted</th>\n",
       "      <th>days_listed</th>\n",
       "    </tr>\n",
       "  </thead>\n",
       "  <tbody>\n",
       "    <tr>\n",
       "      <th>6013</th>\n",
       "      <td>21979</td>\n",
       "      <td>2014.0</td>\n",
       "      <td>chevrolet silverado 1500</td>\n",
       "      <td>excellent</td>\n",
       "      <td>8.0</td>\n",
       "      <td>gas</td>\n",
       "      <td>87960.0</td>\n",
       "      <td>automatic</td>\n",
       "      <td>pickup</td>\n",
       "      <td>silver</td>\n",
       "      <td>NaN</td>\n",
       "      <td>2019-03-07</td>\n",
       "      <td>8</td>\n",
       "    </tr>\n",
       "    <tr>\n",
       "      <th>34221</th>\n",
       "      <td>200</td>\n",
       "      <td>2017.0</td>\n",
       "      <td>hyundai elantra</td>\n",
       "      <td>excellent</td>\n",
       "      <td>4.0</td>\n",
       "      <td>gas</td>\n",
       "      <td>77000.0</td>\n",
       "      <td>automatic</td>\n",
       "      <td>sedan</td>\n",
       "      <td>red</td>\n",
       "      <td>NaN</td>\n",
       "      <td>2018-05-06</td>\n",
       "      <td>44</td>\n",
       "    </tr>\n",
       "    <tr>\n",
       "      <th>14996</th>\n",
       "      <td>9995</td>\n",
       "      <td>2014.0</td>\n",
       "      <td>toyota corolla</td>\n",
       "      <td>like new</td>\n",
       "      <td>4.0</td>\n",
       "      <td>gas</td>\n",
       "      <td>101610.0</td>\n",
       "      <td>automatic</td>\n",
       "      <td>sedan</td>\n",
       "      <td>silver</td>\n",
       "      <td>NaN</td>\n",
       "      <td>2018-12-11</td>\n",
       "      <td>23</td>\n",
       "    </tr>\n",
       "    <tr>\n",
       "      <th>3781</th>\n",
       "      <td>12500</td>\n",
       "      <td>NaN</td>\n",
       "      <td>ford f150</td>\n",
       "      <td>good</td>\n",
       "      <td>8.0</td>\n",
       "      <td>gas</td>\n",
       "      <td>120000.0</td>\n",
       "      <td>automatic</td>\n",
       "      <td>pickup</td>\n",
       "      <td>grey</td>\n",
       "      <td>1.0</td>\n",
       "      <td>2018-10-15</td>\n",
       "      <td>18</td>\n",
       "    </tr>\n",
       "    <tr>\n",
       "      <th>5881</th>\n",
       "      <td>4500</td>\n",
       "      <td>2005.0</td>\n",
       "      <td>chevrolet silverado</td>\n",
       "      <td>good</td>\n",
       "      <td>8.0</td>\n",
       "      <td>gas</td>\n",
       "      <td>200000.0</td>\n",
       "      <td>automatic</td>\n",
       "      <td>truck</td>\n",
       "      <td>white</td>\n",
       "      <td>NaN</td>\n",
       "      <td>2019-03-27</td>\n",
       "      <td>27</td>\n",
       "    </tr>\n",
       "    <tr>\n",
       "      <th>37098</th>\n",
       "      <td>14500</td>\n",
       "      <td>2012.0</td>\n",
       "      <td>ford explorer</td>\n",
       "      <td>excellent</td>\n",
       "      <td>6.0</td>\n",
       "      <td>gas</td>\n",
       "      <td>91407.0</td>\n",
       "      <td>automatic</td>\n",
       "      <td>SUV</td>\n",
       "      <td>black</td>\n",
       "      <td>1.0</td>\n",
       "      <td>2018-07-11</td>\n",
       "      <td>86</td>\n",
       "    </tr>\n",
       "    <tr>\n",
       "      <th>41263</th>\n",
       "      <td>11995</td>\n",
       "      <td>2013.0</td>\n",
       "      <td>ford edge</td>\n",
       "      <td>excellent</td>\n",
       "      <td>6.0</td>\n",
       "      <td>gas</td>\n",
       "      <td>112000.0</td>\n",
       "      <td>automatic</td>\n",
       "      <td>SUV</td>\n",
       "      <td>brown</td>\n",
       "      <td>1.0</td>\n",
       "      <td>2019-01-03</td>\n",
       "      <td>22</td>\n",
       "    </tr>\n",
       "    <tr>\n",
       "      <th>10887</th>\n",
       "      <td>19700</td>\n",
       "      <td>2017.0</td>\n",
       "      <td>chevrolet camaro lt coupe 2d</td>\n",
       "      <td>good</td>\n",
       "      <td>6.0</td>\n",
       "      <td>gas</td>\n",
       "      <td>35807.0</td>\n",
       "      <td>other</td>\n",
       "      <td>coupe</td>\n",
       "      <td>black</td>\n",
       "      <td>NaN</td>\n",
       "      <td>2018-12-07</td>\n",
       "      <td>31</td>\n",
       "    </tr>\n",
       "    <tr>\n",
       "      <th>23305</th>\n",
       "      <td>5500</td>\n",
       "      <td>2007.0</td>\n",
       "      <td>ford mustang</td>\n",
       "      <td>excellent</td>\n",
       "      <td>6.0</td>\n",
       "      <td>gas</td>\n",
       "      <td>72000.0</td>\n",
       "      <td>automatic</td>\n",
       "      <td>coupe</td>\n",
       "      <td>red</td>\n",
       "      <td>NaN</td>\n",
       "      <td>2019-03-15</td>\n",
       "      <td>6</td>\n",
       "    </tr>\n",
       "    <tr>\n",
       "      <th>28932</th>\n",
       "      <td>3200</td>\n",
       "      <td>1993.0</td>\n",
       "      <td>ford f-150</td>\n",
       "      <td>fair</td>\n",
       "      <td>8.0</td>\n",
       "      <td>gas</td>\n",
       "      <td>NaN</td>\n",
       "      <td>automatic</td>\n",
       "      <td>pickup</td>\n",
       "      <td>white</td>\n",
       "      <td>1.0</td>\n",
       "      <td>2018-07-06</td>\n",
       "      <td>13</td>\n",
       "    </tr>\n",
       "  </tbody>\n",
       "</table>\n",
       "</div>"
      ],
      "text/plain": [
       "       price  model_year                         model  condition  cylinders  \\\n",
       "6013   21979      2014.0      chevrolet silverado 1500  excellent        8.0   \n",
       "34221    200      2017.0               hyundai elantra  excellent        4.0   \n",
       "14996   9995      2014.0                toyota corolla   like new        4.0   \n",
       "3781   12500         NaN                     ford f150       good        8.0   \n",
       "5881    4500      2005.0           chevrolet silverado       good        8.0   \n",
       "37098  14500      2012.0                 ford explorer  excellent        6.0   \n",
       "41263  11995      2013.0                     ford edge  excellent        6.0   \n",
       "10887  19700      2017.0  chevrolet camaro lt coupe 2d       good        6.0   \n",
       "23305   5500      2007.0                  ford mustang  excellent        6.0   \n",
       "28932   3200      1993.0                    ford f-150       fair        8.0   \n",
       "\n",
       "      fuel  odometer transmission    type paint_color  is_4wd date_posted  \\\n",
       "6013   gas   87960.0    automatic  pickup      silver     NaN  2019-03-07   \n",
       "34221  gas   77000.0    automatic   sedan         red     NaN  2018-05-06   \n",
       "14996  gas  101610.0    automatic   sedan      silver     NaN  2018-12-11   \n",
       "3781   gas  120000.0    automatic  pickup        grey     1.0  2018-10-15   \n",
       "5881   gas  200000.0    automatic   truck       white     NaN  2019-03-27   \n",
       "37098  gas   91407.0    automatic     SUV       black     1.0  2018-07-11   \n",
       "41263  gas  112000.0    automatic     SUV       brown     1.0  2019-01-03   \n",
       "10887  gas   35807.0        other   coupe       black     NaN  2018-12-07   \n",
       "23305  gas   72000.0    automatic   coupe         red     NaN  2019-03-15   \n",
       "28932  gas       NaN    automatic  pickup       white     1.0  2018-07-06   \n",
       "\n",
       "       days_listed  \n",
       "6013             8  \n",
       "34221           44  \n",
       "14996           23  \n",
       "3781            18  \n",
       "5881            27  \n",
       "37098           86  \n",
       "41263           22  \n",
       "10887           31  \n",
       "23305            6  \n",
       "28932           13  "
      ]
     },
     "execution_count": 19,
     "metadata": {},
     "output_type": "execute_result"
    }
   ],
   "source": [
    "df.sample(10)"
   ]
  },
  {
   "cell_type": "code",
   "execution_count": 20,
   "metadata": {},
   "outputs": [
    {
     "name": "stdout",
     "output_type": "stream",
     "text": [
      "<class 'pandas.core.frame.DataFrame'>\n",
      "RangeIndex: 51525 entries, 0 to 51524\n",
      "Data columns (total 13 columns):\n",
      " #   Column        Non-Null Count  Dtype         \n",
      "---  ------        --------------  -----         \n",
      " 0   price         51525 non-null  int64         \n",
      " 1   model_year    47906 non-null  float64       \n",
      " 2   model         51525 non-null  object        \n",
      " 3   condition     51525 non-null  object        \n",
      " 4   cylinders     46265 non-null  float64       \n",
      " 5   fuel          51525 non-null  object        \n",
      " 6   odometer      43633 non-null  float64       \n",
      " 7   transmission  51525 non-null  object        \n",
      " 8   type          51525 non-null  object        \n",
      " 9   paint_color   42258 non-null  object        \n",
      " 10  is_4wd        25572 non-null  float64       \n",
      " 11  date_posted   51525 non-null  datetime64[ns]\n",
      " 12  days_listed   51525 non-null  int64         \n",
      "dtypes: datetime64[ns](1), float64(4), int64(2), object(6)\n",
      "memory usage: 5.1+ MB\n"
     ]
    }
   ],
   "source": [
    "df.info()"
   ]
  },
  {
   "cell_type": "markdown",
   "metadata": {},
   "source": [
    "## Data Quality checks"
   ]
  },
  {
   "cell_type": "code",
   "execution_count": null,
   "metadata": {},
   "outputs": [],
   "source": []
  },
  {
   "cell_type": "markdown",
   "metadata": {},
   "source": [
    "**Missing values**"
   ]
  },
  {
   "cell_type": "code",
   "execution_count": 21,
   "metadata": {},
   "outputs": [
    {
     "data": {
      "text/plain": [
       "price               0\n",
       "model_year       3619\n",
       "model               0\n",
       "condition           0\n",
       "cylinders        5260\n",
       "fuel                0\n",
       "odometer         7892\n",
       "transmission        0\n",
       "type                0\n",
       "paint_color      9267\n",
       "is_4wd          25953\n",
       "date_posted         0\n",
       "days_listed         0\n",
       "dtype: int64"
      ]
     },
     "execution_count": 21,
     "metadata": {},
     "output_type": "execute_result"
    }
   ],
   "source": [
    "df.isna().sum()"
   ]
  },
  {
   "cell_type": "code",
   "execution_count": 25,
   "metadata": {},
   "outputs": [
    {
     "data": {
      "text/plain": [
       "price            0.0\n",
       "model_year       7.0\n",
       "model            0.0\n",
       "condition        0.0\n",
       "cylinders       10.0\n",
       "fuel             0.0\n",
       "odometer        15.0\n",
       "transmission     0.0\n",
       "type             0.0\n",
       "paint_color     18.0\n",
       "is_4wd          50.0\n",
       "date_posted      0.0\n",
       "days_listed      0.0\n",
       "dtype: float64"
      ]
     },
     "execution_count": 25,
     "metadata": {},
     "output_type": "execute_result"
    }
   ],
   "source": [
    "df.isna().mean().round(2).multiply(100)"
   ]
  },
  {
   "cell_type": "code",
   "execution_count": 33,
   "metadata": {},
   "outputs": [
    {
     "data": {
      "image/png": "[encoded data removed]",
      "text/plain": [
       "<Figure size 640x480 with 1 Axes>"
      ]
     },
     "metadata": {},
     "output_type": "display_data"
    }
   ],
   "source": [
    "df.isna().mean().round(2).multiply(100).sort_values().plot(kind = \"bar\");"
   ]
  },
  {
   "cell_type": "code",
   "execution_count": 30,
   "metadata": {},
   "outputs": [
    {
     "data": {
      "image/png": "[encoded data removed]",
      "text/plain": [
       "<Figure size 640x480 with 2 Axes>"
      ]
     },
     "metadata": {},
     "output_type": "display_data"
    }
   ],
   "source": [
    "sns.heatmap(df.isna());"
   ]
  },
  {
   "cell_type": "code",
   "execution_count": 36,
   "metadata": {},
   "outputs": [],
   "source": [
    "df[\"is_4wd\"] = df[\"is_4wd\"].fillna(0)"
   ]
  },
  {
   "cell_type": "code",
   "execution_count": 37,
   "metadata": {},
   "outputs": [
    {
     "data": {
      "text/plain": [
       "price              0\n",
       "model_year      3619\n",
       "model              0\n",
       "condition          0\n",
       "cylinders       5260\n",
       "fuel               0\n",
       "odometer        7892\n",
       "transmission       0\n",
       "type               0\n",
       "paint_color     9267\n",
       "is_4wd             0\n",
       "date_posted        0\n",
       "days_listed        0\n",
       "dtype: int64"
      ]
     },
     "execution_count": 37,
     "metadata": {},
     "output_type": "execute_result"
    }
   ],
   "source": [
    "df.isna().sum()"
   ]
  },
  {
   "cell_type": "markdown",
   "metadata": {},
   "source": [
    "**Duplicates**"
   ]
  },
  {
   "cell_type": "code",
   "execution_count": 38,
   "metadata": {},
   "outputs": [
    {
     "data": {
      "text/plain": [
       "0"
      ]
     },
     "execution_count": 38,
     "metadata": {},
     "output_type": "execute_result"
    }
   ],
   "source": [
    "df.duplicated().sum()"
   ]
  },
  {
   "cell_type": "markdown",
   "metadata": {},
   "source": [
    "**Outliers**"
   ]
  },
  {
   "cell_type": "code",
   "execution_count": null,
   "metadata": {},
   "outputs": [],
   "source": []
  },
  {
   "cell_type": "code",
   "execution_count": null,
   "metadata": {},
   "outputs": [],
   "source": []
  },
  {
   "cell_type": "markdown",
   "metadata": {},
   "source": [
    "### EDA "
   ]
  },
  {
   "cell_type": "markdown",
   "metadata": {},
   "source": [
    "**Univariate Relationship**"
   ]
  },
  {
   "cell_type": "code",
   "execution_count": 40,
   "metadata": {},
   "outputs": [
    {
     "data": {
      "text/html": [
       "<div>\n",
       "<style scoped>\n",
       "    .dataframe tbody tr th:only-of-type {\n",
       "        vertical-align: middle;\n",
       "    }\n",
       "\n",
       "    .dataframe tbody tr th {\n",
       "        vertical-align: top;\n",
       "    }\n",
       "\n",
       "    .dataframe thead th {\n",
       "        text-align: right;\n",
       "    }\n",
       "</style>\n",
       "<table border=\"1\" class=\"dataframe\">\n",
       "  <thead>\n",
       "    <tr style=\"text-align: right;\">\n",
       "      <th></th>\n",
       "      <th>price</th>\n",
       "      <th>model_year</th>\n",
       "      <th>cylinders</th>\n",
       "      <th>odometer</th>\n",
       "      <th>is_4wd</th>\n",
       "      <th>date_posted</th>\n",
       "      <th>days_listed</th>\n",
       "    </tr>\n",
       "  </thead>\n",
       "  <tbody>\n",
       "    <tr>\n",
       "      <th>count</th>\n",
       "      <td>51525.0</td>\n",
       "      <td>47906.0</td>\n",
       "      <td>46265.0</td>\n",
       "      <td>43633.0</td>\n",
       "      <td>51525.0</td>\n",
       "      <td>51525</td>\n",
       "      <td>51525.0</td>\n",
       "    </tr>\n",
       "    <tr>\n",
       "      <th>mean</th>\n",
       "      <td>12132.0</td>\n",
       "      <td>2010.0</td>\n",
       "      <td>6.0</td>\n",
       "      <td>115553.0</td>\n",
       "      <td>0.0</td>\n",
       "      <td>2018-10-25 01:57:46.270742528</td>\n",
       "      <td>40.0</td>\n",
       "    </tr>\n",
       "    <tr>\n",
       "      <th>min</th>\n",
       "      <td>1.0</td>\n",
       "      <td>1908.0</td>\n",
       "      <td>3.0</td>\n",
       "      <td>0.0</td>\n",
       "      <td>0.0</td>\n",
       "      <td>2018-05-01 00:00:00</td>\n",
       "      <td>0.0</td>\n",
       "    </tr>\n",
       "    <tr>\n",
       "      <th>25%</th>\n",
       "      <td>5000.0</td>\n",
       "      <td>2006.0</td>\n",
       "      <td>4.0</td>\n",
       "      <td>70000.0</td>\n",
       "      <td>0.0</td>\n",
       "      <td>2018-07-29 00:00:00</td>\n",
       "      <td>19.0</td>\n",
       "    </tr>\n",
       "    <tr>\n",
       "      <th>50%</th>\n",
       "      <td>9000.0</td>\n",
       "      <td>2011.0</td>\n",
       "      <td>6.0</td>\n",
       "      <td>113000.0</td>\n",
       "      <td>0.0</td>\n",
       "      <td>2018-10-25 00:00:00</td>\n",
       "      <td>33.0</td>\n",
       "    </tr>\n",
       "    <tr>\n",
       "      <th>75%</th>\n",
       "      <td>16839.0</td>\n",
       "      <td>2014.0</td>\n",
       "      <td>8.0</td>\n",
       "      <td>155000.0</td>\n",
       "      <td>1.0</td>\n",
       "      <td>2019-01-21 00:00:00</td>\n",
       "      <td>53.0</td>\n",
       "    </tr>\n",
       "    <tr>\n",
       "      <th>max</th>\n",
       "      <td>375000.0</td>\n",
       "      <td>2019.0</td>\n",
       "      <td>12.0</td>\n",
       "      <td>990000.0</td>\n",
       "      <td>1.0</td>\n",
       "      <td>2019-04-19 00:00:00</td>\n",
       "      <td>271.0</td>\n",
       "    </tr>\n",
       "    <tr>\n",
       "      <th>std</th>\n",
       "      <td>10041.0</td>\n",
       "      <td>6.0</td>\n",
       "      <td>2.0</td>\n",
       "      <td>65095.0</td>\n",
       "      <td>0.0</td>\n",
       "      <td>NaN</td>\n",
       "      <td>28.0</td>\n",
       "    </tr>\n",
       "  </tbody>\n",
       "</table>\n",
       "</div>"
      ],
      "text/plain": [
       "          price  model_year  cylinders  odometer   is_4wd  \\\n",
       "count   51525.0     47906.0    46265.0   43633.0  51525.0   \n",
       "mean    12132.0      2010.0        6.0  115553.0      0.0   \n",
       "min         1.0      1908.0        3.0       0.0      0.0   \n",
       "25%      5000.0      2006.0        4.0   70000.0      0.0   \n",
       "50%      9000.0      2011.0        6.0  113000.0      0.0   \n",
       "75%     16839.0      2014.0        8.0  155000.0      1.0   \n",
       "max    375000.0      2019.0       12.0  990000.0      1.0   \n",
       "std     10041.0         6.0        2.0   65095.0      0.0   \n",
       "\n",
       "                         date_posted  days_listed  \n",
       "count                          51525      51525.0  \n",
       "mean   2018-10-25 01:57:46.270742528         40.0  \n",
       "min              2018-05-01 00:00:00          0.0  \n",
       "25%              2018-07-29 00:00:00         19.0  \n",
       "50%              2018-10-25 00:00:00         33.0  \n",
       "75%              2019-01-21 00:00:00         53.0  \n",
       "max              2019-04-19 00:00:00        271.0  \n",
       "std                              NaN         28.0  "
      ]
     },
     "execution_count": 40,
     "metadata": {},
     "output_type": "execute_result"
    }
   ],
   "source": [
    "df.describe().round(0)"
   ]
  },
  {
   "cell_type": "code",
   "execution_count": 44,
   "metadata": {
    "scrolled": false
   },
   "outputs": [
    {
     "data": {
      "image/png": "[encoded data removed]",
      "text/plain": [
       "<Figure size 640x480 with 1 Axes>"
      ]
     },
     "metadata": {},
     "output_type": "display_data"
    }
   ],
   "source": [
    "df[\"price\"].plot(kind = \"box\", vert = False);"
   ]
  },
  {
   "cell_type": "code",
   "execution_count": 61,
   "metadata": {},
   "outputs": [
    {
     "data": {
      "text/html": [
       "<div>\n",
       "<style scoped>\n",
       "    .dataframe tbody tr th:only-of-type {\n",
       "        vertical-align: middle;\n",
       "    }\n",
       "\n",
       "    .dataframe tbody tr th {\n",
       "        vertical-align: top;\n",
       "    }\n",
       "\n",
       "    .dataframe thead th {\n",
       "        text-align: right;\n",
       "    }\n",
       "</style>\n",
       "<table border=\"1\" class=\"dataframe\">\n",
       "  <thead>\n",
       "    <tr style=\"text-align: right;\">\n",
       "      <th></th>\n",
       "      <th>price</th>\n",
       "      <th>model_year</th>\n",
       "      <th>cylinders</th>\n",
       "      <th>odometer</th>\n",
       "      <th>is_4wd</th>\n",
       "      <th>date_posted</th>\n",
       "      <th>days_listed</th>\n",
       "    </tr>\n",
       "  </thead>\n",
       "  <tbody>\n",
       "    <tr>\n",
       "      <th>count</th>\n",
       "      <td>48459.0</td>\n",
       "      <td>45059.0</td>\n",
       "      <td>43527.0</td>\n",
       "      <td>41038.0</td>\n",
       "      <td>48459.0</td>\n",
       "      <td>48459</td>\n",
       "      <td>48459.0</td>\n",
       "    </tr>\n",
       "    <tr>\n",
       "      <th>mean</th>\n",
       "      <td>12283.0</td>\n",
       "      <td>2010.0</td>\n",
       "      <td>6.0</td>\n",
       "      <td>116094.0</td>\n",
       "      <td>0.0</td>\n",
       "      <td>2018-10-24 21:37:34.318083328</td>\n",
       "      <td>40.0</td>\n",
       "    </tr>\n",
       "    <tr>\n",
       "      <th>min</th>\n",
       "      <td>1950.0</td>\n",
       "      <td>1908.0</td>\n",
       "      <td>3.0</td>\n",
       "      <td>0.0</td>\n",
       "      <td>0.0</td>\n",
       "      <td>2018-05-01 00:00:00</td>\n",
       "      <td>0.0</td>\n",
       "    </tr>\n",
       "    <tr>\n",
       "      <th>1%</th>\n",
       "      <td>2200.0</td>\n",
       "      <td>1991.0</td>\n",
       "      <td>4.0</td>\n",
       "      <td>131.0</td>\n",
       "      <td>0.0</td>\n",
       "      <td>2018-05-04 00:00:00</td>\n",
       "      <td>3.0</td>\n",
       "    </tr>\n",
       "    <tr>\n",
       "      <th>5%</th>\n",
       "      <td>2990.0</td>\n",
       "      <td>2000.0</td>\n",
       "      <td>4.0</td>\n",
       "      <td>18537.0</td>\n",
       "      <td>0.0</td>\n",
       "      <td>2018-05-18 00:00:00</td>\n",
       "      <td>7.0</td>\n",
       "    </tr>\n",
       "    <tr>\n",
       "      <th>50%</th>\n",
       "      <td>9850.0</td>\n",
       "      <td>2011.0</td>\n",
       "      <td>6.0</td>\n",
       "      <td>113419.0</td>\n",
       "      <td>0.0</td>\n",
       "      <td>2018-10-24 00:00:00</td>\n",
       "      <td>33.0</td>\n",
       "    </tr>\n",
       "    <tr>\n",
       "      <th>85%</th>\n",
       "      <td>21900.0</td>\n",
       "      <td>2016.0</td>\n",
       "      <td>8.0</td>\n",
       "      <td>178000.0</td>\n",
       "      <td>1.0</td>\n",
       "      <td>2019-02-26 00:00:00</td>\n",
       "      <td>67.0</td>\n",
       "    </tr>\n",
       "    <tr>\n",
       "      <th>90%</th>\n",
       "      <td>24999.0</td>\n",
       "      <td>2016.0</td>\n",
       "      <td>8.0</td>\n",
       "      <td>194000.0</td>\n",
       "      <td>1.0</td>\n",
       "      <td>2019-03-16 00:00:00</td>\n",
       "      <td>77.0</td>\n",
       "    </tr>\n",
       "    <tr>\n",
       "      <th>95%</th>\n",
       "      <td>29900.0</td>\n",
       "      <td>2017.0</td>\n",
       "      <td>8.0</td>\n",
       "      <td>220000.0</td>\n",
       "      <td>1.0</td>\n",
       "      <td>2019-04-02 00:00:00</td>\n",
       "      <td>94.0</td>\n",
       "    </tr>\n",
       "    <tr>\n",
       "      <th>99%</th>\n",
       "      <td>38499.0</td>\n",
       "      <td>2018.0</td>\n",
       "      <td>8.0</td>\n",
       "      <td>284000.0</td>\n",
       "      <td>1.0</td>\n",
       "      <td>2019-04-16 00:00:00</td>\n",
       "      <td>132.0</td>\n",
       "    </tr>\n",
       "    <tr>\n",
       "      <th>max</th>\n",
       "      <td>44000.0</td>\n",
       "      <td>2019.0</td>\n",
       "      <td>12.0</td>\n",
       "      <td>990000.0</td>\n",
       "      <td>1.0</td>\n",
       "      <td>2019-04-19 00:00:00</td>\n",
       "      <td>271.0</td>\n",
       "    </tr>\n",
       "    <tr>\n",
       "      <th>std</th>\n",
       "      <td>8554.0</td>\n",
       "      <td>6.0</td>\n",
       "      <td>2.0</td>\n",
       "      <td>63349.0</td>\n",
       "      <td>0.0</td>\n",
       "      <td>NaN</td>\n",
       "      <td>28.0</td>\n",
       "    </tr>\n",
       "  </tbody>\n",
       "</table>\n",
       "</div>"
      ],
      "text/plain": [
       "         price  model_year  cylinders  odometer   is_4wd  \\\n",
       "count  48459.0     45059.0    43527.0   41038.0  48459.0   \n",
       "mean   12283.0      2010.0        6.0  116094.0      0.0   \n",
       "min     1950.0      1908.0        3.0       0.0      0.0   \n",
       "1%      2200.0      1991.0        4.0     131.0      0.0   \n",
       "5%      2990.0      2000.0        4.0   18537.0      0.0   \n",
       "50%     9850.0      2011.0        6.0  113419.0      0.0   \n",
       "85%    21900.0      2016.0        8.0  178000.0      1.0   \n",
       "90%    24999.0      2016.0        8.0  194000.0      1.0   \n",
       "95%    29900.0      2017.0        8.0  220000.0      1.0   \n",
       "99%    38499.0      2018.0        8.0  284000.0      1.0   \n",
       "max    44000.0      2019.0       12.0  990000.0      1.0   \n",
       "std     8554.0         6.0        2.0   63349.0      0.0   \n",
       "\n",
       "                         date_posted  days_listed  \n",
       "count                          48459      48459.0  \n",
       "mean   2018-10-24 21:37:34.318083328         40.0  \n",
       "min              2018-05-01 00:00:00          0.0  \n",
       "1%               2018-05-04 00:00:00          3.0  \n",
       "5%               2018-05-18 00:00:00          7.0  \n",
       "50%              2018-10-24 00:00:00         33.0  \n",
       "85%              2019-02-26 00:00:00         67.0  \n",
       "90%              2019-03-16 00:00:00         77.0  \n",
       "95%              2019-04-02 00:00:00         94.0  \n",
       "99%              2019-04-16 00:00:00        132.0  \n",
       "max              2019-04-19 00:00:00        271.0  \n",
       "std                              NaN         28.0  "
      ]
     },
     "execution_count": 61,
     "metadata": {},
     "output_type": "execute_result"
    }
   ],
   "source": [
    "df.describe([0.05, 0.01, 0.85,0.90, 0.95, 0.99]).round(0)"
   ]
  },
  {
   "cell_type": "markdown",
   "metadata": {},
   "source": [
    "* **Z-score**\n",
    "* **IQR method**"
   ]
  },
  {
   "cell_type": "code",
   "execution_count": 52,
   "metadata": {},
   "outputs": [
    {
     "data": {
      "text/plain": [
       "(51525, 13)"
      ]
     },
     "execution_count": 52,
     "metadata": {},
     "output_type": "execute_result"
    }
   ],
   "source": [
    "df.shape"
   ]
  },
  {
   "cell_type": "code",
   "execution_count": 58,
   "metadata": {},
   "outputs": [],
   "source": [
    "df = df.query(\"price >= 1950\").query(\"price <= 44000\").copy()"
   ]
  },
  {
   "cell_type": "code",
   "execution_count": 56,
   "metadata": {},
   "outputs": [
    {
     "data": {
      "text/plain": [
       "3066"
      ]
     },
     "execution_count": 56,
     "metadata": {},
     "output_type": "execute_result"
    }
   ],
   "source": [
    "51525 - 48459 # dropped value"
   ]
  },
  {
   "cell_type": "code",
   "execution_count": 59,
   "metadata": {},
   "outputs": [
    {
     "data": {
      "image/png": "[encoded data removed]",
      "text/plain": [
       "<Figure size 640x480 with 1 Axes>"
      ]
     },
     "metadata": {},
     "output_type": "display_data"
    }
   ],
   "source": [
    "df[\"price\"].plot(kind = \"box\", vert = False);"
   ]
  },
  {
   "cell_type": "code",
   "execution_count": 64,
   "metadata": {},
   "outputs": [
    {
     "data": {
      "image/png": "[encoded data removed]",
      "text/plain": [
       "<Figure size 640x480 with 1 Axes>"
      ]
     },
     "metadata": {},
     "output_type": "display_data"
    }
   ],
   "source": [
    "df[\"price\"].plot(kind = \"kde\");"
   ]
  },
  {
   "cell_type": "code",
   "execution_count": 70,
   "metadata": {},
   "outputs": [
    {
     "data": {
      "text/plain": [
       "cylinders\n",
       "8.0     15033\n",
       "6.0     14870\n",
       "4.0     13078\n",
       "5.0       262\n",
       "10.0      252\n",
       "3.0        30\n",
       "12.0        2\n",
       "Name: count, dtype: int64"
      ]
     },
     "metadata": {},
     "output_type": "display_data"
    },
    {
     "data": {
      "image/png": "[encoded data removed]",
      "text/plain": [
       "<Figure size 640x480 with 1 Axes>"
      ]
     },
     "metadata": {},
     "output_type": "display_data"
    }
   ],
   "source": [
    "display(df['cylinders'].value_counts())\n",
    "\n",
    "df['cylinders'].value_counts().plot(kind = \"bar\");"
   ]
  },
  {
   "cell_type": "code",
   "execution_count": 71,
   "metadata": {},
   "outputs": [
    {
     "data": {
      "text/html": [
       "<div>\n",
       "<style scoped>\n",
       "    .dataframe tbody tr th:only-of-type {\n",
       "        vertical-align: middle;\n",
       "    }\n",
       "\n",
       "    .dataframe tbody tr th {\n",
       "        vertical-align: top;\n",
       "    }\n",
       "\n",
       "    .dataframe thead th {\n",
       "        text-align: right;\n",
       "    }\n",
       "</style>\n",
       "<table border=\"1\" class=\"dataframe\">\n",
       "  <thead>\n",
       "    <tr style=\"text-align: right;\">\n",
       "      <th></th>\n",
       "      <th>model</th>\n",
       "      <th>condition</th>\n",
       "      <th>fuel</th>\n",
       "      <th>transmission</th>\n",
       "      <th>type</th>\n",
       "      <th>paint_color</th>\n",
       "    </tr>\n",
       "  </thead>\n",
       "  <tbody>\n",
       "    <tr>\n",
       "      <th>count</th>\n",
       "      <td>48459</td>\n",
       "      <td>48459</td>\n",
       "      <td>48459</td>\n",
       "      <td>48459</td>\n",
       "      <td>48459</td>\n",
       "      <td>39734</td>\n",
       "    </tr>\n",
       "    <tr>\n",
       "      <th>unique</th>\n",
       "      <td>100</td>\n",
       "      <td>6</td>\n",
       "      <td>5</td>\n",
       "      <td>3</td>\n",
       "      <td>13</td>\n",
       "      <td>12</td>\n",
       "    </tr>\n",
       "    <tr>\n",
       "      <th>top</th>\n",
       "      <td>ford f-150</td>\n",
       "      <td>excellent</td>\n",
       "      <td>gas</td>\n",
       "      <td>automatic</td>\n",
       "      <td>SUV</td>\n",
       "      <td>white</td>\n",
       "    </tr>\n",
       "    <tr>\n",
       "      <th>freq</th>\n",
       "      <td>2645</td>\n",
       "      <td>23339</td>\n",
       "      <td>44489</td>\n",
       "      <td>44380</td>\n",
       "      <td>11668</td>\n",
       "      <td>9450</td>\n",
       "    </tr>\n",
       "  </tbody>\n",
       "</table>\n",
       "</div>"
      ],
      "text/plain": [
       "             model  condition   fuel transmission   type paint_color\n",
       "count        48459      48459  48459        48459  48459       39734\n",
       "unique         100          6      5            3     13          12\n",
       "top     ford f-150  excellent    gas    automatic    SUV       white\n",
       "freq          2645      23339  44489        44380  11668        9450"
      ]
     },
     "execution_count": 71,
     "metadata": {},
     "output_type": "execute_result"
    }
   ],
   "source": [
    "df.describe(include = \"object\")"
   ]
  },
  {
   "cell_type": "code",
   "execution_count": 74,
   "metadata": {},
   "outputs": [
    {
     "data": {
      "image/png": "[encoded data removed]",
      "text/plain": [
       "<Figure size 640x480 with 1 Axes>"
      ]
     },
     "metadata": {},
     "output_type": "display_data"
    }
   ],
   "source": [
    "df.condition.value_counts().plot(kind = \"bar\");"
   ]
  },
  {
   "cell_type": "markdown",
   "metadata": {},
   "source": [
    "**Bivariate Relationship**"
   ]
  },
  {
   "cell_type": "code",
   "execution_count": 78,
   "metadata": {},
   "outputs": [],
   "source": [
    "corr = df.corr(numeric_only = True).round(2)"
   ]
  },
  {
   "cell_type": "code",
   "execution_count": 82,
   "metadata": {},
   "outputs": [
    {
     "data": {
      "image/png": "[encoded data removed]",
      "text/plain": [
       "<Figure size 640x480 with 2 Axes>"
      ]
     },
     "metadata": {},
     "output_type": "display_data"
    }
   ],
   "source": [
    "sns.heatmap(corr, annot = True);"
   ]
  },
  {
   "cell_type": "code",
   "execution_count": 85,
   "metadata": {},
   "outputs": [
    {
     "data": {
      "text/html": [
       "<div>\n",
       "<style scoped>\n",
       "    .dataframe tbody tr th:only-of-type {\n",
       "        vertical-align: middle;\n",
       "    }\n",
       "\n",
       "    .dataframe tbody tr th {\n",
       "        vertical-align: top;\n",
       "    }\n",
       "\n",
       "    .dataframe thead th {\n",
       "        text-align: right;\n",
       "    }\n",
       "</style>\n",
       "<table border=\"1\" class=\"dataframe\">\n",
       "  <thead>\n",
       "    <tr style=\"text-align: right;\">\n",
       "      <th></th>\n",
       "      <th>price</th>\n",
       "      <th>model_year</th>\n",
       "      <th>cylinders</th>\n",
       "      <th>odometer</th>\n",
       "      <th>is_4wd</th>\n",
       "      <th>days_listed</th>\n",
       "    </tr>\n",
       "  </thead>\n",
       "  <tbody>\n",
       "    <tr>\n",
       "      <th>price</th>\n",
       "      <td>1.00</td>\n",
       "      <td>0.50</td>\n",
       "      <td>0.34</td>\n",
       "      <td>-0.47</td>\n",
       "      <td>0.36</td>\n",
       "      <td>-0.00</td>\n",
       "    </tr>\n",
       "    <tr>\n",
       "      <th>model_year</th>\n",
       "      <td>0.50</td>\n",
       "      <td>1.00</td>\n",
       "      <td>-0.19</td>\n",
       "      <td>-0.45</td>\n",
       "      <td>0.01</td>\n",
       "      <td>-0.00</td>\n",
       "    </tr>\n",
       "    <tr>\n",
       "      <th>cylinders</th>\n",
       "      <td>0.34</td>\n",
       "      <td>-0.19</td>\n",
       "      <td>1.00</td>\n",
       "      <td>0.14</td>\n",
       "      <td>0.40</td>\n",
       "      <td>0.01</td>\n",
       "    </tr>\n",
       "    <tr>\n",
       "      <th>odometer</th>\n",
       "      <td>-0.47</td>\n",
       "      <td>-0.45</td>\n",
       "      <td>0.14</td>\n",
       "      <td>1.00</td>\n",
       "      <td>0.07</td>\n",
       "      <td>0.00</td>\n",
       "    </tr>\n",
       "    <tr>\n",
       "      <th>is_4wd</th>\n",
       "      <td>0.36</td>\n",
       "      <td>0.01</td>\n",
       "      <td>0.40</td>\n",
       "      <td>0.07</td>\n",
       "      <td>1.00</td>\n",
       "      <td>0.00</td>\n",
       "    </tr>\n",
       "    <tr>\n",
       "      <th>days_listed</th>\n",
       "      <td>-0.00</td>\n",
       "      <td>-0.00</td>\n",
       "      <td>0.01</td>\n",
       "      <td>0.00</td>\n",
       "      <td>0.00</td>\n",
       "      <td>1.00</td>\n",
       "    </tr>\n",
       "  </tbody>\n",
       "</table>\n",
       "</div>"
      ],
      "text/plain": [
       "             price  model_year  cylinders  odometer  is_4wd  days_listed\n",
       "price         1.00        0.50       0.34     -0.47    0.36        -0.00\n",
       "model_year    0.50        1.00      -0.19     -0.45    0.01        -0.00\n",
       "cylinders     0.34       -0.19       1.00      0.14    0.40         0.01\n",
       "odometer     -0.47       -0.45       0.14      1.00    0.07         0.00\n",
       "is_4wd        0.36        0.01       0.40      0.07    1.00         0.00\n",
       "days_listed  -0.00       -0.00       0.01      0.00    0.00         1.00"
      ]
     },
     "execution_count": 85,
     "metadata": {},
     "output_type": "execute_result"
    }
   ],
   "source": [
    "corr"
   ]
  },
  {
   "cell_type": "code",
   "execution_count": 95,
   "metadata": {},
   "outputs": [
    {
     "data": {
      "image/png": "[encoded data removed]",
      "text/plain": [
       "<Figure size 640x480 with 1 Axes>"
      ]
     },
     "metadata": {},
     "output_type": "display_data"
    }
   ],
   "source": [
    "corr[\"price\"].sort_values()[:-1].plot(kind = \"bar\");"
   ]
  },
  {
   "cell_type": "markdown",
   "metadata": {},
   "source": [
    "## Categorical "
   ]
  },
  {
   "cell_type": "code",
   "execution_count": 118,
   "metadata": {},
   "outputs": [],
   "source": [
    "cat_columns = df.select_dtypes(include = \"object\").columns.tolist()"
   ]
  },
  {
   "cell_type": "code",
   "execution_count": 121,
   "metadata": {},
   "outputs": [
    {
     "data": {
      "text/plain": [
       "model           100\n",
       "condition         6\n",
       "fuel              5\n",
       "transmission      3\n",
       "type             13\n",
       "paint_color      12\n",
       "dtype: int64"
      ]
     },
     "execution_count": 121,
     "metadata": {},
     "output_type": "execute_result"
    }
   ],
   "source": [
    "df[cat_columns].nunique()"
   ]
  },
  {
   "cell_type": "code",
   "execution_count": 97,
   "metadata": {},
   "outputs": [
    {
     "data": {
      "text/html": [
       "<div>\n",
       "<style scoped>\n",
       "    .dataframe tbody tr th:only-of-type {\n",
       "        vertical-align: middle;\n",
       "    }\n",
       "\n",
       "    .dataframe tbody tr th {\n",
       "        vertical-align: top;\n",
       "    }\n",
       "\n",
       "    .dataframe thead th {\n",
       "        text-align: right;\n",
       "    }\n",
       "</style>\n",
       "<table border=\"1\" class=\"dataframe\">\n",
       "  <thead>\n",
       "    <tr style=\"text-align: right;\">\n",
       "      <th></th>\n",
       "      <th>price</th>\n",
       "      <th>model_year</th>\n",
       "      <th>model</th>\n",
       "      <th>condition</th>\n",
       "      <th>cylinders</th>\n",
       "      <th>fuel</th>\n",
       "      <th>odometer</th>\n",
       "      <th>transmission</th>\n",
       "      <th>type</th>\n",
       "      <th>paint_color</th>\n",
       "      <th>is_4wd</th>\n",
       "      <th>date_posted</th>\n",
       "      <th>days_listed</th>\n",
       "    </tr>\n",
       "  </thead>\n",
       "  <tbody>\n",
       "    <tr>\n",
       "      <th>15186</th>\n",
       "      <td>12990</td>\n",
       "      <td>2011.0</td>\n",
       "      <td>ford expedition</td>\n",
       "      <td>excellent</td>\n",
       "      <td>8.0</td>\n",
       "      <td>gas</td>\n",
       "      <td>137686.0</td>\n",
       "      <td>automatic</td>\n",
       "      <td>SUV</td>\n",
       "      <td>white</td>\n",
       "      <td>1.0</td>\n",
       "      <td>2019-01-24</td>\n",
       "      <td>47</td>\n",
       "    </tr>\n",
       "    <tr>\n",
       "      <th>17644</th>\n",
       "      <td>18995</td>\n",
       "      <td>2013.0</td>\n",
       "      <td>ford f-250 sd</td>\n",
       "      <td>good</td>\n",
       "      <td>8.0</td>\n",
       "      <td>gas</td>\n",
       "      <td>94236.0</td>\n",
       "      <td>automatic</td>\n",
       "      <td>truck</td>\n",
       "      <td>white</td>\n",
       "      <td>1.0</td>\n",
       "      <td>2018-08-13</td>\n",
       "      <td>139</td>\n",
       "    </tr>\n",
       "    <tr>\n",
       "      <th>227</th>\n",
       "      <td>11795</td>\n",
       "      <td>2015.0</td>\n",
       "      <td>toyota tacoma</td>\n",
       "      <td>excellent</td>\n",
       "      <td>4.0</td>\n",
       "      <td>gas</td>\n",
       "      <td>111048.0</td>\n",
       "      <td>automatic</td>\n",
       "      <td>truck</td>\n",
       "      <td>white</td>\n",
       "      <td>0.0</td>\n",
       "      <td>2018-09-30</td>\n",
       "      <td>30</td>\n",
       "    </tr>\n",
       "    <tr>\n",
       "      <th>18465</th>\n",
       "      <td>3500</td>\n",
       "      <td>2013.0</td>\n",
       "      <td>volkswagen jetta</td>\n",
       "      <td>fair</td>\n",
       "      <td>4.0</td>\n",
       "      <td>diesel</td>\n",
       "      <td>NaN</td>\n",
       "      <td>automatic</td>\n",
       "      <td>wagon</td>\n",
       "      <td>silver</td>\n",
       "      <td>0.0</td>\n",
       "      <td>2019-04-06</td>\n",
       "      <td>89</td>\n",
       "    </tr>\n",
       "    <tr>\n",
       "      <th>42622</th>\n",
       "      <td>10600</td>\n",
       "      <td>2011.0</td>\n",
       "      <td>jeep grand cherokee</td>\n",
       "      <td>like new</td>\n",
       "      <td>8.0</td>\n",
       "      <td>gas</td>\n",
       "      <td>84000.0</td>\n",
       "      <td>automatic</td>\n",
       "      <td>SUV</td>\n",
       "      <td>blue</td>\n",
       "      <td>1.0</td>\n",
       "      <td>2019-04-15</td>\n",
       "      <td>31</td>\n",
       "    </tr>\n",
       "  </tbody>\n",
       "</table>\n",
       "</div>"
      ],
      "text/plain": [
       "       price  model_year                model  condition  cylinders    fuel  \\\n",
       "15186  12990      2011.0      ford expedition  excellent        8.0     gas   \n",
       "17644  18995      2013.0        ford f-250 sd       good        8.0     gas   \n",
       "227    11795      2015.0        toyota tacoma  excellent        4.0     gas   \n",
       "18465   3500      2013.0     volkswagen jetta       fair        4.0  diesel   \n",
       "42622  10600      2011.0  jeep grand cherokee   like new        8.0     gas   \n",
       "\n",
       "       odometer transmission   type paint_color  is_4wd date_posted  \\\n",
       "15186  137686.0    automatic    SUV       white     1.0  2019-01-24   \n",
       "17644   94236.0    automatic  truck       white     1.0  2018-08-13   \n",
       "227    111048.0    automatic  truck       white     0.0  2018-09-30   \n",
       "18465       NaN    automatic  wagon      silver     0.0  2019-04-06   \n",
       "42622   84000.0    automatic    SUV        blue     1.0  2019-04-15   \n",
       "\n",
       "       days_listed  \n",
       "15186           47  \n",
       "17644          139  \n",
       "227             30  \n",
       "18465           89  \n",
       "42622           31  "
      ]
     },
     "execution_count": 97,
     "metadata": {},
     "output_type": "execute_result"
    }
   ],
   "source": [
    "df.sample(5)"
   ]
  },
  {
   "cell_type": "code",
   "execution_count": 99,
   "metadata": {},
   "outputs": [
    {
     "data": {
      "text/plain": [
       "condition\n",
       "excellent    13026.235357\n",
       "fair          4590.168159\n",
       "good         10924.142696\n",
       "like new     15995.739452\n",
       "new          18792.809524\n",
       "salvage       6745.923077\n",
       "Name: price, dtype: float64"
      ]
     },
     "execution_count": 99,
     "metadata": {},
     "output_type": "execute_result"
    }
   ],
   "source": [
    "df.groupby(\"condition\")[\"price\"].mean()"
   ]
  },
  {
   "cell_type": "code",
   "execution_count": 102,
   "metadata": {},
   "outputs": [
    {
     "data": {
      "text/html": [
       "<div>\n",
       "<style scoped>\n",
       "    .dataframe tbody tr th:only-of-type {\n",
       "        vertical-align: middle;\n",
       "    }\n",
       "\n",
       "    .dataframe tbody tr th {\n",
       "        vertical-align: top;\n",
       "    }\n",
       "\n",
       "    .dataframe thead th {\n",
       "        text-align: right;\n",
       "    }\n",
       "</style>\n",
       "<table border=\"1\" class=\"dataframe\">\n",
       "  <thead>\n",
       "    <tr style=\"text-align: right;\">\n",
       "      <th></th>\n",
       "      <th>mean</th>\n",
       "      <th>median</th>\n",
       "      <th>std</th>\n",
       "    </tr>\n",
       "    <tr>\n",
       "      <th>condition</th>\n",
       "      <th></th>\n",
       "      <th></th>\n",
       "      <th></th>\n",
       "    </tr>\n",
       "  </thead>\n",
       "  <tbody>\n",
       "    <tr>\n",
       "      <th>excellent</th>\n",
       "      <td>13026.2</td>\n",
       "      <td>10950.0</td>\n",
       "      <td>8350.1</td>\n",
       "    </tr>\n",
       "    <tr>\n",
       "      <th>fair</th>\n",
       "      <td>4590.2</td>\n",
       "      <td>3500.0</td>\n",
       "      <td>3293.4</td>\n",
       "    </tr>\n",
       "    <tr>\n",
       "      <th>good</th>\n",
       "      <td>10924.1</td>\n",
       "      <td>7995.0</td>\n",
       "      <td>8047.7</td>\n",
       "    </tr>\n",
       "    <tr>\n",
       "      <th>like new</th>\n",
       "      <td>15995.7</td>\n",
       "      <td>13985.0</td>\n",
       "      <td>10076.4</td>\n",
       "    </tr>\n",
       "    <tr>\n",
       "      <th>new</th>\n",
       "      <td>18792.8</td>\n",
       "      <td>16499.0</td>\n",
       "      <td>12064.5</td>\n",
       "    </tr>\n",
       "    <tr>\n",
       "      <th>salvage</th>\n",
       "      <td>6745.9</td>\n",
       "      <td>5000.0</td>\n",
       "      <td>4935.1</td>\n",
       "    </tr>\n",
       "  </tbody>\n",
       "</table>\n",
       "</div>"
      ],
      "text/plain": [
       "              mean   median      std\n",
       "condition                           \n",
       "excellent  13026.2  10950.0   8350.1\n",
       "fair        4590.2   3500.0   3293.4\n",
       "good       10924.1   7995.0   8047.7\n",
       "like new   15995.7  13985.0  10076.4\n",
       "new        18792.8  16499.0  12064.5\n",
       "salvage     6745.9   5000.0   4935.1"
      ]
     },
     "execution_count": 102,
     "metadata": {},
     "output_type": "execute_result"
    }
   ],
   "source": [
    "df.groupby(\"condition\")[\"price\"].agg([\"mean\", \"median\", \"std\"]).round(1)"
   ]
  },
  {
   "cell_type": "code",
   "execution_count": 112,
   "metadata": {},
   "outputs": [
    {
     "data": {
      "text/html": [
       "<div>\n",
       "<style scoped>\n",
       "    .dataframe tbody tr th:only-of-type {\n",
       "        vertical-align: middle;\n",
       "    }\n",
       "\n",
       "    .dataframe tbody tr th {\n",
       "        vertical-align: top;\n",
       "    }\n",
       "\n",
       "    .dataframe thead th {\n",
       "        text-align: right;\n",
       "    }\n",
       "</style>\n",
       "<table border=\"1\" class=\"dataframe\">\n",
       "  <thead>\n",
       "    <tr style=\"text-align: right;\">\n",
       "      <th></th>\n",
       "      <th>count</th>\n",
       "      <th>mean</th>\n",
       "      <th>std</th>\n",
       "      <th>min</th>\n",
       "      <th>25%</th>\n",
       "      <th>50%</th>\n",
       "      <th>75%</th>\n",
       "      <th>max</th>\n",
       "    </tr>\n",
       "    <tr>\n",
       "      <th>condition</th>\n",
       "      <th></th>\n",
       "      <th></th>\n",
       "      <th></th>\n",
       "      <th></th>\n",
       "      <th></th>\n",
       "      <th></th>\n",
       "      <th></th>\n",
       "      <th></th>\n",
       "    </tr>\n",
       "  </thead>\n",
       "  <tbody>\n",
       "    <tr>\n",
       "      <th>excellent</th>\n",
       "      <td>23339.0</td>\n",
       "      <td>13026.24</td>\n",
       "      <td>8350.15</td>\n",
       "      <td>1950.0</td>\n",
       "      <td>6750.0</td>\n",
       "      <td>10950.0</td>\n",
       "      <td>16995.0</td>\n",
       "      <td>44000.0</td>\n",
       "    </tr>\n",
       "    <tr>\n",
       "      <th>fair</th>\n",
       "      <td>1005.0</td>\n",
       "      <td>4590.17</td>\n",
       "      <td>3293.38</td>\n",
       "      <td>1950.0</td>\n",
       "      <td>2500.0</td>\n",
       "      <td>3500.0</td>\n",
       "      <td>5500.0</td>\n",
       "      <td>35000.0</td>\n",
       "    </tr>\n",
       "    <tr>\n",
       "      <th>good</th>\n",
       "      <td>19489.0</td>\n",
       "      <td>10924.14</td>\n",
       "      <td>8047.74</td>\n",
       "      <td>1950.0</td>\n",
       "      <td>4899.0</td>\n",
       "      <td>7995.0</td>\n",
       "      <td>15300.0</td>\n",
       "      <td>43995.0</td>\n",
       "    </tr>\n",
       "    <tr>\n",
       "      <th>like new</th>\n",
       "      <td>4456.0</td>\n",
       "      <td>15995.74</td>\n",
       "      <td>10076.37</td>\n",
       "      <td>1990.0</td>\n",
       "      <td>7500.0</td>\n",
       "      <td>13985.0</td>\n",
       "      <td>22988.0</td>\n",
       "      <td>43999.0</td>\n",
       "    </tr>\n",
       "    <tr>\n",
       "      <th>new</th>\n",
       "      <td>105.0</td>\n",
       "      <td>18792.81</td>\n",
       "      <td>12064.53</td>\n",
       "      <td>2400.0</td>\n",
       "      <td>8200.0</td>\n",
       "      <td>16499.0</td>\n",
       "      <td>29900.0</td>\n",
       "      <td>42500.0</td>\n",
       "    </tr>\n",
       "    <tr>\n",
       "      <th>salvage</th>\n",
       "      <td>65.0</td>\n",
       "      <td>6745.92</td>\n",
       "      <td>4935.13</td>\n",
       "      <td>2000.0</td>\n",
       "      <td>3000.0</td>\n",
       "      <td>5000.0</td>\n",
       "      <td>8750.0</td>\n",
       "      <td>22000.0</td>\n",
       "    </tr>\n",
       "  </tbody>\n",
       "</table>\n",
       "</div>"
      ],
      "text/plain": [
       "             count      mean       std     min     25%      50%      75%  \\\n",
       "condition                                                                  \n",
       "excellent  23339.0  13026.24   8350.15  1950.0  6750.0  10950.0  16995.0   \n",
       "fair        1005.0   4590.17   3293.38  1950.0  2500.0   3500.0   5500.0   \n",
       "good       19489.0  10924.14   8047.74  1950.0  4899.0   7995.0  15300.0   \n",
       "like new    4456.0  15995.74  10076.37  1990.0  7500.0  13985.0  22988.0   \n",
       "new          105.0  18792.81  12064.53  2400.0  8200.0  16499.0  29900.0   \n",
       "salvage       65.0   6745.92   4935.13  2000.0  3000.0   5000.0   8750.0   \n",
       "\n",
       "               max  \n",
       "condition           \n",
       "excellent  44000.0  \n",
       "fair       35000.0  \n",
       "good       43995.0  \n",
       "like new   43999.0  \n",
       "new        42500.0  \n",
       "salvage    22000.0  "
      ]
     },
     "execution_count": 112,
     "metadata": {},
     "output_type": "execute_result"
    }
   ],
   "source": [
    "df.groupby(\"condition\")[\"price\"].describe().round(2)"
   ]
  },
  {
   "cell_type": "code",
   "execution_count": 105,
   "metadata": {},
   "outputs": [
    {
     "name": "stderr",
     "output_type": "stream",
     "text": [
      "C:\\Users\\vkoul\\Anaconda3\\lib\\site-packages\\seaborn\\_base.py:948: FutureWarning: When grouping with a length-1 list-like, you will need to pass a length-1 tuple to get_group in a future version of pandas. Pass `(name,)` instead of `name` to silence this warning.\n",
      "  data_subset = grouped_data.get_group(pd_key)\n",
      "C:\\Users\\vkoul\\Anaconda3\\lib\\site-packages\\seaborn\\categorical.py:632: FutureWarning: SeriesGroupBy.grouper is deprecated and will be removed in a future version of pandas.\n",
      "  positions = grouped.grouper.result_index.to_numpy(dtype=float)\n",
      "C:\\Users\\vkoul\\Anaconda3\\lib\\site-packages\\seaborn\\_base.py:948: FutureWarning: When grouping with a length-1 list-like, you will need to pass a length-1 tuple to get_group in a future version of pandas. Pass `(name,)` instead of `name` to silence this warning.\n",
      "  data_subset = grouped_data.get_group(pd_key)\n",
      "C:\\Users\\vkoul\\Anaconda3\\lib\\site-packages\\seaborn\\categorical.py:632: FutureWarning: SeriesGroupBy.grouper is deprecated and will be removed in a future version of pandas.\n",
      "  positions = grouped.grouper.result_index.to_numpy(dtype=float)\n",
      "C:\\Users\\vkoul\\Anaconda3\\lib\\site-packages\\seaborn\\_base.py:948: FutureWarning: When grouping with a length-1 list-like, you will need to pass a length-1 tuple to get_group in a future version of pandas. Pass `(name,)` instead of `name` to silence this warning.\n",
      "  data_subset = grouped_data.get_group(pd_key)\n",
      "C:\\Users\\vkoul\\Anaconda3\\lib\\site-packages\\seaborn\\categorical.py:632: FutureWarning: SeriesGroupBy.grouper is deprecated and will be removed in a future version of pandas.\n",
      "  positions = grouped.grouper.result_index.to_numpy(dtype=float)\n",
      "C:\\Users\\vkoul\\Anaconda3\\lib\\site-packages\\seaborn\\_base.py:948: FutureWarning: When grouping with a length-1 list-like, you will need to pass a length-1 tuple to get_group in a future version of pandas. Pass `(name,)` instead of `name` to silence this warning.\n",
      "  data_subset = grouped_data.get_group(pd_key)\n",
      "C:\\Users\\vkoul\\Anaconda3\\lib\\site-packages\\seaborn\\categorical.py:632: FutureWarning: SeriesGroupBy.grouper is deprecated and will be removed in a future version of pandas.\n",
      "  positions = grouped.grouper.result_index.to_numpy(dtype=float)\n",
      "C:\\Users\\vkoul\\Anaconda3\\lib\\site-packages\\seaborn\\_base.py:948: FutureWarning: When grouping with a length-1 list-like, you will need to pass a length-1 tuple to get_group in a future version of pandas. Pass `(name,)` instead of `name` to silence this warning.\n",
      "  data_subset = grouped_data.get_group(pd_key)\n",
      "C:\\Users\\vkoul\\Anaconda3\\lib\\site-packages\\seaborn\\categorical.py:632: FutureWarning: SeriesGroupBy.grouper is deprecated and will be removed in a future version of pandas.\n",
      "  positions = grouped.grouper.result_index.to_numpy(dtype=float)\n",
      "C:\\Users\\vkoul\\Anaconda3\\lib\\site-packages\\seaborn\\_base.py:948: FutureWarning: When grouping with a length-1 list-like, you will need to pass a length-1 tuple to get_group in a future version of pandas. Pass `(name,)` instead of `name` to silence this warning.\n",
      "  data_subset = grouped_data.get_group(pd_key)\n",
      "C:\\Users\\vkoul\\Anaconda3\\lib\\site-packages\\seaborn\\categorical.py:632: FutureWarning: SeriesGroupBy.grouper is deprecated and will be removed in a future version of pandas.\n",
      "  positions = grouped.grouper.result_index.to_numpy(dtype=float)\n"
     ]
    },
    {
     "data": {
      "image/png": "[encoded data removed]",
      "text/plain": [
       "<Figure size 640x480 with 1 Axes>"
      ]
     },
     "metadata": {},
     "output_type": "display_data"
    }
   ],
   "source": [
    "sns.boxplot(data = df, x = \"condition\", y = \"price\", hue = \"condition\");"
   ]
  },
  {
   "cell_type": "code",
   "execution_count": 109,
   "metadata": {},
   "outputs": [],
   "source": [
    "cat_columns = df.select_dtypes(include = \"object\").columns.tolist()"
   ]
  },
  {
   "cell_type": "code",
   "execution_count": 114,
   "metadata": {},
   "outputs": [
    {
     "name": "stderr",
     "output_type": "stream",
     "text": [
      "C:\\Users\\vkoul\\Anaconda3\\lib\\site-packages\\seaborn\\categorical.py:632: FutureWarning: SeriesGroupBy.grouper is deprecated and will be removed in a future version of pandas.\n",
      "  positions = grouped.grouper.result_index.to_numpy(dtype=float)\n"
     ]
    },
    {
     "data": {
      "image/png": "[encoded data removed]",
      "text/plain": [
       "<Figure size 640x480 with 1 Axes>"
      ]
     },
     "metadata": {},
     "output_type": "display_data"
    }
   ],
   "source": [
    "sns.boxplot(data = df, x = \"transmission\", y = \"price\");"
   ]
  },
  {
   "cell_type": "code",
   "execution_count": 117,
   "metadata": {},
   "outputs": [
    {
     "name": "stderr",
     "output_type": "stream",
     "text": [
      "C:\\Users\\vkoul\\Anaconda3\\lib\\site-packages\\seaborn\\_base.py:948: FutureWarning: When grouping with a length-1 list-like, you will need to pass a length-1 tuple to get_group in a future version of pandas. Pass `(name,)` instead of `name` to silence this warning.\n",
      "  data_subset = grouped_data.get_group(pd_key)\n",
      "C:\\Users\\vkoul\\Anaconda3\\lib\\site-packages\\seaborn\\categorical.py:632: FutureWarning: SeriesGroupBy.grouper is deprecated and will be removed in a future version of pandas.\n",
      "  positions = grouped.grouper.result_index.to_numpy(dtype=float)\n",
      "C:\\Users\\vkoul\\Anaconda3\\lib\\site-packages\\seaborn\\_base.py:948: FutureWarning: When grouping with a length-1 list-like, you will need to pass a length-1 tuple to get_group in a future version of pandas. Pass `(name,)` instead of `name` to silence this warning.\n",
      "  data_subset = grouped_data.get_group(pd_key)\n",
      "C:\\Users\\vkoul\\Anaconda3\\lib\\site-packages\\seaborn\\categorical.py:632: FutureWarning: SeriesGroupBy.grouper is deprecated and will be removed in a future version of pandas.\n",
      "  positions = grouped.grouper.result_index.to_numpy(dtype=float)\n",
      "C:\\Users\\vkoul\\Anaconda3\\lib\\site-packages\\seaborn\\_base.py:948: FutureWarning: When grouping with a length-1 list-like, you will need to pass a length-1 tuple to get_group in a future version of pandas. Pass `(name,)` instead of `name` to silence this warning.\n",
      "  data_subset = grouped_data.get_group(pd_key)\n",
      "C:\\Users\\vkoul\\Anaconda3\\lib\\site-packages\\seaborn\\categorical.py:632: FutureWarning: SeriesGroupBy.grouper is deprecated and will be removed in a future version of pandas.\n",
      "  positions = grouped.grouper.result_index.to_numpy(dtype=float)\n",
      "C:\\Users\\vkoul\\Anaconda3\\lib\\site-packages\\seaborn\\_base.py:948: FutureWarning: When grouping with a length-1 list-like, you will need to pass a length-1 tuple to get_group in a future version of pandas. Pass `(name,)` instead of `name` to silence this warning.\n",
      "  data_subset = grouped_data.get_group(pd_key)\n",
      "C:\\Users\\vkoul\\Anaconda3\\lib\\site-packages\\seaborn\\categorical.py:632: FutureWarning: SeriesGroupBy.grouper is deprecated and will be removed in a future version of pandas.\n",
      "  positions = grouped.grouper.result_index.to_numpy(dtype=float)\n",
      "C:\\Users\\vkoul\\Anaconda3\\lib\\site-packages\\seaborn\\_base.py:948: FutureWarning: When grouping with a length-1 list-like, you will need to pass a length-1 tuple to get_group in a future version of pandas. Pass `(name,)` instead of `name` to silence this warning.\n",
      "  data_subset = grouped_data.get_group(pd_key)\n",
      "C:\\Users\\vkoul\\Anaconda3\\lib\\site-packages\\seaborn\\categorical.py:632: FutureWarning: SeriesGroupBy.grouper is deprecated and will be removed in a future version of pandas.\n",
      "  positions = grouped.grouper.result_index.to_numpy(dtype=float)\n",
      "C:\\Users\\vkoul\\Anaconda3\\lib\\site-packages\\seaborn\\_base.py:948: FutureWarning: When grouping with a length-1 list-like, you will need to pass a length-1 tuple to get_group in a future version of pandas. Pass `(name,)` instead of `name` to silence this warning.\n",
      "  data_subset = grouped_data.get_group(pd_key)\n",
      "C:\\Users\\vkoul\\Anaconda3\\lib\\site-packages\\seaborn\\categorical.py:632: FutureWarning: SeriesGroupBy.grouper is deprecated and will be removed in a future version of pandas.\n",
      "  positions = grouped.grouper.result_index.to_numpy(dtype=float)\n"
     ]
    },
    {
     "ename": "AttributeError",
     "evalue": "module 'matplotlib.pyplot' has no attribute 'bbox_to_anchor'",
     "output_type": "error",
     "traceback": [
      "\u001b[1;31m---------------------------------------------------------------------------\u001b[0m",
      "\u001b[1;31mAttributeError\u001b[0m                            Traceback (most recent call last)",
      "\u001b[1;32m~\\AppData\\Local\\Temp\\1\\ipykernel_38160\\3407295092.py\u001b[0m in \u001b[0;36m<module>\u001b[1;34m\u001b[0m\n\u001b[0;32m      1\u001b[0m \u001b[0msns\u001b[0m\u001b[1;33m.\u001b[0m\u001b[0mboxplot\u001b[0m\u001b[1;33m(\u001b[0m\u001b[0mdata\u001b[0m \u001b[1;33m=\u001b[0m \u001b[0mdf\u001b[0m\u001b[1;33m,\u001b[0m \u001b[0mx\u001b[0m \u001b[1;33m=\u001b[0m \u001b[1;34m\"transmission\"\u001b[0m\u001b[1;33m,\u001b[0m \u001b[0my\u001b[0m \u001b[1;33m=\u001b[0m \u001b[1;34m\"price\"\u001b[0m\u001b[1;33m,\u001b[0m \u001b[0mhue\u001b[0m \u001b[1;33m=\u001b[0m \u001b[1;34m\"condition\"\u001b[0m\u001b[1;33m)\u001b[0m\u001b[1;33m;\u001b[0m\u001b[1;33m\u001b[0m\u001b[1;33m\u001b[0m\u001b[0m\n\u001b[1;32m----> 2\u001b[1;33m \u001b[0mplt\u001b[0m\u001b[1;33m.\u001b[0m\u001b[0mbbox_to_anchor\u001b[0m\u001b[1;33m(\u001b[0m\u001b[1;36m1.3\u001b[0m\u001b[1;33m,\u001b[0m\u001b[1;36m1.5\u001b[0m\u001b[1;33m)\u001b[0m\u001b[1;33m\u001b[0m\u001b[1;33m\u001b[0m\u001b[0m\n\u001b[0m",
      "\u001b[1;31mAttributeError\u001b[0m: module 'matplotlib.pyplot' has no attribute 'bbox_to_anchor'"
     ]
    },
    {
     "data": {
      "image/png": "[encoded data removed]",
      "text/plain": [
       "<Figure size 640x480 with 1 Axes>"
      ]
     },
     "metadata": {},
     "output_type": "display_data"
    }
   ],
   "source": [
    "sns.boxplot(data = df, x = \"transmission\", y = \"price\", hue = \"condition\");\n",
    "plt.bbox_to_anchor(1.3,1.5)"
   ]
  }
 ],
 "metadata": {
  "colab": {
   "provenance": []
  },
  "kernelspec": {
   "display_name": "Python 3 (ipykernel)",
   "language": "python",
   "name": "python3"
  },
  "language_info": {
   "codemirror_mode": {
    "name": "ipython",
    "version": 3
   },
   "file_extension": ".py",
   "mimetype": "text/x-python",
   "name": "python",
   "nbconvert_exporter": "python",
   "pygments_lexer": "ipython3",
   "version": "3.9.13"
  },
  "toc": {
   "base_numbering": 1,
   "nav_menu": {},
   "number_sections": true,
   "sideBar": true,
   "skip_h1_title": false,
   "title_cell": "Table of Contents",
   "title_sidebar": "Contents",
   "toc_cell": false,
   "toc_position": {},
   "toc_section_display": true,
   "toc_window_display": false
  }
 },
 "nbformat": 4,
 "nbformat_minor": 1
}
