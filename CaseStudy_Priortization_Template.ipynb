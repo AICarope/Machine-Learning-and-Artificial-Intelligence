{
  "cells": [
    {
      "cell_type": "markdown",
      "id": "368ab574",
      "metadata": {
        "id": "368ab574"
      },
      "source": [
        "<div class=\"alert alert-block alert-success\">\n",
        "    \n",
        " # Berkeley- PCMLAI: Module 1\n",
        "    \n",
        " 👨‍🏫 **Vikesh K**      \n",
        " #️⃣ **OH-01**\n",
        "  \n",
        "\n",
        "</div>"
      ]
    },
    {
      "cell_type": "markdown",
      "id": "G-v2BIFbVj-O",
      "metadata": {
        "id": "G-v2BIFbVj-O"
      },
      "source": []
    },
    {
      "cell_type": "markdown",
      "id": "c2188e81",
      "metadata": {
        "id": "c2188e81"
      },
      "source": [
        "# Case Study: Prioritise Product Development work"
      ]
    },
    {
      "cell_type": "markdown",
      "id": "944cc266",
      "metadata": {
        "id": "944cc266"
      },
      "source": [
        "![grubhub.png](attachment:grubhub.png)\n",
        "\n",
        "\n",
        "Given the below data which state should we focus our only available product development team on?\n",
        "\n",
        "Respond with your answer and reasoning. Where you don't have enough data to make a decision, make assumptions and list\n",
        "them in your response.\n",
        "\n",
        "**Data Dictionary**\n",
        "\n",
        "- `total_orders`: online food orders placed on grubhub.com\n",
        "- `visits`:  the number of unique times people have gone to grubhub.com\n",
        "- `revenue`: the amount of money we are making"
      ]
    },
    {
      "cell_type": "markdown",
      "id": "c5704478",
      "metadata": {
        "id": "c5704478"
      },
      "source": [
        "**Company Details**\n",
        "\n",
        "Grubhub is a part of Just Eat Takeaway.com, a leading global online food delivery marketplace, and features more than 365,000 restaurant partners in over 4,000 U.S. cities."
      ]
    },
    {
      "cell_type": "markdown",
      "id": "6fc8d9c6",
      "metadata": {
        "id": "6fc8d9c6"
      },
      "source": [
        "![image.png](attachment:image.png)"
      ]
    },
    {
      "cell_type": "markdown",
      "id": "m9uBL5gX-_QK",
      "metadata": {
        "id": "m9uBL5gX-_QK"
      },
      "source": [
        "# Loading the Data Set\n"
      ]
    },
    {
      "cell_type": "code",
      "execution_count": 4,
      "id": "c778cd36",
      "metadata": {
        "id": "c778cd36"
      },
      "outputs": [],
      "source": [
        "#1. SOLVE A PROBLEM\n",
        "#calculate the average revenue per visit for each state:\n",
        "\n",
        "import pandas as pd\n",
        "import seaborn as sns\n",
        "import matplotlib.pyplot as plt\n",
        "                         \n",
        "pd.set_option('display.float_format', lambda x: '%.2f' % x)"
      ]
    },
    {
      "cell_type": "code",
      "execution_count": 5,
      "id": "BUopPH_G_KLu",
      "metadata": {
        "id": "BUopPH_G_KLu"
      },
      "outputs": [],
      "source": [
        "#use a URL to load data to a DataFrame.\n",
        "url = 'https://raw.githubusercontent.com/vkoul/data/main/misc/online_orders.csv'\n",
        "df = pd.read_csv(url)\n"
      ]
    },
    {
      "cell_type": "code",
      "execution_count": 27,
      "id": "ad75abc9",
      "metadata": {},
      "outputs": [
        {
          "name": "stdout",
          "output_type": "stream",
          "text": [
            "<class 'pandas.core.frame.DataFrame'>\n",
            "RangeIndex: 724 entries, 0 to 723\n",
            "Data columns (total 6 columns):\n",
            " #   Column             Non-Null Count  Dtype         \n",
            "---  ------             --------------  -----         \n",
            " 0   date               724 non-null    datetime64[ns]\n",
            " 1   state              724 non-null    object        \n",
            " 2   total_orders       724 non-null    int64         \n",
            " 3   revenue            724 non-null    float64       \n",
            " 4   visits             724 non-null    int64         \n",
            " 5   revenue_per_visit  724 non-null    float64       \n",
            "dtypes: datetime64[ns](1), float64(2), int64(2), object(1)\n",
            "memory usage: 34.1+ KB\n"
          ]
        }
      ],
      "source": [
        "df.info() #Identify the data types "
      ]
    },
    {
      "cell_type": "code",
      "execution_count": 22,
      "id": "252e8bde",
      "metadata": {},
      "outputs": [],
      "source": [
        "df = pd.read_csv(url, parse_dates = ['date']) #code to ceonver the date from object data type to date and time data type"
      ]
    },
    {
      "cell_type": "code",
      "execution_count": 23,
      "id": "m3BgzX-0_Tlu",
      "metadata": {
        "colab": {
          "base_uri": "https://localhost:8080/",
          "height": 206
        },
        "id": "m3BgzX-0_Tlu",
        "outputId": "8afc9f26-fc2e-41c3-d8f5-f0689ea0ba90"
      },
      "outputs": [
        {
          "data": {
            "text/html": [
              "<div>\n",
              "<style scoped>\n",
              "    .dataframe tbody tr th:only-of-type {\n",
              "        vertical-align: middle;\n",
              "    }\n",
              "\n",
              "    .dataframe tbody tr th {\n",
              "        vertical-align: top;\n",
              "    }\n",
              "\n",
              "    .dataframe thead th {\n",
              "        text-align: right;\n",
              "    }\n",
              "</style>\n",
              "<table border=\"1\" class=\"dataframe\">\n",
              "  <thead>\n",
              "    <tr style=\"text-align: right;\">\n",
              "      <th></th>\n",
              "      <th>date</th>\n",
              "      <th>state</th>\n",
              "      <th>total_orders</th>\n",
              "      <th>revenue</th>\n",
              "      <th>visits</th>\n",
              "    </tr>\n",
              "  </thead>\n",
              "  <tbody>\n",
              "    <tr>\n",
              "      <th>0</th>\n",
              "      <td>2014-01-01</td>\n",
              "      <td>CA</td>\n",
              "      <td>411</td>\n",
              "      <td>10369.53</td>\n",
              "      <td>17633</td>\n",
              "    </tr>\n",
              "    <tr>\n",
              "      <th>1</th>\n",
              "      <td>2014-01-02</td>\n",
              "      <td>CA</td>\n",
              "      <td>347</td>\n",
              "      <td>8754.81</td>\n",
              "      <td>15949</td>\n",
              "    </tr>\n",
              "    <tr>\n",
              "      <th>2</th>\n",
              "      <td>2014-01-03</td>\n",
              "      <td>CA</td>\n",
              "      <td>522</td>\n",
              "      <td>13170.06</td>\n",
              "      <td>11731</td>\n",
              "    </tr>\n",
              "    <tr>\n",
              "      <th>3</th>\n",
              "      <td>2014-01-04</td>\n",
              "      <td>CA</td>\n",
              "      <td>635</td>\n",
              "      <td>16021.05</td>\n",
              "      <td>16728</td>\n",
              "    </tr>\n",
              "    <tr>\n",
              "      <th>4</th>\n",
              "      <td>2014-01-05</td>\n",
              "      <td>CA</td>\n",
              "      <td>214</td>\n",
              "      <td>5399.22</td>\n",
              "      <td>12570</td>\n",
              "    </tr>\n",
              "  </tbody>\n",
              "</table>\n",
              "</div>"
            ],
            "text/plain": [
              "        date state  total_orders  revenue  visits\n",
              "0 2014-01-01    CA           411 10369.53   17633\n",
              "1 2014-01-02    CA           347  8754.81   15949\n",
              "2 2014-01-03    CA           522 13170.06   11731\n",
              "3 2014-01-04    CA           635 16021.05   16728\n",
              "4 2014-01-05    CA           214  5399.22   12570"
            ]
          },
          "execution_count": 23,
          "metadata": {},
          "output_type": "execute_result"
        }
      ],
      "source": [
        "df.head()"
      ]
    },
    {
      "cell_type": "code",
      "execution_count": 24,
      "id": "6411c773",
      "metadata": {},
      "outputs": [
        {
          "data": {
            "text/html": [
              "<div>\n",
              "<style scoped>\n",
              "    .dataframe tbody tr th:only-of-type {\n",
              "        vertical-align: middle;\n",
              "    }\n",
              "\n",
              "    .dataframe tbody tr th {\n",
              "        vertical-align: top;\n",
              "    }\n",
              "\n",
              "    .dataframe thead th {\n",
              "        text-align: right;\n",
              "    }\n",
              "</style>\n",
              "<table border=\"1\" class=\"dataframe\">\n",
              "  <thead>\n",
              "    <tr style=\"text-align: right;\">\n",
              "      <th></th>\n",
              "      <th>date</th>\n",
              "      <th>state</th>\n",
              "      <th>total_orders</th>\n",
              "      <th>revenue</th>\n",
              "      <th>visits</th>\n",
              "    </tr>\n",
              "  </thead>\n",
              "  <tbody>\n",
              "    <tr>\n",
              "      <th>288</th>\n",
              "      <td>2014-04-18</td>\n",
              "      <td>IL</td>\n",
              "      <td>12995</td>\n",
              "      <td>287319.45</td>\n",
              "      <td>95908</td>\n",
              "    </tr>\n",
              "    <tr>\n",
              "      <th>283</th>\n",
              "      <td>2014-04-13</td>\n",
              "      <td>IL</td>\n",
              "      <td>13407</td>\n",
              "      <td>296428.77</td>\n",
              "      <td>135494</td>\n",
              "    </tr>\n",
              "    <tr>\n",
              "      <th>128</th>\n",
              "      <td>2014-05-09</td>\n",
              "      <td>CA</td>\n",
              "      <td>619</td>\n",
              "      <td>15617.37</td>\n",
              "      <td>18587</td>\n",
              "    </tr>\n",
              "    <tr>\n",
              "      <th>609</th>\n",
              "      <td>2014-03-08</td>\n",
              "      <td>IA</td>\n",
              "      <td>27985</td>\n",
              "      <td>7657255.70</td>\n",
              "      <td>2141595</td>\n",
              "    </tr>\n",
              "    <tr>\n",
              "      <th>441</th>\n",
              "      <td>2014-03-21</td>\n",
              "      <td>NYC</td>\n",
              "      <td>21450</td>\n",
              "      <td>2286999.00</td>\n",
              "      <td>244639</td>\n",
              "    </tr>\n",
              "    <tr>\n",
              "      <th>378</th>\n",
              "      <td>2014-01-17</td>\n",
              "      <td>NYC</td>\n",
              "      <td>16364</td>\n",
              "      <td>713797.68</td>\n",
              "      <td>376631</td>\n",
              "    </tr>\n",
              "    <tr>\n",
              "      <th>406</th>\n",
              "      <td>2014-02-14</td>\n",
              "      <td>NYC</td>\n",
              "      <td>13726</td>\n",
              "      <td>983056.12</td>\n",
              "      <td>135076</td>\n",
              "    </tr>\n",
              "    <tr>\n",
              "      <th>599</th>\n",
              "      <td>2014-02-26</td>\n",
              "      <td>IA</td>\n",
              "      <td>23739</td>\n",
              "      <td>6258075.18</td>\n",
              "      <td>2177485</td>\n",
              "    </tr>\n",
              "    <tr>\n",
              "      <th>54</th>\n",
              "      <td>2014-02-24</td>\n",
              "      <td>CA</td>\n",
              "      <td>803</td>\n",
              "      <td>20259.69</td>\n",
              "      <td>22088</td>\n",
              "    </tr>\n",
              "    <tr>\n",
              "      <th>570</th>\n",
              "      <td>2014-01-28</td>\n",
              "      <td>IA</td>\n",
              "      <td>29646</td>\n",
              "      <td>6955544.52</td>\n",
              "      <td>3149489</td>\n",
              "    </tr>\n",
              "  </tbody>\n",
              "</table>\n",
              "</div>"
            ],
            "text/plain": [
              "          date state  total_orders    revenue   visits\n",
              "288 2014-04-18    IL         12995  287319.45    95908\n",
              "283 2014-04-13    IL         13407  296428.77   135494\n",
              "128 2014-05-09    CA           619   15617.37    18587\n",
              "609 2014-03-08    IA         27985 7657255.70  2141595\n",
              "441 2014-03-21   NYC         21450 2286999.00   244639\n",
              "378 2014-01-17   NYC         16364  713797.68   376631\n",
              "406 2014-02-14   NYC         13726  983056.12   135076\n",
              "599 2014-02-26    IA         23739 6258075.18  2177485\n",
              "54  2014-02-24    CA           803   20259.69    22088\n",
              "570 2014-01-28    IA         29646 6955544.52  3149489"
            ]
          },
          "execution_count": 24,
          "metadata": {},
          "output_type": "execute_result"
        }
      ],
      "source": [
        "df.sample(10)\n"
      ]
    },
    {
      "cell_type": "code",
      "execution_count": 25,
      "id": "ac8409c6",
      "metadata": {},
      "outputs": [
        {
          "data": {
            "image/png": "[encoded data removed]",
            "text/plain": [
              "<Figure size 640x480 with 1 Axes>"
            ]
          },
          "metadata": {},
          "output_type": "display_data"
        }
      ],
      "source": [
        "#2. LEARN THE HYPOTHESIS\n",
        "#What should we learn in the data\n",
        "    #Duplication\n",
        "    #Missing values\n",
        "    #Column Types: maybe change it\n",
        "    #Shape of the data\n",
        "    #Overall Size\n",
        "    #Negative Revenue\n",
        "#whether higher visits correlate with higher revenue\n",
        "\n",
        "# Plot correlation between visits and revenue\n",
        "sns.scatterplot(data=df, x='visits', y='revenue', hue='state')\n",
        "plt.title('Correlation between Visits and Revenue')\n",
        "plt.show()"
      ]
    },
    {
      "cell_type": "code",
      "execution_count": 26,
      "id": "5c8f399f",
      "metadata": {
        "id": "5c8f399f"
      },
      "outputs": [
        {
          "name": "stdout",
          "output_type": "stream",
          "text": [
            "state\n",
            "CA    0.77\n",
            "IA    3.07\n",
            "IL    2.20\n",
            "NYC   7.23\n",
            "Name: revenue_per_visit, dtype: float64\n"
          ]
        }
      ],
      "source": [
        "# Calculate average revenue per visit for each state\n",
        "df['revenue_per_visit'] = df['revenue'] / df['visits']\n",
        "average_revenue_per_visit = df.groupby('state')['revenue_per_visit'].mean()\n",
        "print(average_revenue_per_visit)"
      ]
    },
    {
      "cell_type": "code",
      "execution_count": 8,
      "id": "cd6237f4",
      "metadata": {
        "id": "cd6237f4"
      },
      "outputs": [
        {
          "name": "stdout",
          "output_type": "stream",
          "text": [
            "         visits  revenue\n",
            "visits     1.00     0.88\n",
            "revenue    0.88     1.00\n"
          ]
        }
      ],
      "source": [
        "# Calculate correlation coefficient\n",
        "correlation = df[['visits', 'revenue']].corr()\n",
        "print(correlation)"
      ]
    },
    {
      "cell_type": "code",
      "execution_count": 9,
      "id": "027f2ec4",
      "metadata": {
        "id": "027f2ec4"
      },
      "outputs": [
        {
          "name": "stdout",
          "output_type": "stream",
          "text": [
            "date                 2/14/2014\n",
            "state                       CA\n",
            "total_orders               968\n",
            "revenue               24422.64\n",
            "visits                   27334\n",
            "revenue_per_visit         0.89\n",
            "Name: 44, dtype: object\n"
          ]
        }
      ],
      "source": [
        "#3. ANSWER BUSINESS QUESTIONS\n",
        "#How to develop a high level understanding of the data .describe()\n",
        "    #Total Revenue\n",
        "    #Total Visit\n",
        "    #Total Orders\n",
        "       #State level\n",
        "    #AOV, AVV\n",
        "#For example, finding the day with the highest number of orders in California:\n",
        "\n",
        "# Filter data for California\n",
        "ca_data = df[df['state'] == 'CA']\n",
        "\n",
        "# Find the day with the highest number of orders\n",
        "max_orders_day = ca_data.loc[ca_data['total_orders'].idxmax()]\n",
        "print(max_orders_day)"
      ]
    },
    {
      "cell_type": "code",
      "execution_count": 16,
      "id": "d253b321",
      "metadata": {},
      "outputs": [
        {
          "name": "stdout",
          "output_type": "stream",
          "text": [
            "<class 'pandas.core.frame.DataFrame'>\n",
            "RangeIndex: 724 entries, 0 to 723\n",
            "Data columns (total 6 columns):\n",
            " #   Column             Non-Null Count  Dtype         \n",
            "---  ------             --------------  -----         \n",
            " 0   date               724 non-null    datetime64[ns]\n",
            " 1   state              724 non-null    object        \n",
            " 2   total_orders       724 non-null    int64         \n",
            " 3   revenue            724 non-null    float64       \n",
            " 4   visits             724 non-null    int64         \n",
            " 5   revenue_per_visit  724 non-null    float64       \n",
            "dtypes: datetime64[ns](1), float64(2), int64(2), object(1)\n",
            "memory usage: 34.1+ KB\n"
          ]
        }
      ],
      "source": [
        "#4. IDENTIFY TRENDS\n",
        "#How woul dyou drill down into the details\n",
        "#What questions would you like to answer\n",
        "#How would you aproach it numerrically and graphically?\n",
        "    #State with Visits and low Revenue\n",
        "    #Reveneu, Visits, and Order trends\n",
        "    #Peak and non peak of the data\n",
        "    #Seasonality\n",
        "df.info()\n",
        "#Note that the Date was converted from data type Object to Datatime\n"
      ]
    },
    {
      "cell_type": "code",
      "execution_count": 18,
      "id": "013bb230",
      "metadata": {},
      "outputs": [
        {
          "data": {
            "text/plain": [
              "date                 0\n",
              "state                0\n",
              "total_orders         0\n",
              "revenue              0\n",
              "visits               0\n",
              "revenue_per_visit    0\n",
              "dtype: int64"
            ]
          },
          "execution_count": 18,
          "metadata": {},
          "output_type": "execute_result"
        }
      ],
      "source": [
        "df.isna().sum()"
      ]
    },
    {
      "cell_type": "code",
      "execution_count": 19,
      "id": "4e8bfd42",
      "metadata": {},
      "outputs": [
        {
          "data": {
            "text/plain": [
              "date                0.00\n",
              "state               0.00\n",
              "total_orders        0.00\n",
              "revenue             0.00\n",
              "visits              0.00\n",
              "revenue_per_visit   0.00\n",
              "dtype: float64"
            ]
          },
          "execution_count": 19,
          "metadata": {},
          "output_type": "execute_result"
        }
      ],
      "source": [
        "df.isna().mean()"
      ]
    },
    {
      "cell_type": "code",
      "execution_count": 20,
      "id": "53344b2a",
      "metadata": {},
      "outputs": [
        {
          "data": {
            "text/plain": [
              "date                 0\n",
              "state                0\n",
              "total_orders         0\n",
              "revenue              0\n",
              "visits               0\n",
              "revenue_per_visit    0\n",
              "dtype: int64"
            ]
          },
          "execution_count": 20,
          "metadata": {},
          "output_type": "execute_result"
        }
      ],
      "source": [
        "df.isnull().sum()"
      ]
    },
    {
      "cell_type": "code",
      "execution_count": 21,
      "id": "b63a91bf",
      "metadata": {},
      "outputs": [
        {
          "data": {
            "text/plain": [
              "0"
            ]
          },
          "execution_count": 21,
          "metadata": {},
          "output_type": "execute_result"
        }
      ],
      "source": [
        "df.duplicated().sum()"
      ]
    },
    {
      "cell_type": "code",
      "execution_count": null,
      "id": "2e136811",
      "metadata": {},
      "outputs": [],
      "source": [
        "#monthly revenue trends:\n",
        "# Convert date column FROM ONBJECT TO to DATETIME\n",
        "df['date'] = pd.to_datetime(df['date'])\n",
        "\n",
        "# Group by month and state to find monthly revenue\n",
        "monthly_revenue = df.groupby([df['date'].dt.to_period('M'), 'state'])['revenue'].sum().unstack()\n",
        "monthly_revenue"
      ]
    },
    {
      "cell_type": "code",
      "execution_count": 12,
      "id": "6f33e7b9",
      "metadata": {},
      "outputs": [
        {
          "name": "stdout",
          "output_type": "stream",
          "text": [
            "date                 0\n",
            "state                0\n",
            "total_orders         0\n",
            "revenue              0\n",
            "visits               0\n",
            "revenue_per_visit    0\n",
            "dtype: int64\n"
          ]
        }
      ],
      "source": [
        "#5. MAKE THE CORRECT DATA FORMS\n",
        "#To clean and format the data correctly, such as handling missing values or incorrect data entries:\n",
        "# Check for missing values\n",
        "print(df.isnull().sum())\n",
        "\n",
        "# Fill missing values or correct data types\n",
        "df['revenue'] = df['revenue'].replace('to', '').astype(float)\n",
        "df.fillna(0, inplace=True)"
      ]
    },
    {
      "cell_type": "code",
      "execution_count": 29,
      "id": "4b93405a",
      "metadata": {},
      "outputs": [
        {
          "data": {
            "text/html": [
              "<div>\n",
              "<style scoped>\n",
              "    .dataframe tbody tr th:only-of-type {\n",
              "        vertical-align: middle;\n",
              "    }\n",
              "\n",
              "    .dataframe tbody tr th {\n",
              "        vertical-align: top;\n",
              "    }\n",
              "\n",
              "    .dataframe thead th {\n",
              "        text-align: right;\n",
              "    }\n",
              "</style>\n",
              "<table border=\"1\" class=\"dataframe\">\n",
              "  <thead>\n",
              "    <tr style=\"text-align: right;\">\n",
              "      <th></th>\n",
              "      <th>state</th>\n",
              "      <th>CA</th>\n",
              "      <th>IA</th>\n",
              "      <th>IL</th>\n",
              "      <th>NYC</th>\n",
              "    </tr>\n",
              "  </thead>\n",
              "  <tbody>\n",
              "    <tr>\n",
              "      <th rowspan=\"8\" valign=\"top\">date</th>\n",
              "      <th>count</th>\n",
              "      <td>181</td>\n",
              "      <td>181</td>\n",
              "      <td>181</td>\n",
              "      <td>181</td>\n",
              "    </tr>\n",
              "    <tr>\n",
              "      <th>mean</th>\n",
              "      <td>2014-04-01 00:00:00</td>\n",
              "      <td>2014-04-01 00:00:00</td>\n",
              "      <td>2014-04-01 00:00:00</td>\n",
              "      <td>2014-04-01 00:00:00</td>\n",
              "    </tr>\n",
              "    <tr>\n",
              "      <th>min</th>\n",
              "      <td>2014-01-01 00:00:00</td>\n",
              "      <td>2014-01-01 00:00:00</td>\n",
              "      <td>2014-01-01 00:00:00</td>\n",
              "      <td>2014-01-01 00:00:00</td>\n",
              "    </tr>\n",
              "    <tr>\n",
              "      <th>25%</th>\n",
              "      <td>2014-02-15 00:00:00</td>\n",
              "      <td>2014-02-15 00:00:00</td>\n",
              "      <td>2014-02-15 00:00:00</td>\n",
              "      <td>2014-02-15 00:00:00</td>\n",
              "    </tr>\n",
              "    <tr>\n",
              "      <th>50%</th>\n",
              "      <td>2014-04-01 00:00:00</td>\n",
              "      <td>2014-04-01 00:00:00</td>\n",
              "      <td>2014-04-01 00:00:00</td>\n",
              "      <td>2014-04-01 00:00:00</td>\n",
              "    </tr>\n",
              "    <tr>\n",
              "      <th>75%</th>\n",
              "      <td>2014-05-16 00:00:00</td>\n",
              "      <td>2014-05-16 00:00:00</td>\n",
              "      <td>2014-05-16 00:00:00</td>\n",
              "      <td>2014-05-16 00:00:00</td>\n",
              "    </tr>\n",
              "    <tr>\n",
              "      <th>max</th>\n",
              "      <td>2014-06-30 00:00:00</td>\n",
              "      <td>2014-06-30 00:00:00</td>\n",
              "      <td>2014-06-30 00:00:00</td>\n",
              "      <td>2014-06-30 00:00:00</td>\n",
              "    </tr>\n",
              "    <tr>\n",
              "      <th>std</th>\n",
              "      <td>NaN</td>\n",
              "      <td>NaN</td>\n",
              "      <td>NaN</td>\n",
              "      <td>NaN</td>\n",
              "    </tr>\n",
              "    <tr>\n",
              "      <th rowspan=\"8\" valign=\"top\">total_orders</th>\n",
              "      <th>count</th>\n",
              "      <td>181.00</td>\n",
              "      <td>181.00</td>\n",
              "      <td>181.00</td>\n",
              "      <td>181.00</td>\n",
              "    </tr>\n",
              "    <tr>\n",
              "      <th>mean</th>\n",
              "      <td>568.10</td>\n",
              "      <td>25481.33</td>\n",
              "      <td>11095.65</td>\n",
              "      <td>16334.57</td>\n",
              "    </tr>\n",
              "    <tr>\n",
              "      <th>min</th>\n",
              "      <td>164.00</td>\n",
              "      <td>3254.00</td>\n",
              "      <td>1507.00</td>\n",
              "      <td>4300.00</td>\n",
              "    </tr>\n",
              "    <tr>\n",
              "      <th>25%</th>\n",
              "      <td>441.00</td>\n",
              "      <td>19884.00</td>\n",
              "      <td>7281.00</td>\n",
              "      <td>12073.00</td>\n",
              "    </tr>\n",
              "    <tr>\n",
              "      <th>50%</th>\n",
              "      <td>574.00</td>\n",
              "      <td>26080.00</td>\n",
              "      <td>10198.00</td>\n",
              "      <td>16435.00</td>\n",
              "    </tr>\n",
              "    <tr>\n",
              "      <th>75%</th>\n",
              "      <td>700.00</td>\n",
              "      <td>30204.00</td>\n",
              "      <td>14594.00</td>\n",
              "      <td>20116.00</td>\n",
              "    </tr>\n",
              "    <tr>\n",
              "      <th>max</th>\n",
              "      <td>968.00</td>\n",
              "      <td>44035.00</td>\n",
              "      <td>26249.00</td>\n",
              "      <td>34801.00</td>\n",
              "    </tr>\n",
              "    <tr>\n",
              "      <th>std</th>\n",
              "      <td>175.90</td>\n",
              "      <td>7522.04</td>\n",
              "      <td>5192.89</td>\n",
              "      <td>5959.35</td>\n",
              "    </tr>\n",
              "    <tr>\n",
              "      <th rowspan=\"8\" valign=\"top\">revenue</th>\n",
              "      <th>count</th>\n",
              "      <td>181.00</td>\n",
              "      <td>181.00</td>\n",
              "      <td>181.00</td>\n",
              "      <td>181.00</td>\n",
              "    </tr>\n",
              "    <tr>\n",
              "      <th>mean</th>\n",
              "      <td>14333.15</td>\n",
              "      <td>7672617.57</td>\n",
              "      <td>245324.74</td>\n",
              "      <td>2073591.88</td>\n",
              "    </tr>\n",
              "    <tr>\n",
              "      <th>min</th>\n",
              "      <td>4137.72</td>\n",
              "      <td>721151.48</td>\n",
              "      <td>33319.77</td>\n",
              "      <td>161336.78</td>\n",
              "    </tr>\n",
              "    <tr>\n",
              "      <th>25%</th>\n",
              "      <td>11126.43</td>\n",
              "      <td>5716969.92</td>\n",
              "      <td>160982.91</td>\n",
              "      <td>915903.56</td>\n",
              "    </tr>\n",
              "    <tr>\n",
              "      <th>50%</th>\n",
              "      <td>14482.02</td>\n",
              "      <td>7448461.74</td>\n",
              "      <td>225477.78</td>\n",
              "      <td>1664845.54</td>\n",
              "    </tr>\n",
              "    <tr>\n",
              "      <th>75%</th>\n",
              "      <td>17661.00</td>\n",
              "      <td>9521290.74</td>\n",
              "      <td>322673.34</td>\n",
              "      <td>2879696.52</td>\n",
              "    </tr>\n",
              "    <tr>\n",
              "      <th>max</th>\n",
              "      <td>24422.64</td>\n",
              "      <td>16056648.30</td>\n",
              "      <td>580365.39</td>\n",
              "      <td>6529363.62</td>\n",
              "    </tr>\n",
              "    <tr>\n",
              "      <th>std</th>\n",
              "      <td>4438.03</td>\n",
              "      <td>2888023.31</td>\n",
              "      <td>114814.76</td>\n",
              "      <td>1431806.10</td>\n",
              "    </tr>\n",
              "    <tr>\n",
              "      <th rowspan=\"8\" valign=\"top\">visits</th>\n",
              "      <th>count</th>\n",
              "      <td>181.00</td>\n",
              "      <td>181.00</td>\n",
              "      <td>181.00</td>\n",
              "      <td>181.00</td>\n",
              "    </tr>\n",
              "    <tr>\n",
              "      <th>mean</th>\n",
              "      <td>19908.39</td>\n",
              "      <td>2704941.31</td>\n",
              "      <td>118488.59</td>\n",
              "      <td>306838.94</td>\n",
              "    </tr>\n",
              "    <tr>\n",
              "      <th>min</th>\n",
              "      <td>4156.00</td>\n",
              "      <td>224163.00</td>\n",
              "      <td>12751.00</td>\n",
              "      <td>72363.00</td>\n",
              "    </tr>\n",
              "    <tr>\n",
              "      <th>25%</th>\n",
              "      <td>14349.00</td>\n",
              "      <td>1924693.00</td>\n",
              "      <td>74832.00</td>\n",
              "      <td>165728.00</td>\n",
              "    </tr>\n",
              "    <tr>\n",
              "      <th>50%</th>\n",
              "      <td>18568.00</td>\n",
              "      <td>2577243.00</td>\n",
              "      <td>103497.00</td>\n",
              "      <td>263379.00</td>\n",
              "    </tr>\n",
              "    <tr>\n",
              "      <th>75%</th>\n",
              "      <td>23278.00</td>\n",
              "      <td>3240419.00</td>\n",
              "      <td>151524.00</td>\n",
              "      <td>383275.00</td>\n",
              "    </tr>\n",
              "    <tr>\n",
              "      <th>max</th>\n",
              "      <td>67643.00</td>\n",
              "      <td>6868946.00</td>\n",
              "      <td>354631.00</td>\n",
              "      <td>2183022.00</td>\n",
              "    </tr>\n",
              "    <tr>\n",
              "      <th>std</th>\n",
              "      <td>8759.93</td>\n",
              "      <td>1206855.15</td>\n",
              "      <td>61679.96</td>\n",
              "      <td>223007.30</td>\n",
              "    </tr>\n",
              "    <tr>\n",
              "      <th rowspan=\"8\" valign=\"top\">revenue_per_visit</th>\n",
              "      <th>count</th>\n",
              "      <td>181.00</td>\n",
              "      <td>181.00</td>\n",
              "      <td>181.00</td>\n",
              "      <td>181.00</td>\n",
              "    </tr>\n",
              "    <tr>\n",
              "      <th>mean</th>\n",
              "      <td>0.77</td>\n",
              "      <td>3.07</td>\n",
              "      <td>2.20</td>\n",
              "      <td>7.23</td>\n",
              "    </tr>\n",
              "    <tr>\n",
              "      <th>min</th>\n",
              "      <td>0.30</td>\n",
              "      <td>0.93</td>\n",
              "      <td>0.77</td>\n",
              "      <td>1.04</td>\n",
              "    </tr>\n",
              "    <tr>\n",
              "      <th>25%</th>\n",
              "      <td>0.61</td>\n",
              "      <td>2.27</td>\n",
              "      <td>1.76</td>\n",
              "      <td>4.13</td>\n",
              "    </tr>\n",
              "    <tr>\n",
              "      <th>50%</th>\n",
              "      <td>0.78</td>\n",
              "      <td>3.03</td>\n",
              "      <td>2.20</td>\n",
              "      <td>6.83</td>\n",
              "    </tr>\n",
              "    <tr>\n",
              "      <th>75%</th>\n",
              "      <td>0.92</td>\n",
              "      <td>3.65</td>\n",
              "      <td>2.62</td>\n",
              "      <td>9.65</td>\n",
              "    </tr>\n",
              "    <tr>\n",
              "      <th>max</th>\n",
              "      <td>1.29</td>\n",
              "      <td>6.37</td>\n",
              "      <td>3.79</td>\n",
              "      <td>18.73</td>\n",
              "    </tr>\n",
              "    <tr>\n",
              "      <th>std</th>\n",
              "      <td>0.21</td>\n",
              "      <td>1.05</td>\n",
              "      <td>0.59</td>\n",
              "      <td>3.79</td>\n",
              "    </tr>\n",
              "  </tbody>\n",
              "</table>\n",
              "</div>"
            ],
            "text/plain": [
              "state                                     CA                   IA  \\\n",
              "date              count                  181                  181   \n",
              "                  mean   2014-04-01 00:00:00  2014-04-01 00:00:00   \n",
              "                  min    2014-01-01 00:00:00  2014-01-01 00:00:00   \n",
              "                  25%    2014-02-15 00:00:00  2014-02-15 00:00:00   \n",
              "                  50%    2014-04-01 00:00:00  2014-04-01 00:00:00   \n",
              "                  75%    2014-05-16 00:00:00  2014-05-16 00:00:00   \n",
              "                  max    2014-06-30 00:00:00  2014-06-30 00:00:00   \n",
              "                  std                    NaN                  NaN   \n",
              "total_orders      count               181.00               181.00   \n",
              "                  mean                568.10             25481.33   \n",
              "                  min                 164.00              3254.00   \n",
              "                  25%                 441.00             19884.00   \n",
              "                  50%                 574.00             26080.00   \n",
              "                  75%                 700.00             30204.00   \n",
              "                  max                 968.00             44035.00   \n",
              "                  std                 175.90              7522.04   \n",
              "revenue           count               181.00               181.00   \n",
              "                  mean              14333.15           7672617.57   \n",
              "                  min                4137.72            721151.48   \n",
              "                  25%               11126.43           5716969.92   \n",
              "                  50%               14482.02           7448461.74   \n",
              "                  75%               17661.00           9521290.74   \n",
              "                  max               24422.64          16056648.30   \n",
              "                  std                4438.03           2888023.31   \n",
              "visits            count               181.00               181.00   \n",
              "                  mean              19908.39           2704941.31   \n",
              "                  min                4156.00            224163.00   \n",
              "                  25%               14349.00           1924693.00   \n",
              "                  50%               18568.00           2577243.00   \n",
              "                  75%               23278.00           3240419.00   \n",
              "                  max               67643.00           6868946.00   \n",
              "                  std                8759.93           1206855.15   \n",
              "revenue_per_visit count               181.00               181.00   \n",
              "                  mean                  0.77                 3.07   \n",
              "                  min                   0.30                 0.93   \n",
              "                  25%                   0.61                 2.27   \n",
              "                  50%                   0.78                 3.03   \n",
              "                  75%                   0.92                 3.65   \n",
              "                  max                   1.29                 6.37   \n",
              "                  std                   0.21                 1.05   \n",
              "\n",
              "state                                     IL                  NYC  \n",
              "date              count                  181                  181  \n",
              "                  mean   2014-04-01 00:00:00  2014-04-01 00:00:00  \n",
              "                  min    2014-01-01 00:00:00  2014-01-01 00:00:00  \n",
              "                  25%    2014-02-15 00:00:00  2014-02-15 00:00:00  \n",
              "                  50%    2014-04-01 00:00:00  2014-04-01 00:00:00  \n",
              "                  75%    2014-05-16 00:00:00  2014-05-16 00:00:00  \n",
              "                  max    2014-06-30 00:00:00  2014-06-30 00:00:00  \n",
              "                  std                    NaN                  NaN  \n",
              "total_orders      count               181.00               181.00  \n",
              "                  mean              11095.65             16334.57  \n",
              "                  min                1507.00              4300.00  \n",
              "                  25%                7281.00             12073.00  \n",
              "                  50%               10198.00             16435.00  \n",
              "                  75%               14594.00             20116.00  \n",
              "                  max               26249.00             34801.00  \n",
              "                  std                5192.89              5959.35  \n",
              "revenue           count               181.00               181.00  \n",
              "                  mean             245324.74           2073591.88  \n",
              "                  min               33319.77            161336.78  \n",
              "                  25%              160982.91            915903.56  \n",
              "                  50%              225477.78           1664845.54  \n",
              "                  75%              322673.34           2879696.52  \n",
              "                  max              580365.39           6529363.62  \n",
              "                  std              114814.76           1431806.10  \n",
              "visits            count               181.00               181.00  \n",
              "                  mean             118488.59            306838.94  \n",
              "                  min               12751.00             72363.00  \n",
              "                  25%               74832.00            165728.00  \n",
              "                  50%              103497.00            263379.00  \n",
              "                  75%              151524.00            383275.00  \n",
              "                  max              354631.00           2183022.00  \n",
              "                  std               61679.96            223007.30  \n",
              "revenue_per_visit count               181.00               181.00  \n",
              "                  mean                  2.20                 7.23  \n",
              "                  min                   0.77                 1.04  \n",
              "                  25%                   1.76                 4.13  \n",
              "                  50%                   2.20                 6.83  \n",
              "                  75%                   2.62                 9.65  \n",
              "                  max                   3.79                18.73  \n",
              "                  std                   0.59                 3.79  "
            ]
          },
          "execution_count": 29,
          "metadata": {},
          "output_type": "execute_result"
        }
      ],
      "source": [
        "df. groupby('state').describe().T\n",
        "#Summary of the data by State.  Group By does a Split>Apply>Combine"
      ]
    }
  ],
  "metadata": {
    "colab": {
      "provenance": []
    },
    "kernelspec": {
      "display_name": "Python 3 (ipykernel)",
      "language": "python",
      "name": "python3"
    },
    "language_info": {
      "codemirror_mode": {
        "name": "ipython",
        "version": 3
      },
      "file_extension": ".py",
      "mimetype": "text/x-python",
      "name": "python",
      "nbconvert_exporter": "python",
      "pygments_lexer": "ipython3",
      "version": "3.11.5"
    },
    "toc": {
      "base_numbering": 1,
      "nav_menu": {},
      "number_sections": true,
      "sideBar": true,
      "skip_h1_title": false,
      "title_cell": "Table of Contents",
      "title_sidebar": "Contents",
      "toc_cell": false,
      "toc_position": {},
      "toc_section_display": true,
      "toc_window_display": false
    }
  },
  "nbformat": 4,
  "nbformat_minor": 5
}
