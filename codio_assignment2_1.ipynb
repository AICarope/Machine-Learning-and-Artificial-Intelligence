{
 "cells": [
  {
   "cell_type": "markdown",
   "metadata": {
    "nbgrader": {
     "grade": false,
     "grade_id": "cell-c569a2c042ebd75d",
     "locked": true,
     "schema_version": 1,
     "solution": false
    }
   },
   "source": [
    "### Required Codio Assignment 2.1: Continuous Uniform Distributions\n",
    "\n",
    "**Expected Time**: 45 Minutes\n",
    "\n",
    "**Total Points**: 10\n",
    "\n",
    "This activity focuses on creating and visualizing continuous probability distributions using `scipy.stats`. You will get practice creating uniform distribution objects, examining their summary statistics (mean, variance, standard deviation), and evaluating and computing probabilities.\n",
    "\n",
    "#### Index:\n",
    "\n",
    "- [Problem 1](#Problem-1:-Creating-a-Distribution-Object)\n",
    "- [Problem 2](#Problem-2:-Descriptive-Statistics-of-Distribution)\n",
    "- [Problem 3](#Problem-3:-Evaluating-Probabilities)\n",
    "- [Problem 4](#Problem-4:-Cumulative-Probabilities)"
   ]
  },
  {
   "cell_type": "code",
   "execution_count": 1,
   "metadata": {
    "nbgrader": {
     "grade": false,
     "grade_id": "cell-73cd3bdc25e348f7",
     "locked": true,
     "schema_version": 1,
     "solution": false
    }
   },
   "outputs": [],
   "source": [
    "from scipy.stats import uniform\n",
    "from scipy.stats import norm\n",
    "import matplotlib.pyplot as plt\n",
    "import numpy as np"
   ]
  },
  {
   "cell_type": "markdown",
   "metadata": {
    "nbgrader": {
     "grade": false,
     "grade_id": "cell-4140f02ccd048b5b",
     "locked": true,
     "schema_version": 1,
     "solution": false
    }
   },
   "source": [
    "[Back to top](#Index:) \n",
    "\n",
    "### Problem 1: Creating a Distribution Object\n",
    "\n",
    "**2 Points**\n",
    "\n",
    "First, use the above imported `uniform` function to create a uniform distribution object with `loc = 10` and `scale = 3`.  Assign your solution as a distribution object to `dist1` below."
   ]
  },
  {
   "cell_type": "code",
   "execution_count": 6,
   "metadata": {
    "nbgrader": {
     "grade": false,
     "grade_id": "cell-49b8f024d62ed17a",
     "locked": false,
     "schema_version": 1,
     "solution": true
    }
   },
   "outputs": [
    {
     "name": "stdout",
     "output_type": "stream",
     "text": [
      "<class 'scipy.stats._distn_infrastructure.rv_continuous_frozen'>\n"
     ]
    }
   ],
   "source": [
    "### GRADED\n",
    "\n",
    "dist1 = ''\n",
    "\n",
    "### BEGIN SOLUTION\n",
    "dist1 = uniform(loc = 10, scale = 3)\n",
    "### END SOLUTION\n",
    "\n",
    "# Answer check\n",
    "print(type(dist1))\n",
    "#Note: UNIFORMS DISTRIBUTION models situations in which the outcomes are btw 2 values, that are equally probable. a= loc and b = sclae (witdth) \n",
    "    #If DISCREATE> diferent outcomes, low andd high values\n",
    "    #If CONTINUOS> all values are possible\n",
    "#Interception btw a and b should be symetrical.\n",
    "\n",
    "\n"
   ]
  },
  {
   "cell_type": "markdown",
   "metadata": {
    "nbgrader": {
     "grade": false,
     "grade_id": "cell-1a7e03f072067e71",
     "locked": true,
     "schema_version": 1,
     "solution": false
    }
   },
   "source": [
    "[Back to top](#Index:) \n",
    "\n",
    "### Problem 2: Descriptive Statistics of Distribution\n",
    "\n",
    "**2 Points**\n",
    "\n",
    "Using your distribution object `dist1` from Problem 1, determine the mean, variance, and standard deviation of the distribution using built-in methods.  Assign the results as floats to the variables `dist1_mean`, `dist1_var`, and `dist1_std`, respectively."
   ]
  },
  {
   "cell_type": "code",
   "execution_count": 7,
   "metadata": {
    "nbgrader": {
     "grade": false,
     "grade_id": "cell-f9b4f824fd625222",
     "locked": false,
     "schema_version": 1,
     "solution": true
    }
   },
   "outputs": [
    {
     "name": "stdout",
     "output_type": "stream",
     "text": [
      "[11.5, 0.75, 0.8660254037844386]\n"
     ]
    }
   ],
   "source": [
    "### GRADED\n",
    "\n",
    "dist1_mean = ''\n",
    "dist1_var = ''\n",
    "dist1_std = ''\n",
    "\n",
    "### BEGIN SOLUTION\n",
    "dist1 = uniform(loc = 10, scale = 3)\n",
    "dist1_mean = dist1.mean()\n",
    "dist1_var = dist1.var()\n",
    "dist1_std = dist1.std()\n",
    "### END SOLUTION\n",
    "\n",
    "# Answer check\n",
    "print([dist1_mean, dist1_var, dist1_std])\n",
    "\n",
    "#Note:\n",
    "# Mean\n",
    "    # Arithmetic average of the data.\n",
    "    # Calculated by adding all the values and dividing them by the number of values\n",
    "\n",
    "# Variance\n",
    "    # A measure of how much the data points differ from the mean on average\n",
    "\n",
    "# Standard deviation\n",
    "    # Square root of the variance, giving a sense of how much data points typically deviate from the mean in the same units as the data.# Population standard deviation"
   ]
  },
  {
   "cell_type": "markdown",
   "metadata": {
    "nbgrader": {
     "grade": false,
     "grade_id": "cell-20319272f910596e",
     "locked": true,
     "schema_version": 1,
     "solution": false
    }
   },
   "source": [
    "[Back to top](#Index:) \n",
    "\n",
    "### Plotting the Distribution                                                              \n",
    "\n",
    "\n",
    "For completeness, the plot of the distribution `dist1` is given below:\n",
    "\n",
    "\n",
    "![](images/dist1.png)\n",
    "\n",
    "\n",
    "\n",
    "\n",
    "\n",
    "\n",
    "\n"
   ]
  },
  {
   "cell_type": "markdown",
   "metadata": {
    "nbgrader": {
     "grade": false,
     "grade_id": "cell-faee5079151ebd9f",
     "locked": true,
     "schema_version": 1,
     "solution": false
    }
   },
   "source": [
    "[Back to top](#Index:) \n",
    "\n",
    "### Problem 3: Evaluating Probabilities \n",
    "\n",
    "**2 Points**\n",
    "\n",
    "Next, you want to evaluate the probability of a specific outcome.  \n",
    "\n",
    "Determine the probabilities below using the `.pdf` method on `dist1`: \n",
    "\n",
    "- Compute $P(9)$ and assign the result to `p_9` as a float.\n",
    "- Compute $P(11)$ and assign the result to `p_11` as a float.\n",
    "- Compute $P(11~ \\text{or} ~12)$ and assign the result to `p_11_or_12` as a float. For this step, sum the probability of $P(11)$ and $P(12)$."
   ]
  },
  {
   "cell_type": "code",
   "execution_count": 9,
   "metadata": {
    "nbgrader": {
     "grade": false,
     "grade_id": "cell-1f288c9a16d0b2a5",
     "locked": false,
     "schema_version": 1,
     "solution": true
    }
   },
   "outputs": [
    {
     "name": "stdout",
     "output_type": "stream",
     "text": [
      "0.0 0.3333333333333333 0.6666666666666666\n"
     ]
    }
   ],
   "source": [
    "### GRADED\n",
    "\n",
    "p_9 = ''\n",
    "p_11 = ''\n",
    "p_11_or_12 = ''\n",
    "\n",
    "### BEGIN SOLUTION\n",
    "p_9 = dist1.pdf(9)\n",
    "p_11 = dist1.pdf(11)\n",
    "p_11_or_12 = dist1.pdf(11) + dist1.pdf(12)\n",
    "### END SOLUTION\n",
    "\n",
    "# Answer check\n",
    "print(p_9, p_11, p_11_or_12)\n",
    "#Note:\n",
    "#PDF In probability theory, a probability density function (PDF), density function, or density of an absolutely continuous random variable, is a function whose value at any given sample (or point) in the sample space (the set of possible values taken by the random variable) can be interpreted as providing a relative likelihood that the value of the random variable would be equal to that sample."
   ]
  },
  {
   "cell_type": "markdown",
   "metadata": {
    "nbgrader": {
     "grade": false,
     "grade_id": "cell-83463fe492cdd74e",
     "locked": true,
     "schema_version": 1,
     "solution": false
    }
   },
   "source": [
    "[Back to top](#Index:) \n",
    "\n",
    "### Problem 4: Cumulative Probabilities\n",
    "\n",
    "**2 Points**\n",
    "\n",
    "The `.cdf` method can be used to determine cumulative probabilities.  \n",
    "\n",
    "Use the `.cdf` method on `dist1` to determine the following cumulative probabilities:\n",
    "\n",
    "\n",
    "- Compute $P(x < 12)$ and assign the result to `p_less_than_12` as a float.\n",
    "- Compute $P(11 < x < 13)$ and assign the result to `p_between_11_and_13` as a float.\n",
    "- Compute  $P(x > 12)$ and assign the result to `p_greater_than_12` as a float.\n",
    "\n"
   ]
  },
  {
   "cell_type": "code",
   "execution_count": 10,
   "metadata": {
    "nbgrader": {
     "grade": false,
     "grade_id": "cell-6a64fed590ac20b9",
     "locked": false,
     "schema_version": 1,
     "solution": true
    }
   },
   "outputs": [
    {
     "name": "stdout",
     "output_type": "stream",
     "text": [
      "0.6666666666666666 0.6666666666666667 0.33333333333333337\n"
     ]
    }
   ],
   "source": [
    "### GRADED\n",
    "\n",
    "p_less_than_12 = ''\n",
    "p_between_11_and_13 = ''\n",
    "p_greater_than_12 = ''\n",
    "\n",
    "### BEGIN SOLUTION\n",
    "p_less_than_12 = dist1.cdf(12)\n",
    "p_between_11_and_13 = dist1.cdf(13) - dist1.cdf(11)\n",
    "p_greater_than_12 = 1 - dist1.cdf(12)\n",
    "### END SOLUTION\n",
    "\n",
    "# Answer check\n",
    "print(p_less_than_12, p_between_11_and_13, p_greater_than_12)\n",
    "\n",
    "#Note: The cumulative distribution function (cdf) gives the probability that the random variable X is less than or equal to x and is usually denoted F(x) . The cumulative distribution function of a random variable X is the function given by F(x)=P[X≤x]."
   ]
  }
 ],
 "metadata": {
  "celltoolbar": "Create Assignment",
  "kernelspec": {
   "display_name": "Python 3 (ipykernel)",
   "language": "python",
   "name": "python3"
  },
  "language_info": {
   "codemirror_mode": {
    "name": "ipython",
    "version": 3
   },
   "file_extension": ".py",
   "mimetype": "text/x-python",
   "name": "python",
   "nbconvert_exporter": "python",
   "pygments_lexer": "ipython3",
   "version": "3.11.5"
  }
 },
 "nbformat": 4,
 "nbformat_minor": 4
}
